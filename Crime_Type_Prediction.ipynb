{
  "cells": [
    {
      "cell_type": "markdown",
      "metadata": {
        "id": "wuaN2uJnmy7k"
      },
      "source": [
        "#EDA & Data Preparation"
      ]
    },
    {
      "cell_type": "markdown",
      "metadata": {
        "id": "EJOnXJNPm1QB"
      },
      "source": [
        "**Dataset infomation**"
      ]
    },
    {
      "cell_type": "code",
      "execution_count": 1,
      "metadata": {
        "id": "1xSq4qw5mK9A"
      },
      "outputs": [],
      "source": [
        "# Import the packages\n",
        "%matplotlib inline\n",
        "from pathlib import Path\n",
        "import numpy as np\n",
        "import pandas as pd\n",
        "import matplotlib.pyplot as plt\n",
        "import seaborn as sns"
      ]
    },
    {
      "cell_type": "code",
      "execution_count": 2,
      "metadata": {
        "colab": {
          "base_uri": "https://localhost:8080/"
        },
        "id": "nR8t-7RqRcH5",
        "outputId": "832380c2-7c7a-4dae-88b4-53b7e21fb260"
      },
      "outputs": [
        {
          "output_type": "stream",
          "name": "stderr",
          "text": [
            "/usr/local/lib/python3.7/dist-packages/IPython/core/interactiveshell.py:3326: DtypeWarning: Columns (25) have mixed types.Specify dtype option on import or set low_memory=False.\n",
            "  exec(code_obj, self.user_global_ns, self.user_ns)\n"
          ]
        }
      ],
      "source": [
        "# Read the csv file\n",
        "mci = pd.read_csv('MCI.csv')"
      ]
    },
    {
      "cell_type": "code",
      "execution_count": null,
      "metadata": {
        "colab": {
          "base_uri": "https://localhost:8080/",
          "height": 631
        },
        "id": "3Rs4Q3JembN1",
        "outputId": "7b64b030-c590-4a5f-ecbf-1606b27306f6"
      },
      "outputs": [
        {
          "name": "stderr",
          "output_type": "stream",
          "text": [
            "/usr/local/lib/python3.7/dist-packages/IPython/core/interactiveshell.py:2882: DtypeWarning: Columns (25) have mixed types.Specify dtype option on import or set low_memory=False.\n",
            "  exec(code_obj, self.user_global_ns, self.user_ns)\n"
          ]
        },
        {
          "data": {
            "text/html": [
              "\n",
              "  <div id=\"df-614c65e1-db2b-41bd-9e48-28324b42ca78\">\n",
              "    <div class=\"colab-df-container\">\n",
              "      <div>\n",
              "<style scoped>\n",
              "    .dataframe tbody tr th:only-of-type {\n",
              "        vertical-align: middle;\n",
              "    }\n",
              "\n",
              "    .dataframe tbody tr th {\n",
              "        vertical-align: top;\n",
              "    }\n",
              "\n",
              "    .dataframe thead th {\n",
              "        text-align: right;\n",
              "    }\n",
              "</style>\n",
              "<table border=\"1\" class=\"dataframe\">\n",
              "  <thead>\n",
              "    <tr style=\"text-align: right;\">\n",
              "      <th></th>\n",
              "      <th>X</th>\n",
              "      <th>Y</th>\n",
              "      <th>Index_</th>\n",
              "      <th>event_unique_id</th>\n",
              "      <th>Division</th>\n",
              "      <th>occurrencedate</th>\n",
              "      <th>reporteddate</th>\n",
              "      <th>location_type</th>\n",
              "      <th>premises_type</th>\n",
              "      <th>ucr_code</th>\n",
              "      <th>...</th>\n",
              "      <th>occurrenceday</th>\n",
              "      <th>occurrencedayofyear</th>\n",
              "      <th>occurrencedayofweek</th>\n",
              "      <th>occurrencehour</th>\n",
              "      <th>MCI</th>\n",
              "      <th>Hood_ID</th>\n",
              "      <th>Neighbourhood</th>\n",
              "      <th>Long</th>\n",
              "      <th>Lat</th>\n",
              "      <th>ObjectId</th>\n",
              "    </tr>\n",
              "  </thead>\n",
              "  <tbody>\n",
              "    <tr>\n",
              "      <th>0</th>\n",
              "      <td>-8859955.190</td>\n",
              "      <td>5424371.891</td>\n",
              "      <td>110</td>\n",
              "      <td>GO-20141625305</td>\n",
              "      <td>D23</td>\n",
              "      <td>2014/03/02 05:00:00+00</td>\n",
              "      <td>2014/03/02 05:00:00+00</td>\n",
              "      <td>Single Home, House (Attach Garage, Cottage, Mo...</td>\n",
              "      <td>House</td>\n",
              "      <td>1430</td>\n",
              "      <td>...</td>\n",
              "      <td>2</td>\n",
              "      <td>61</td>\n",
              "      <td>Sunday</td>\n",
              "      <td>8</td>\n",
              "      <td>Assault</td>\n",
              "      <td>1</td>\n",
              "      <td>West Humber-Clairville</td>\n",
              "      <td>-79.590332</td>\n",
              "      <td>43.734013</td>\n",
              "      <td>1</td>\n",
              "    </tr>\n",
              "    <tr>\n",
              "      <th>1</th>\n",
              "      <td>-8861109.529</td>\n",
              "      <td>5424036.238</td>\n",
              "      <td>188</td>\n",
              "      <td>GO-20141272968</td>\n",
              "      <td>D23</td>\n",
              "      <td>2013/12/24 05:00:00+00</td>\n",
              "      <td>2014/01/03 05:00:00+00</td>\n",
              "      <td>Commercial Dwelling Unit (Hotel, Motel, B &amp; B,...</td>\n",
              "      <td>Commercial</td>\n",
              "      <td>1610</td>\n",
              "      <td>...</td>\n",
              "      <td>24</td>\n",
              "      <td>358</td>\n",
              "      <td>Tuesday</td>\n",
              "      <td>22</td>\n",
              "      <td>Robbery</td>\n",
              "      <td>1</td>\n",
              "      <td>West Humber-Clairville</td>\n",
              "      <td>-79.600701</td>\n",
              "      <td>43.731834</td>\n",
              "      <td>2</td>\n",
              "    </tr>\n",
              "    <tr>\n",
              "      <th>2</th>\n",
              "      <td>-8861119.801</td>\n",
              "      <td>5417042.986</td>\n",
              "      <td>287</td>\n",
              "      <td>GO-20141284361</td>\n",
              "      <td>D23</td>\n",
              "      <td>2013/01/05 05:00:00+00</td>\n",
              "      <td>2014/01/05 05:00:00+00</td>\n",
              "      <td>Commercial Dwelling Unit (Hotel, Motel, B &amp; B,...</td>\n",
              "      <td>Commercial</td>\n",
              "      <td>1430</td>\n",
              "      <td>...</td>\n",
              "      <td>5</td>\n",
              "      <td>5</td>\n",
              "      <td>Saturday</td>\n",
              "      <td>4</td>\n",
              "      <td>Assault</td>\n",
              "      <td>1</td>\n",
              "      <td>West Humber-Clairville</td>\n",
              "      <td>-79.600794</td>\n",
              "      <td>43.686423</td>\n",
              "      <td>3</td>\n",
              "    </tr>\n",
              "    <tr>\n",
              "      <th>3</th>\n",
              "      <td>-8861462.901</td>\n",
              "      <td>5425855.512</td>\n",
              "      <td>384</td>\n",
              "      <td>GO-20141292177</td>\n",
              "      <td>D23</td>\n",
              "      <td>2013/12/31 05:00:00+00</td>\n",
              "      <td>2014/01/06 05:00:00+00</td>\n",
              "      <td>Other Commercial / Corporate Places (For Profi...</td>\n",
              "      <td>Commercial</td>\n",
              "      <td>2120</td>\n",
              "      <td>...</td>\n",
              "      <td>31</td>\n",
              "      <td>365</td>\n",
              "      <td>Tuesday</td>\n",
              "      <td>21</td>\n",
              "      <td>Break and Enter</td>\n",
              "      <td>1</td>\n",
              "      <td>West Humber-Clairville</td>\n",
              "      <td>-79.603876</td>\n",
              "      <td>43.743642</td>\n",
              "      <td>4</td>\n",
              "    </tr>\n",
              "    <tr>\n",
              "      <th>4</th>\n",
              "      <td>-8859522.263</td>\n",
              "      <td>5418688.023</td>\n",
              "      <td>438</td>\n",
              "      <td>GO-20141297201</td>\n",
              "      <td>D23</td>\n",
              "      <td>2014/01/03 05:00:00+00</td>\n",
              "      <td>2014/01/07 05:00:00+00</td>\n",
              "      <td>Other Commercial / Corporate Places (For Profi...</td>\n",
              "      <td>Commercial</td>\n",
              "      <td>2120</td>\n",
              "      <td>...</td>\n",
              "      <td>3</td>\n",
              "      <td>3</td>\n",
              "      <td>Friday</td>\n",
              "      <td>10</td>\n",
              "      <td>Break and Enter</td>\n",
              "      <td>1</td>\n",
              "      <td>West Humber-Clairville</td>\n",
              "      <td>-79.586443</td>\n",
              "      <td>43.697108</td>\n",
              "      <td>5</td>\n",
              "    </tr>\n",
              "  </tbody>\n",
              "</table>\n",
              "<p>5 rows × 30 columns</p>\n",
              "</div>\n",
              "      <button class=\"colab-df-convert\" onclick=\"convertToInteractive('df-614c65e1-db2b-41bd-9e48-28324b42ca78')\"\n",
              "              title=\"Convert this dataframe to an interactive table.\"\n",
              "              style=\"display:none;\">\n",
              "        \n",
              "  <svg xmlns=\"http://www.w3.org/2000/svg\" height=\"24px\"viewBox=\"0 0 24 24\"\n",
              "       width=\"24px\">\n",
              "    <path d=\"M0 0h24v24H0V0z\" fill=\"none\"/>\n",
              "    <path d=\"M18.56 5.44l.94 2.06.94-2.06 2.06-.94-2.06-.94-.94-2.06-.94 2.06-2.06.94zm-11 1L8.5 8.5l.94-2.06 2.06-.94-2.06-.94L8.5 2.5l-.94 2.06-2.06.94zm10 10l.94 2.06.94-2.06 2.06-.94-2.06-.94-.94-2.06-.94 2.06-2.06.94z\"/><path d=\"M17.41 7.96l-1.37-1.37c-.4-.4-.92-.59-1.43-.59-.52 0-1.04.2-1.43.59L10.3 9.45l-7.72 7.72c-.78.78-.78 2.05 0 2.83L4 21.41c.39.39.9.59 1.41.59.51 0 1.02-.2 1.41-.59l7.78-7.78 2.81-2.81c.8-.78.8-2.07 0-2.86zM5.41 20L4 18.59l7.72-7.72 1.47 1.35L5.41 20z\"/>\n",
              "  </svg>\n",
              "      </button>\n",
              "      \n",
              "  <style>\n",
              "    .colab-df-container {\n",
              "      display:flex;\n",
              "      flex-wrap:wrap;\n",
              "      gap: 12px;\n",
              "    }\n",
              "\n",
              "    .colab-df-convert {\n",
              "      background-color: #E8F0FE;\n",
              "      border: none;\n",
              "      border-radius: 50%;\n",
              "      cursor: pointer;\n",
              "      display: none;\n",
              "      fill: #1967D2;\n",
              "      height: 32px;\n",
              "      padding: 0 0 0 0;\n",
              "      width: 32px;\n",
              "    }\n",
              "\n",
              "    .colab-df-convert:hover {\n",
              "      background-color: #E2EBFA;\n",
              "      box-shadow: 0px 1px 2px rgba(60, 64, 67, 0.3), 0px 1px 3px 1px rgba(60, 64, 67, 0.15);\n",
              "      fill: #174EA6;\n",
              "    }\n",
              "\n",
              "    [theme=dark] .colab-df-convert {\n",
              "      background-color: #3B4455;\n",
              "      fill: #D2E3FC;\n",
              "    }\n",
              "\n",
              "    [theme=dark] .colab-df-convert:hover {\n",
              "      background-color: #434B5C;\n",
              "      box-shadow: 0px 1px 3px 1px rgba(0, 0, 0, 0.15);\n",
              "      filter: drop-shadow(0px 1px 2px rgba(0, 0, 0, 0.3));\n",
              "      fill: #FFFFFF;\n",
              "    }\n",
              "  </style>\n",
              "\n",
              "      <script>\n",
              "        const buttonEl =\n",
              "          document.querySelector('#df-614c65e1-db2b-41bd-9e48-28324b42ca78 button.colab-df-convert');\n",
              "        buttonEl.style.display =\n",
              "          google.colab.kernel.accessAllowed ? 'block' : 'none';\n",
              "\n",
              "        async function convertToInteractive(key) {\n",
              "          const element = document.querySelector('#df-614c65e1-db2b-41bd-9e48-28324b42ca78');\n",
              "          const dataTable =\n",
              "            await google.colab.kernel.invokeFunction('convertToInteractive',\n",
              "                                                     [key], {});\n",
              "          if (!dataTable) return;\n",
              "\n",
              "          const docLinkHtml = 'Like what you see? Visit the ' +\n",
              "            '<a target=\"_blank\" href=https://colab.research.google.com/notebooks/data_table.ipynb>data table notebook</a>'\n",
              "            + ' to learn more about interactive tables.';\n",
              "          element.innerHTML = '';\n",
              "          dataTable['output_type'] = 'display_data';\n",
              "          await google.colab.output.renderOutput(dataTable, element);\n",
              "          const docLink = document.createElement('div');\n",
              "          docLink.innerHTML = docLinkHtml;\n",
              "          element.appendChild(docLink);\n",
              "        }\n",
              "      </script>\n",
              "    </div>\n",
              "  </div>\n",
              "  "
            ],
            "text/plain": [
              "             X            Y  Index_ event_unique_id Division  \\\n",
              "0 -8859955.190  5424371.891     110  GO-20141625305      D23   \n",
              "1 -8861109.529  5424036.238     188  GO-20141272968      D23   \n",
              "2 -8861119.801  5417042.986     287  GO-20141284361      D23   \n",
              "3 -8861462.901  5425855.512     384  GO-20141292177      D23   \n",
              "4 -8859522.263  5418688.023     438  GO-20141297201      D23   \n",
              "\n",
              "           occurrencedate            reporteddate  \\\n",
              "0  2014/03/02 05:00:00+00  2014/03/02 05:00:00+00   \n",
              "1  2013/12/24 05:00:00+00  2014/01/03 05:00:00+00   \n",
              "2  2013/01/05 05:00:00+00  2014/01/05 05:00:00+00   \n",
              "3  2013/12/31 05:00:00+00  2014/01/06 05:00:00+00   \n",
              "4  2014/01/03 05:00:00+00  2014/01/07 05:00:00+00   \n",
              "\n",
              "                                       location_type premises_type  ucr_code  \\\n",
              "0  Single Home, House (Attach Garage, Cottage, Mo...         House      1430   \n",
              "1  Commercial Dwelling Unit (Hotel, Motel, B & B,...    Commercial      1610   \n",
              "2  Commercial Dwelling Unit (Hotel, Motel, B & B,...    Commercial      1430   \n",
              "3  Other Commercial / Corporate Places (For Profi...    Commercial      2120   \n",
              "4  Other Commercial / Corporate Places (For Profi...    Commercial      2120   \n",
              "\n",
              "   ...  occurrenceday occurrencedayofyear  occurrencedayofweek occurrencehour  \\\n",
              "0  ...              2                  61               Sunday              8   \n",
              "1  ...             24                 358              Tuesday             22   \n",
              "2  ...              5                   5             Saturday              4   \n",
              "3  ...             31                 365              Tuesday             21   \n",
              "4  ...              3                   3               Friday             10   \n",
              "\n",
              "               MCI  Hood_ID           Neighbourhood       Long        Lat  \\\n",
              "0          Assault        1  West Humber-Clairville -79.590332  43.734013   \n",
              "1          Robbery        1  West Humber-Clairville -79.600701  43.731834   \n",
              "2          Assault        1  West Humber-Clairville -79.600794  43.686423   \n",
              "3  Break and Enter        1  West Humber-Clairville -79.603876  43.743642   \n",
              "4  Break and Enter        1  West Humber-Clairville -79.586443  43.697108   \n",
              "\n",
              "  ObjectId  \n",
              "0        1  \n",
              "1        2  \n",
              "2        3  \n",
              "3        4  \n",
              "4        5  \n",
              "\n",
              "[5 rows x 30 columns]"
            ]
          },
          "execution_count": 2,
          "metadata": {},
          "output_type": "execute_result"
        }
      ],
      "source": [
        "# Head\n",
        "mci.head()"
      ]
    },
    {
      "cell_type": "code",
      "execution_count": null,
      "metadata": {
        "colab": {
          "base_uri": "https://localhost:8080/"
        },
        "id": "rkrGYltNmeuF",
        "outputId": "eae8d74f-6112-4783-d4a7-c32c9406106f"
      },
      "outputs": [
        {
          "data": {
            "text/plain": [
              "(281692, 30)"
            ]
          },
          "execution_count": 4,
          "metadata": {},
          "output_type": "execute_result"
        }
      ],
      "source": [
        "# Check the shape\n",
        "mci.shape"
      ]
    },
    {
      "cell_type": "code",
      "execution_count": null,
      "metadata": {
        "colab": {
          "base_uri": "https://localhost:8080/"
        },
        "id": "yEcnHl8CmhEP",
        "outputId": "e0f1ca59-292c-48d9-e8a7-c882dd004412"
      },
      "outputs": [
        {
          "data": {
            "text/plain": [
              "Index(['X', 'Y', 'Index_', 'event_unique_id', 'Division', 'occurrencedate',\n",
              "       'reporteddate', 'location_type', 'premises_type', 'ucr_code', 'ucr_ext',\n",
              "       'offence', 'reportedyear', 'reportedmonth', 'reportedday',\n",
              "       'reporteddayofyear', 'reporteddayofweek', 'reportedhour',\n",
              "       'occurrenceyear', 'occurrencemonth', 'occurrenceday',\n",
              "       'occurrencedayofyear', 'occurrencedayofweek', 'occurrencehour', 'MCI',\n",
              "       'Hood_ID', 'Neighbourhood', 'Long', 'Lat', 'ObjectId'],\n",
              "      dtype='object')"
            ]
          },
          "execution_count": 5,
          "metadata": {},
          "output_type": "execute_result"
        }
      ],
      "source": [
        "# Check the column names\n",
        "mci.columns"
      ]
    },
    {
      "cell_type": "code",
      "execution_count": 3,
      "metadata": {
        "colab": {
          "base_uri": "https://localhost:8080/"
        },
        "id": "PMgdRYjCmj06",
        "outputId": "0ac0f0dd-8805-497d-b6bf-6eccadfe78c0"
      },
      "outputs": [
        {
          "output_type": "execute_result",
          "data": {
            "text/plain": [
              "Index(['X', 'Y', 'Index', 'event_unique_id', 'Division', 'occurrencedate',\n",
              "       'reporteddate', 'location_type', 'premises_type', 'ucr_code', 'ucr_ext',\n",
              "       'offence', 'reportedyear', 'reportedmonth', 'reportedday',\n",
              "       'reporteddayofyear', 'reporteddayofweek', 'reportedhour',\n",
              "       'occurrenceyear', 'occurrencemonth', 'occurrenceday',\n",
              "       'occurrencedayofyear', 'occurrencedayofweek', 'occurrencehour', 'MCI',\n",
              "       'Hood_ID', 'Neighbourhood', 'Long', 'Lat', 'ObjectId'],\n",
              "      dtype='object')"
            ]
          },
          "metadata": {},
          "execution_count": 3
        }
      ],
      "source": [
        "# Change the column name\n",
        "mci = mci.rename(columns = {'Index_' : 'Index'})\n",
        "mci.columns"
      ]
    },
    {
      "cell_type": "markdown",
      "metadata": {
        "id": "QRne80i6nPSE"
      },
      "source": [
        "Only occurrencemonth and occurrencedayofweek have null values."
      ]
    },
    {
      "cell_type": "markdown",
      "metadata": {
        "id": "oZqLISPGm4qi"
      },
      "source": [
        "**Variable information**"
      ]
    },
    {
      "cell_type": "code",
      "execution_count": null,
      "metadata": {
        "colab": {
          "base_uri": "https://localhost:8080/"
        },
        "id": "yQZ-asxUmnkB",
        "outputId": "c64fd2c9-6668-43a2-c197-be4eadb257f6"
      },
      "outputs": [
        {
          "name": "stdout",
          "output_type": "stream",
          "text": [
            "X                       0\n",
            "Y                       0\n",
            "Index                   0\n",
            "event_unique_id         0\n",
            "Division                0\n",
            "occurrencedate          0\n",
            "reporteddate            0\n",
            "location_type           0\n",
            "premises_type           0\n",
            "ucr_code                0\n",
            "ucr_ext                 0\n",
            "offence                 0\n",
            "reportedyear            0\n",
            "reportedmonth           0\n",
            "reportedday             0\n",
            "reporteddayofyear       0\n",
            "reporteddayofweek       0\n",
            "reportedhour            0\n",
            "occurrenceyear          0\n",
            "occurrencemonth        95\n",
            "occurrenceday           0\n",
            "occurrencedayofyear     0\n",
            "occurrencedayofweek    95\n",
            "occurrencehour          0\n",
            "MCI                     0\n",
            "Hood_ID                 0\n",
            "Neighbourhood           0\n",
            "Long                    0\n",
            "Lat                     0\n",
            "ObjectId                0\n",
            "dtype: int64\n"
          ]
        }
      ],
      "source": [
        "# Check the null values\n",
        "print(mci.isnull().sum())"
      ]
    },
    {
      "cell_type": "code",
      "execution_count": null,
      "metadata": {
        "colab": {
          "base_uri": "https://localhost:8080/"
        },
        "id": "nGjBIG6Rmtpm",
        "outputId": "571921ee-6116-4c2b-ad6e-1a9eac49c007"
      },
      "outputs": [
        {
          "data": {
            "text/plain": [
              "Outside        74899\n",
              "Apartment      67468\n",
              "Commercial     56973\n",
              "House          50689\n",
              "Other          16394\n",
              "Transit         7886\n",
              "Educational     7383\n",
              "Name: premises_type, dtype: int64"
            ]
          },
          "execution_count": 5,
          "metadata": {},
          "output_type": "execute_result"
        }
      ],
      "source": [
        "# Check the similar columns\n",
        "# location_type and premises_type\n",
        "mci.premises_type .value_counts()"
      ]
    },
    {
      "cell_type": "code",
      "execution_count": null,
      "metadata": {
        "colab": {
          "base_uri": "https://localhost:8080/"
        },
        "id": "cAXfMIFdnmaM",
        "outputId": "23b5a6b6-8515-4a2f-f44d-266eb8a6e94e"
      },
      "outputs": [
        {
          "data": {
            "text/plain": [
              "Apartment (Rooming House, Condo)                                          67468\n",
              "Single Home, House (Attach Garage, Cottage, Mobile)                       50689\n",
              "Streets, Roads, Highways (Bicycle Path, Private Road)                     44763\n",
              "Other Commercial / Corporate Places (For Profit, Warehouse, Corp. Bldg    32462\n",
              "Parking Lots (Apt., Commercial Or Non-Commercial)                         23301\n",
              "Bar / Restaurant                                                          11342\n",
              "Open Areas (Lakes, Parks, Rivers)                                          6032\n",
              "Schools During Supervised Activity                                         4332\n",
              "Convenience Stores                                                         3600\n",
              "Ttc Subway Station                                                         3315\n",
              "Commercial Dwelling Unit (Hotel, Motel, B & B, Short Term Rental)          3270\n",
              "Schools During Un-Supervised Activity                                      2521\n",
              "Hospital / Institutions / Medical Facilities (Clinic, Dentist, Morgue)     2500\n",
              "Ttc Bus                                                                    2489\n",
              "Private Property Structure (Pool, Shed, Detached Garage)                   2476\n",
              "Other Non Commercial / Corporate Places (Non-Profit, Gov'T, Firehall)      2424\n",
              "Jails / Detention Centres                                                  1750\n",
              "Construction Site (Warehouse, Trailer, Shed)                               1714\n",
              "Bank And Other Financial Institutions (Money Mart, Tsx)                    1713\n",
              "Homeless Shelter / Mission                                                 1706\n",
              "Gas Station (Self, Full, Attached Convenience)                             1465\n",
              "Dealership (Car, Motorcycle, Marine, Trailer, Etc.)                        1407\n",
              "Group Homes (Non-Profit, Halfway House, Social Agency)                     1369\n",
              "Police / Courts (Parole Board, Probation Office)                            826\n",
              "Ttc Bus Stop / Shelter / Loop                                               786\n",
              "Ttc Subway Train                                                            745\n",
              "Religious Facilities (Synagogue, Church, Convent, Mosque)                   694\n",
              "Unknown                                                                     693\n",
              "Nursing Home                                                                643\n",
              "Pharmacy                                                                    571\n",
              "Universities / Colleges                                                     530\n",
              "Retirement Home                                                             492\n",
              "Ttc Street Car                                                              458\n",
              "Go Station                                                                  337\n",
              "Community Group Home                                                        198\n",
              "Other Regional Transit System Vehicle                                        97\n",
              "Other Passenger Train Station                                                87\n",
              "Ttc Light Rail Transit Station                                               78\n",
              "Go Bus                                                                       65\n",
              "Go Train                                                                     57\n",
              "Ttc Admin Or Support Facility                                                30\n",
              "Ttc Bus Garage                                                               30\n",
              "Halfway House                                                                29\n",
              "Other Passenger Train                                                        28\n",
              "Ttc Light Rail Vehicle                                                       25\n",
              "Ttc Subway Tunnel / Outdoor Tracks                                           17\n",
              "Other Train Yard                                                             17\n",
              "Other Train Tracks                                                           16\n",
              "Other Train Admin Or Support Facility                                        15\n",
              "Ttc Wheel Trans Vehicle                                                      11\n",
              "Cargo Train                                                                   7\n",
              "Ttc Support Vehicle                                                           2\n",
              "Name: location_type, dtype: int64"
            ]
          },
          "execution_count": 6,
          "metadata": {},
          "output_type": "execute_result"
        }
      ],
      "source": [
        "mci.location_type .value_counts()"
      ]
    },
    {
      "cell_type": "markdown",
      "metadata": {
        "id": "tB6R4h2rnod2"
      },
      "source": [
        "The values in location_type are aggregated into fewer categories in premises_type."
      ]
    },
    {
      "cell_type": "code",
      "execution_count": null,
      "metadata": {
        "colab": {
          "base_uri": "https://localhost:8080/"
        },
        "id": "UbiVnj6uoQf1",
        "outputId": "b13fa900-d068-4a18-f61c-391f60323863"
      },
      "outputs": [
        {
          "data": {
            "text/plain": [
              "Assault            151808\n",
              "Break and Enter     56466\n",
              "Auto Theft          36334\n",
              "Robbery             27820\n",
              "Theft Over           9264\n",
              "Name: MCI, dtype: int64"
            ]
          },
          "execution_count": 3,
          "metadata": {},
          "output_type": "execute_result"
        }
      ],
      "source": [
        "# Check the similar columns\n",
        "# offence and MCI\n",
        "mci.MCI.value_counts()"
      ]
    },
    {
      "cell_type": "code",
      "execution_count": null,
      "metadata": {
        "colab": {
          "base_uri": "https://localhost:8080/"
        },
        "id": "luxMozXMoVVk",
        "outputId": "57c8f7e2-97be-49d3-db43-f27e84e918fa"
      },
      "outputs": [
        {
          "data": {
            "text/plain": [
              "Assault                           103627\n",
              "B&E                                47662\n",
              "Theft Of Motor Vehicle             36334\n",
              "Assault With Weapon                25345\n",
              "Robbery - Mugging                   8159\n",
              "B&E W'Intent                        6977\n",
              "Assault Bodily Harm                 6682\n",
              "Theft Over                          5164\n",
              "Assault Peace Officer               4845\n",
              "Robbery - Other                     4605\n",
              "Robbery With Weapon                 4561\n",
              "Robbery - Business                  3975\n",
              "Assault - Resist/ Prevent Seiz      2888\n",
              "Aggravated Assault                  2384\n",
              "Theft From Motor Vehicle Over       2245\n",
              "Robbery - Swarming                  2242\n",
              "Discharge Firearm With Intent       1929\n",
              "Unlawfully In Dwelling-House        1704\n",
              "Discharge Firearm - Recklessly      1330\n",
              "Theft From Mail / Bag / Key         1121\n",
              "Robbery - Home Invasion             1077\n",
              "Pointing A Firearm                  1040\n",
              "Robbery - Purse Snatch              1010\n",
              "Robbery - Financial Institute        861\n",
              "Robbery - Vehicle Jacking            655\n",
              "Assault Peace Officer Wpn/Cbh        508\n",
              "Theft Over - Shoplifting             459\n",
              "Administering Noxious Thing          427\n",
              "Assault - Force/Thrt/Impede          348\n",
              "Robbery - Delivery Person            268\n",
              "Robbery - Taxi                       256\n",
              "Use Firearm / Immit Commit Off       169\n",
              "Theft Over - Bicycle                 126\n",
              "Theft Over - Distraction             109\n",
              "Disarming Peace/Public Officer       104\n",
              "B&E Out                               99\n",
              "Robbery - Atm                         99\n",
              "Crim Negligence Bodily Harm           99\n",
              "Robbery - Armoured Car                51\n",
              "Theft - Misapprop Funds Over          35\n",
              "Air Gun Or Pistol: Bodily Harm        25\n",
              "Aggravated Aslt Peace Officer         22\n",
              "Aggravated Assault Avails Pros        19\n",
              "B&E - M/Veh To Steal Firearm          13\n",
              "Unlawfully Causing Bodily Harm        13\n",
              "B&E - To Steal Firearm                11\n",
              "Theft Of Utilities Over                5\n",
              "Set/Place Trap/Intend Death/Bh         2\n",
              "Traps Likely Cause Bodily Harm         2\n",
              "Robbery To Steal Firearm               1\n",
              "Name: offence, dtype: int64"
            ]
          },
          "execution_count": 8,
          "metadata": {},
          "output_type": "execute_result"
        }
      ],
      "source": [
        "mci.offence.value_counts()"
      ]
    },
    {
      "cell_type": "markdown",
      "metadata": {
        "id": "obYItZXtosjq"
      },
      "source": [
        "The values in offence are aggregated into fewer categories in MCI."
      ]
    },
    {
      "cell_type": "markdown",
      "metadata": {
        "id": "RZCWXiw9ohjI"
      },
      "source": [
        "**Drop the unnecessary columns**"
      ]
    },
    {
      "cell_type": "markdown",
      "metadata": {
        "id": "lNGAsgjgomT5"
      },
      "source": [
        "'X', 'Y' : Unaccounted in the descreption\n",
        "\n",
        "'Index', 'event_unique_id', 'ObjectId' : Related to ID\n",
        "\n",
        "'ucr_code', 'ucr_ext' : Determined after the crime type was identified\n",
        "\n",
        "'occurrencedate', ‘occurrenceyear’, 'occurrencemonth', 'occurrenceday', 'occurrencedayofyear', 'occurrencedayofweek', 'occurrencehour' : Since 'occurrencemonth' and 'occurrencedayofweek' have null data, I take the 'reported' columns for date/hour data\n",
        "\n",
        "'reporteddate’, ‘reportedyear’, 'reporteddayofyear' : The values of 'reporteddate' is separated into‘reportedyear’, 'reportedmonth', 'reportedday', 'reportedhour'\n",
        "\n",
        "'reportedyear', 'reporteddayofyear' : Instead of using them, I take 'reportedmonth', 'reportedday', 'reportedhour' for the time information\n",
        "\n",
        "'location_type' : The values in 'premises_type'  are aggregated into fewer categories in 'location_type' \n",
        "\n",
        "'offence' : The values in 'offence' are aggregated into fewer categories in 'MCI'.\n",
        "\n",
        "‘Hood_ID' : Related to the 'Neighbourfood' column"
      ]
    },
    {
      "cell_type": "code",
      "execution_count": 4,
      "metadata": {
        "id": "KULXfEpTpGfN"
      },
      "outputs": [],
      "source": [
        "# Drop unnecessary columns\n",
        "mci = mci.drop(['Index', 'event_unique_id', 'ucr_code', 'ucr_ext', 'Hood_ID', 'ObjectId', \n",
        "                'X', 'Y', 'occurrencedate', 'occurrenceyear', 'occurrencemonth', 'occurrenceday',\n",
        "                'occurrencedayofyear', 'occurrencedayofweek', 'occurrencehour', 'location_type',\n",
        "                'offence', 'reporteddate', 'reportedyear', 'reporteddayofyear'], axis=1)"
      ]
    },
    {
      "cell_type": "markdown",
      "metadata": {
        "id": "OgJClFsBpTxH"
      },
      "source": [
        "**Data types**"
      ]
    },
    {
      "cell_type": "code",
      "execution_count": null,
      "metadata": {
        "colab": {
          "base_uri": "https://localhost:8080/"
        },
        "id": "RRLz0opypYL9",
        "outputId": "c18fa833-f1b5-4f97-ac58-28ae62d5655c"
      },
      "outputs": [
        {
          "output_type": "execute_result",
          "data": {
            "text/plain": [
              "Division             category\n",
              "premises_type        category\n",
              "reportedmonth        category\n",
              "reportedday          category\n",
              "reporteddayofweek    category\n",
              "reportedhour         category\n",
              "MCI                  category\n",
              "Neighbourhood        category\n",
              "Long                  float64\n",
              "Lat                   float64\n",
              "dtype: object"
            ]
          },
          "metadata": {},
          "execution_count": 6
        }
      ],
      "source": [
        "# Check the datatypes\n",
        "mci.dtypes"
      ]
    },
    {
      "cell_type": "code",
      "execution_count": 5,
      "metadata": {
        "colab": {
          "base_uri": "https://localhost:8080/"
        },
        "id": "ef2lKhwspdXg",
        "outputId": "cccb715f-c91a-40f4-99ee-27624c53b84e"
      },
      "outputs": [
        {
          "output_type": "execute_result",
          "data": {
            "text/plain": [
              "Division             category\n",
              "premises_type        category\n",
              "reportedmonth        category\n",
              "reportedday          category\n",
              "reporteddayofweek    category\n",
              "reportedhour         category\n",
              "MCI                  category\n",
              "Neighbourhood        category\n",
              "Long                  float64\n",
              "Lat                   float64\n",
              "dtype: object"
            ]
          },
          "metadata": {},
          "execution_count": 5
        }
      ],
      "source": [
        "# Convert to category\n",
        "mci.Division =mci.Division.astype('category')\n",
        "mci.premises_type =mci.premises_type.astype('category')\n",
        "mci.reportedmonth =mci.reportedmonth.astype('category')\n",
        "mci.reportedday =mci.reportedday.astype('category')\n",
        "mci.reporteddayofweek =mci.reporteddayofweek.astype('category')\n",
        "mci.reportedhour =mci.reportedhour.astype('category')\n",
        "mci.MCI  =mci.MCI .astype('category')\n",
        "mci.Neighbourhood =mci.Neighbourhood.astype('category')\n",
        "mci.dtypes"
      ]
    },
    {
      "cell_type": "markdown",
      "metadata": {
        "id": "tbAaqIegqjkY"
      },
      "source": [
        "**Variable exploration: categorical**"
      ]
    },
    {
      "cell_type": "markdown",
      "metadata": {
        "id": "By-QSVQTqm_B"
      },
      "source": [
        "1. MCI (Target variable)"
      ]
    },
    {
      "cell_type": "code",
      "execution_count": null,
      "metadata": {
        "colab": {
          "base_uri": "https://localhost:8080/"
        },
        "id": "R0N-xvTFIHxb",
        "outputId": "261a66b0-ffc8-42b4-96df-0ed561bba231"
      },
      "outputs": [
        {
          "output_type": "execute_result",
          "data": {
            "text/plain": [
              "Assault            151808\n",
              "Break and Enter     56466\n",
              "Auto Theft          36334\n",
              "Robbery             27820\n",
              "Theft Over           9264\n",
              "Name: MCI, dtype: int64"
            ]
          },
          "metadata": {},
          "execution_count": 7
        }
      ],
      "source": [
        "mci_bar = mci.MCI.value_counts()\n",
        "mci_bar"
      ]
    },
    {
      "cell_type": "code",
      "execution_count": null,
      "metadata": {
        "colab": {
          "base_uri": "https://localhost:8080/",
          "height": 206
        },
        "id": "ahI9uX18IRVe",
        "outputId": "d23932cd-bf47-44c3-92b6-70b7b3207761"
      },
      "outputs": [
        {
          "output_type": "execute_result",
          "data": {
            "text/plain": [
              "        Crime_type  Counts\n",
              "0          Assault  151808\n",
              "1  Break and Enter   56466\n",
              "2       Auto Theft   36334\n",
              "3          Robbery   27820\n",
              "4       Theft Over    9264"
            ],
            "text/html": [
              "\n",
              "  <div id=\"df-42a3c894-320c-4e44-ac6c-432755f3a85b\">\n",
              "    <div class=\"colab-df-container\">\n",
              "      <div>\n",
              "<style scoped>\n",
              "    .dataframe tbody tr th:only-of-type {\n",
              "        vertical-align: middle;\n",
              "    }\n",
              "\n",
              "    .dataframe tbody tr th {\n",
              "        vertical-align: top;\n",
              "    }\n",
              "\n",
              "    .dataframe thead th {\n",
              "        text-align: right;\n",
              "    }\n",
              "</style>\n",
              "<table border=\"1\" class=\"dataframe\">\n",
              "  <thead>\n",
              "    <tr style=\"text-align: right;\">\n",
              "      <th></th>\n",
              "      <th>Crime_type</th>\n",
              "      <th>Counts</th>\n",
              "    </tr>\n",
              "  </thead>\n",
              "  <tbody>\n",
              "    <tr>\n",
              "      <th>0</th>\n",
              "      <td>Assault</td>\n",
              "      <td>151808</td>\n",
              "    </tr>\n",
              "    <tr>\n",
              "      <th>1</th>\n",
              "      <td>Break and Enter</td>\n",
              "      <td>56466</td>\n",
              "    </tr>\n",
              "    <tr>\n",
              "      <th>2</th>\n",
              "      <td>Auto Theft</td>\n",
              "      <td>36334</td>\n",
              "    </tr>\n",
              "    <tr>\n",
              "      <th>3</th>\n",
              "      <td>Robbery</td>\n",
              "      <td>27820</td>\n",
              "    </tr>\n",
              "    <tr>\n",
              "      <th>4</th>\n",
              "      <td>Theft Over</td>\n",
              "      <td>9264</td>\n",
              "    </tr>\n",
              "  </tbody>\n",
              "</table>\n",
              "</div>\n",
              "      <button class=\"colab-df-convert\" onclick=\"convertToInteractive('df-42a3c894-320c-4e44-ac6c-432755f3a85b')\"\n",
              "              title=\"Convert this dataframe to an interactive table.\"\n",
              "              style=\"display:none;\">\n",
              "        \n",
              "  <svg xmlns=\"http://www.w3.org/2000/svg\" height=\"24px\"viewBox=\"0 0 24 24\"\n",
              "       width=\"24px\">\n",
              "    <path d=\"M0 0h24v24H0V0z\" fill=\"none\"/>\n",
              "    <path d=\"M18.56 5.44l.94 2.06.94-2.06 2.06-.94-2.06-.94-.94-2.06-.94 2.06-2.06.94zm-11 1L8.5 8.5l.94-2.06 2.06-.94-2.06-.94L8.5 2.5l-.94 2.06-2.06.94zm10 10l.94 2.06.94-2.06 2.06-.94-2.06-.94-.94-2.06-.94 2.06-2.06.94z\"/><path d=\"M17.41 7.96l-1.37-1.37c-.4-.4-.92-.59-1.43-.59-.52 0-1.04.2-1.43.59L10.3 9.45l-7.72 7.72c-.78.78-.78 2.05 0 2.83L4 21.41c.39.39.9.59 1.41.59.51 0 1.02-.2 1.41-.59l7.78-7.78 2.81-2.81c.8-.78.8-2.07 0-2.86zM5.41 20L4 18.59l7.72-7.72 1.47 1.35L5.41 20z\"/>\n",
              "  </svg>\n",
              "      </button>\n",
              "      \n",
              "  <style>\n",
              "    .colab-df-container {\n",
              "      display:flex;\n",
              "      flex-wrap:wrap;\n",
              "      gap: 12px;\n",
              "    }\n",
              "\n",
              "    .colab-df-convert {\n",
              "      background-color: #E8F0FE;\n",
              "      border: none;\n",
              "      border-radius: 50%;\n",
              "      cursor: pointer;\n",
              "      display: none;\n",
              "      fill: #1967D2;\n",
              "      height: 32px;\n",
              "      padding: 0 0 0 0;\n",
              "      width: 32px;\n",
              "    }\n",
              "\n",
              "    .colab-df-convert:hover {\n",
              "      background-color: #E2EBFA;\n",
              "      box-shadow: 0px 1px 2px rgba(60, 64, 67, 0.3), 0px 1px 3px 1px rgba(60, 64, 67, 0.15);\n",
              "      fill: #174EA6;\n",
              "    }\n",
              "\n",
              "    [theme=dark] .colab-df-convert {\n",
              "      background-color: #3B4455;\n",
              "      fill: #D2E3FC;\n",
              "    }\n",
              "\n",
              "    [theme=dark] .colab-df-convert:hover {\n",
              "      background-color: #434B5C;\n",
              "      box-shadow: 0px 1px 3px 1px rgba(0, 0, 0, 0.15);\n",
              "      filter: drop-shadow(0px 1px 2px rgba(0, 0, 0, 0.3));\n",
              "      fill: #FFFFFF;\n",
              "    }\n",
              "  </style>\n",
              "\n",
              "      <script>\n",
              "        const buttonEl =\n",
              "          document.querySelector('#df-42a3c894-320c-4e44-ac6c-432755f3a85b button.colab-df-convert');\n",
              "        buttonEl.style.display =\n",
              "          google.colab.kernel.accessAllowed ? 'block' : 'none';\n",
              "\n",
              "        async function convertToInteractive(key) {\n",
              "          const element = document.querySelector('#df-42a3c894-320c-4e44-ac6c-432755f3a85b');\n",
              "          const dataTable =\n",
              "            await google.colab.kernel.invokeFunction('convertToInteractive',\n",
              "                                                     [key], {});\n",
              "          if (!dataTable) return;\n",
              "\n",
              "          const docLinkHtml = 'Like what you see? Visit the ' +\n",
              "            '<a target=\"_blank\" href=https://colab.research.google.com/notebooks/data_table.ipynb>data table notebook</a>'\n",
              "            + ' to learn more about interactive tables.';\n",
              "          element.innerHTML = '';\n",
              "          dataTable['output_type'] = 'display_data';\n",
              "          await google.colab.output.renderOutput(dataTable, element);\n",
              "          const docLink = document.createElement('div');\n",
              "          docLink.innerHTML = docLinkHtml;\n",
              "          element.appendChild(docLink);\n",
              "        }\n",
              "      </script>\n",
              "    </div>\n",
              "  </div>\n",
              "  "
            ]
          },
          "metadata": {},
          "execution_count": 8
        }
      ],
      "source": [
        "mci_bar = mci_bar.reset_index()\n",
        "mci_bar = mci_bar.rename(columns = {'index' : 'Crime_type'})\n",
        "mci_bar = mci_bar.rename(columns = {'MCI' : 'Counts'})\n",
        "mci_bar"
      ]
    },
    {
      "cell_type": "code",
      "execution_count": null,
      "metadata": {
        "colab": {
          "base_uri": "https://localhost:8080/",
          "height": 206
        },
        "id": "cVszx9ltIrza",
        "outputId": "6a87dc53-a433-4e9c-a9cc-f355144875a6"
      },
      "outputs": [
        {
          "output_type": "execute_result",
          "data": {
            "text/plain": [
              "        Crime_type  Counts  Percentage\n",
              "0          Assault  151808       53.89\n",
              "1  Break and Enter   56466       20.05\n",
              "2       Auto Theft   36334       12.90\n",
              "3          Robbery   27820        9.88\n",
              "4       Theft Over    9264        3.29"
            ],
            "text/html": [
              "\n",
              "  <div id=\"df-30c9a39b-2e5f-4c0b-85b3-184eba8761fb\">\n",
              "    <div class=\"colab-df-container\">\n",
              "      <div>\n",
              "<style scoped>\n",
              "    .dataframe tbody tr th:only-of-type {\n",
              "        vertical-align: middle;\n",
              "    }\n",
              "\n",
              "    .dataframe tbody tr th {\n",
              "        vertical-align: top;\n",
              "    }\n",
              "\n",
              "    .dataframe thead th {\n",
              "        text-align: right;\n",
              "    }\n",
              "</style>\n",
              "<table border=\"1\" class=\"dataframe\">\n",
              "  <thead>\n",
              "    <tr style=\"text-align: right;\">\n",
              "      <th></th>\n",
              "      <th>Crime_type</th>\n",
              "      <th>Counts</th>\n",
              "      <th>Percentage</th>\n",
              "    </tr>\n",
              "  </thead>\n",
              "  <tbody>\n",
              "    <tr>\n",
              "      <th>0</th>\n",
              "      <td>Assault</td>\n",
              "      <td>151808</td>\n",
              "      <td>53.89</td>\n",
              "    </tr>\n",
              "    <tr>\n",
              "      <th>1</th>\n",
              "      <td>Break and Enter</td>\n",
              "      <td>56466</td>\n",
              "      <td>20.05</td>\n",
              "    </tr>\n",
              "    <tr>\n",
              "      <th>2</th>\n",
              "      <td>Auto Theft</td>\n",
              "      <td>36334</td>\n",
              "      <td>12.90</td>\n",
              "    </tr>\n",
              "    <tr>\n",
              "      <th>3</th>\n",
              "      <td>Robbery</td>\n",
              "      <td>27820</td>\n",
              "      <td>9.88</td>\n",
              "    </tr>\n",
              "    <tr>\n",
              "      <th>4</th>\n",
              "      <td>Theft Over</td>\n",
              "      <td>9264</td>\n",
              "      <td>3.29</td>\n",
              "    </tr>\n",
              "  </tbody>\n",
              "</table>\n",
              "</div>\n",
              "      <button class=\"colab-df-convert\" onclick=\"convertToInteractive('df-30c9a39b-2e5f-4c0b-85b3-184eba8761fb')\"\n",
              "              title=\"Convert this dataframe to an interactive table.\"\n",
              "              style=\"display:none;\">\n",
              "        \n",
              "  <svg xmlns=\"http://www.w3.org/2000/svg\" height=\"24px\"viewBox=\"0 0 24 24\"\n",
              "       width=\"24px\">\n",
              "    <path d=\"M0 0h24v24H0V0z\" fill=\"none\"/>\n",
              "    <path d=\"M18.56 5.44l.94 2.06.94-2.06 2.06-.94-2.06-.94-.94-2.06-.94 2.06-2.06.94zm-11 1L8.5 8.5l.94-2.06 2.06-.94-2.06-.94L8.5 2.5l-.94 2.06-2.06.94zm10 10l.94 2.06.94-2.06 2.06-.94-2.06-.94-.94-2.06-.94 2.06-2.06.94z\"/><path d=\"M17.41 7.96l-1.37-1.37c-.4-.4-.92-.59-1.43-.59-.52 0-1.04.2-1.43.59L10.3 9.45l-7.72 7.72c-.78.78-.78 2.05 0 2.83L4 21.41c.39.39.9.59 1.41.59.51 0 1.02-.2 1.41-.59l7.78-7.78 2.81-2.81c.8-.78.8-2.07 0-2.86zM5.41 20L4 18.59l7.72-7.72 1.47 1.35L5.41 20z\"/>\n",
              "  </svg>\n",
              "      </button>\n",
              "      \n",
              "  <style>\n",
              "    .colab-df-container {\n",
              "      display:flex;\n",
              "      flex-wrap:wrap;\n",
              "      gap: 12px;\n",
              "    }\n",
              "\n",
              "    .colab-df-convert {\n",
              "      background-color: #E8F0FE;\n",
              "      border: none;\n",
              "      border-radius: 50%;\n",
              "      cursor: pointer;\n",
              "      display: none;\n",
              "      fill: #1967D2;\n",
              "      height: 32px;\n",
              "      padding: 0 0 0 0;\n",
              "      width: 32px;\n",
              "    }\n",
              "\n",
              "    .colab-df-convert:hover {\n",
              "      background-color: #E2EBFA;\n",
              "      box-shadow: 0px 1px 2px rgba(60, 64, 67, 0.3), 0px 1px 3px 1px rgba(60, 64, 67, 0.15);\n",
              "      fill: #174EA6;\n",
              "    }\n",
              "\n",
              "    [theme=dark] .colab-df-convert {\n",
              "      background-color: #3B4455;\n",
              "      fill: #D2E3FC;\n",
              "    }\n",
              "\n",
              "    [theme=dark] .colab-df-convert:hover {\n",
              "      background-color: #434B5C;\n",
              "      box-shadow: 0px 1px 3px 1px rgba(0, 0, 0, 0.15);\n",
              "      filter: drop-shadow(0px 1px 2px rgba(0, 0, 0, 0.3));\n",
              "      fill: #FFFFFF;\n",
              "    }\n",
              "  </style>\n",
              "\n",
              "      <script>\n",
              "        const buttonEl =\n",
              "          document.querySelector('#df-30c9a39b-2e5f-4c0b-85b3-184eba8761fb button.colab-df-convert');\n",
              "        buttonEl.style.display =\n",
              "          google.colab.kernel.accessAllowed ? 'block' : 'none';\n",
              "\n",
              "        async function convertToInteractive(key) {\n",
              "          const element = document.querySelector('#df-30c9a39b-2e5f-4c0b-85b3-184eba8761fb');\n",
              "          const dataTable =\n",
              "            await google.colab.kernel.invokeFunction('convertToInteractive',\n",
              "                                                     [key], {});\n",
              "          if (!dataTable) return;\n",
              "\n",
              "          const docLinkHtml = 'Like what you see? Visit the ' +\n",
              "            '<a target=\"_blank\" href=https://colab.research.google.com/notebooks/data_table.ipynb>data table notebook</a>'\n",
              "            + ' to learn more about interactive tables.';\n",
              "          element.innerHTML = '';\n",
              "          dataTable['output_type'] = 'display_data';\n",
              "          await google.colab.output.renderOutput(dataTable, element);\n",
              "          const docLink = document.createElement('div');\n",
              "          docLink.innerHTML = docLinkHtml;\n",
              "          element.appendChild(docLink);\n",
              "        }\n",
              "      </script>\n",
              "    </div>\n",
              "  </div>\n",
              "  "
            ]
          },
          "metadata": {},
          "execution_count": 9
        }
      ],
      "source": [
        "percentage = []\n",
        "total_counts = mci_bar.Counts.sum()\n",
        "for i in range(mci_bar.shape[0]):\n",
        "  pct = (mci_bar.Counts[i] / total_counts)*100\n",
        "  percentage.append(round(pct, 2))\n",
        "mci_bar['Percentage'] = percentage\n",
        "mci_bar"
      ]
    },
    {
      "cell_type": "code",
      "execution_count": null,
      "metadata": {
        "id": "CgVA70QoHGmW",
        "colab": {
          "base_uri": "https://localhost:8080/",
          "height": 529
        },
        "outputId": "d29c6561-bf65-45d8-8934-243107db87c1"
      },
      "outputs": [
        {
          "output_type": "display_data",
          "data": {
            "text/plain": [
              "<Figure size 720x576 with 1 Axes>"
            ],
            "image/png": "[encoded data removed]"
          },
          "metadata": {
            "needs_background": "light"
          }
        }
      ],
      "source": [
        "# Bar graph\n",
        "plt.figure(figsize=(10,8))\n",
        "colors =['Red', 'Orange', 'Green', 'Blue', 'Purple']\n",
        "graph = plt.bar(mci_bar.Crime_type, mci_bar.Counts, color=colors)\n",
        "plt.title('Distribution of MCI', fontsize=18)\n",
        "i = 0\n",
        "for p in graph:\n",
        "  width = p.get_width()\n",
        "  height = p.get_height()\n",
        "  x, y = p.get_xy()\n",
        "  plt.text(x+width/2,\n",
        "           y+height*1.01,\n",
        "           str(mci_bar.Percentage[i])+'%',\n",
        "           ha='center',\n",
        "           fontsize=14,\n",
        "           weight='bold')\n",
        "  i+=1\n",
        "plt.xlabel('Crime types', fontsize=18)\n",
        "plt.ylabel('Counts', fontsize=18)\n",
        "plt.xticks(fontsize=14)\n",
        "plt.show()"
      ]
    },
    {
      "cell_type": "markdown",
      "metadata": {
        "id": "fcuGYnY_y1C7"
      },
      "source": [
        "The categories in MCI are inbalanced."
      ]
    },
    {
      "cell_type": "markdown",
      "metadata": {
        "id": "a1jcjm_Zq4KV"
      },
      "source": [
        "2. Division "
      ]
    },
    {
      "cell_type": "code",
      "execution_count": null,
      "metadata": {
        "colab": {
          "base_uri": "https://localhost:8080/"
        },
        "id": "KpAHxQfdiLFc",
        "outputId": "22c24c52-3d00-4e87-a346-9a823a68f75f"
      },
      "outputs": [
        {
          "data": {
            "text/plain": [
              "D51    24207\n",
              "D55    22476\n",
              "D32    21147\n",
              "D31    20645\n",
              "D14    20451\n",
              "D41    20268\n",
              "D43    20239\n",
              "D23    17890\n",
              "D52    17237\n",
              "D42    17183\n",
              "D22    17112\n",
              "D53    14044\n",
              "D33    12211\n",
              "D12    12012\n",
              "D11    11296\n",
              "D13    10137\n",
              "NSA     3137\n",
              "Name: Division, dtype: int64"
            ]
          },
          "execution_count": 27,
          "metadata": {},
          "output_type": "execute_result"
        }
      ],
      "source": [
        "Division_bar = mci.Division.value_counts()\n",
        "Division_bar"
      ]
    },
    {
      "cell_type": "code",
      "execution_count": null,
      "metadata": {
        "colab": {
          "base_uri": "https://localhost:8080/",
          "height": 582
        },
        "id": "JqbWm-z6iZ8a",
        "outputId": "f1a13313-b120-40ea-abf7-c8d16f5c5b7a"
      },
      "outputs": [
        {
          "data": {
            "text/html": [
              "\n",
              "  <div id=\"df-2dd4fd42-df59-4f0d-b934-88890d57d22e\">\n",
              "    <div class=\"colab-df-container\">\n",
              "      <div>\n",
              "<style scoped>\n",
              "    .dataframe tbody tr th:only-of-type {\n",
              "        vertical-align: middle;\n",
              "    }\n",
              "\n",
              "    .dataframe tbody tr th {\n",
              "        vertical-align: top;\n",
              "    }\n",
              "\n",
              "    .dataframe thead th {\n",
              "        text-align: right;\n",
              "    }\n",
              "</style>\n",
              "<table border=\"1\" class=\"dataframe\">\n",
              "  <thead>\n",
              "    <tr style=\"text-align: right;\">\n",
              "      <th></th>\n",
              "      <th>Division</th>\n",
              "      <th>Counts</th>\n",
              "    </tr>\n",
              "  </thead>\n",
              "  <tbody>\n",
              "    <tr>\n",
              "      <th>0</th>\n",
              "      <td>D51</td>\n",
              "      <td>24207</td>\n",
              "    </tr>\n",
              "    <tr>\n",
              "      <th>1</th>\n",
              "      <td>D55</td>\n",
              "      <td>22476</td>\n",
              "    </tr>\n",
              "    <tr>\n",
              "      <th>2</th>\n",
              "      <td>D32</td>\n",
              "      <td>21147</td>\n",
              "    </tr>\n",
              "    <tr>\n",
              "      <th>3</th>\n",
              "      <td>D31</td>\n",
              "      <td>20645</td>\n",
              "    </tr>\n",
              "    <tr>\n",
              "      <th>4</th>\n",
              "      <td>D14</td>\n",
              "      <td>20451</td>\n",
              "    </tr>\n",
              "    <tr>\n",
              "      <th>5</th>\n",
              "      <td>D41</td>\n",
              "      <td>20268</td>\n",
              "    </tr>\n",
              "    <tr>\n",
              "      <th>6</th>\n",
              "      <td>D43</td>\n",
              "      <td>20239</td>\n",
              "    </tr>\n",
              "    <tr>\n",
              "      <th>7</th>\n",
              "      <td>D23</td>\n",
              "      <td>17890</td>\n",
              "    </tr>\n",
              "    <tr>\n",
              "      <th>8</th>\n",
              "      <td>D52</td>\n",
              "      <td>17237</td>\n",
              "    </tr>\n",
              "    <tr>\n",
              "      <th>9</th>\n",
              "      <td>D42</td>\n",
              "      <td>17183</td>\n",
              "    </tr>\n",
              "    <tr>\n",
              "      <th>10</th>\n",
              "      <td>D22</td>\n",
              "      <td>17112</td>\n",
              "    </tr>\n",
              "    <tr>\n",
              "      <th>11</th>\n",
              "      <td>D53</td>\n",
              "      <td>14044</td>\n",
              "    </tr>\n",
              "    <tr>\n",
              "      <th>12</th>\n",
              "      <td>D33</td>\n",
              "      <td>12211</td>\n",
              "    </tr>\n",
              "    <tr>\n",
              "      <th>13</th>\n",
              "      <td>D12</td>\n",
              "      <td>12012</td>\n",
              "    </tr>\n",
              "    <tr>\n",
              "      <th>14</th>\n",
              "      <td>D11</td>\n",
              "      <td>11296</td>\n",
              "    </tr>\n",
              "    <tr>\n",
              "      <th>15</th>\n",
              "      <td>D13</td>\n",
              "      <td>10137</td>\n",
              "    </tr>\n",
              "    <tr>\n",
              "      <th>16</th>\n",
              "      <td>NSA</td>\n",
              "      <td>3137</td>\n",
              "    </tr>\n",
              "  </tbody>\n",
              "</table>\n",
              "</div>\n",
              "      <button class=\"colab-df-convert\" onclick=\"convertToInteractive('df-2dd4fd42-df59-4f0d-b934-88890d57d22e')\"\n",
              "              title=\"Convert this dataframe to an interactive table.\"\n",
              "              style=\"display:none;\">\n",
              "        \n",
              "  <svg xmlns=\"http://www.w3.org/2000/svg\" height=\"24px\"viewBox=\"0 0 24 24\"\n",
              "       width=\"24px\">\n",
              "    <path d=\"M0 0h24v24H0V0z\" fill=\"none\"/>\n",
              "    <path d=\"M18.56 5.44l.94 2.06.94-2.06 2.06-.94-2.06-.94-.94-2.06-.94 2.06-2.06.94zm-11 1L8.5 8.5l.94-2.06 2.06-.94-2.06-.94L8.5 2.5l-.94 2.06-2.06.94zm10 10l.94 2.06.94-2.06 2.06-.94-2.06-.94-.94-2.06-.94 2.06-2.06.94z\"/><path d=\"M17.41 7.96l-1.37-1.37c-.4-.4-.92-.59-1.43-.59-.52 0-1.04.2-1.43.59L10.3 9.45l-7.72 7.72c-.78.78-.78 2.05 0 2.83L4 21.41c.39.39.9.59 1.41.59.51 0 1.02-.2 1.41-.59l7.78-7.78 2.81-2.81c.8-.78.8-2.07 0-2.86zM5.41 20L4 18.59l7.72-7.72 1.47 1.35L5.41 20z\"/>\n",
              "  </svg>\n",
              "      </button>\n",
              "      \n",
              "  <style>\n",
              "    .colab-df-container {\n",
              "      display:flex;\n",
              "      flex-wrap:wrap;\n",
              "      gap: 12px;\n",
              "    }\n",
              "\n",
              "    .colab-df-convert {\n",
              "      background-color: #E8F0FE;\n",
              "      border: none;\n",
              "      border-radius: 50%;\n",
              "      cursor: pointer;\n",
              "      display: none;\n",
              "      fill: #1967D2;\n",
              "      height: 32px;\n",
              "      padding: 0 0 0 0;\n",
              "      width: 32px;\n",
              "    }\n",
              "\n",
              "    .colab-df-convert:hover {\n",
              "      background-color: #E2EBFA;\n",
              "      box-shadow: 0px 1px 2px rgba(60, 64, 67, 0.3), 0px 1px 3px 1px rgba(60, 64, 67, 0.15);\n",
              "      fill: #174EA6;\n",
              "    }\n",
              "\n",
              "    [theme=dark] .colab-df-convert {\n",
              "      background-color: #3B4455;\n",
              "      fill: #D2E3FC;\n",
              "    }\n",
              "\n",
              "    [theme=dark] .colab-df-convert:hover {\n",
              "      background-color: #434B5C;\n",
              "      box-shadow: 0px 1px 3px 1px rgba(0, 0, 0, 0.15);\n",
              "      filter: drop-shadow(0px 1px 2px rgba(0, 0, 0, 0.3));\n",
              "      fill: #FFFFFF;\n",
              "    }\n",
              "  </style>\n",
              "\n",
              "      <script>\n",
              "        const buttonEl =\n",
              "          document.querySelector('#df-2dd4fd42-df59-4f0d-b934-88890d57d22e button.colab-df-convert');\n",
              "        buttonEl.style.display =\n",
              "          google.colab.kernel.accessAllowed ? 'block' : 'none';\n",
              "\n",
              "        async function convertToInteractive(key) {\n",
              "          const element = document.querySelector('#df-2dd4fd42-df59-4f0d-b934-88890d57d22e');\n",
              "          const dataTable =\n",
              "            await google.colab.kernel.invokeFunction('convertToInteractive',\n",
              "                                                     [key], {});\n",
              "          if (!dataTable) return;\n",
              "\n",
              "          const docLinkHtml = 'Like what you see? Visit the ' +\n",
              "            '<a target=\"_blank\" href=https://colab.research.google.com/notebooks/data_table.ipynb>data table notebook</a>'\n",
              "            + ' to learn more about interactive tables.';\n",
              "          element.innerHTML = '';\n",
              "          dataTable['output_type'] = 'display_data';\n",
              "          await google.colab.output.renderOutput(dataTable, element);\n",
              "          const docLink = document.createElement('div');\n",
              "          docLink.innerHTML = docLinkHtml;\n",
              "          element.appendChild(docLink);\n",
              "        }\n",
              "      </script>\n",
              "    </div>\n",
              "  </div>\n",
              "  "
            ],
            "text/plain": [
              "   Division  Counts\n",
              "0       D51   24207\n",
              "1       D55   22476\n",
              "2       D32   21147\n",
              "3       D31   20645\n",
              "4       D14   20451\n",
              "5       D41   20268\n",
              "6       D43   20239\n",
              "7       D23   17890\n",
              "8       D52   17237\n",
              "9       D42   17183\n",
              "10      D22   17112\n",
              "11      D53   14044\n",
              "12      D33   12211\n",
              "13      D12   12012\n",
              "14      D11   11296\n",
              "15      D13   10137\n",
              "16      NSA    3137"
            ]
          },
          "execution_count": 28,
          "metadata": {},
          "output_type": "execute_result"
        }
      ],
      "source": [
        "Division_bar = Division_bar.reset_index()\n",
        "Division_bar = Division_bar.rename(columns = {'Division' : 'Counts'})\n",
        "Division_bar = Division_bar.rename(columns = {'index' : 'Division'})\n",
        "Division_bar"
      ]
    },
    {
      "cell_type": "code",
      "execution_count": null,
      "metadata": {
        "colab": {
          "base_uri": "https://localhost:8080/",
          "height": 582
        },
        "id": "D--GqAvyip3k",
        "outputId": "e52f5aa0-b5eb-4198-8b25-94778fea6fb4"
      },
      "outputs": [
        {
          "data": {
            "text/html": [
              "\n",
              "  <div id=\"df-1ab3ec72-5bbc-4b8d-8af1-8fe32f662a26\">\n",
              "    <div class=\"colab-df-container\">\n",
              "      <div>\n",
              "<style scoped>\n",
              "    .dataframe tbody tr th:only-of-type {\n",
              "        vertical-align: middle;\n",
              "    }\n",
              "\n",
              "    .dataframe tbody tr th {\n",
              "        vertical-align: top;\n",
              "    }\n",
              "\n",
              "    .dataframe thead th {\n",
              "        text-align: right;\n",
              "    }\n",
              "</style>\n",
              "<table border=\"1\" class=\"dataframe\">\n",
              "  <thead>\n",
              "    <tr style=\"text-align: right;\">\n",
              "      <th></th>\n",
              "      <th>Division</th>\n",
              "      <th>Counts</th>\n",
              "      <th>Percentage</th>\n",
              "    </tr>\n",
              "  </thead>\n",
              "  <tbody>\n",
              "    <tr>\n",
              "      <th>0</th>\n",
              "      <td>D51</td>\n",
              "      <td>24207</td>\n",
              "      <td>8.59</td>\n",
              "    </tr>\n",
              "    <tr>\n",
              "      <th>1</th>\n",
              "      <td>D55</td>\n",
              "      <td>22476</td>\n",
              "      <td>7.98</td>\n",
              "    </tr>\n",
              "    <tr>\n",
              "      <th>2</th>\n",
              "      <td>D32</td>\n",
              "      <td>21147</td>\n",
              "      <td>7.51</td>\n",
              "    </tr>\n",
              "    <tr>\n",
              "      <th>3</th>\n",
              "      <td>D31</td>\n",
              "      <td>20645</td>\n",
              "      <td>7.33</td>\n",
              "    </tr>\n",
              "    <tr>\n",
              "      <th>4</th>\n",
              "      <td>D14</td>\n",
              "      <td>20451</td>\n",
              "      <td>7.26</td>\n",
              "    </tr>\n",
              "    <tr>\n",
              "      <th>5</th>\n",
              "      <td>D41</td>\n",
              "      <td>20268</td>\n",
              "      <td>7.20</td>\n",
              "    </tr>\n",
              "    <tr>\n",
              "      <th>6</th>\n",
              "      <td>D43</td>\n",
              "      <td>20239</td>\n",
              "      <td>7.18</td>\n",
              "    </tr>\n",
              "    <tr>\n",
              "      <th>7</th>\n",
              "      <td>D23</td>\n",
              "      <td>17890</td>\n",
              "      <td>6.35</td>\n",
              "    </tr>\n",
              "    <tr>\n",
              "      <th>8</th>\n",
              "      <td>D52</td>\n",
              "      <td>17237</td>\n",
              "      <td>6.12</td>\n",
              "    </tr>\n",
              "    <tr>\n",
              "      <th>9</th>\n",
              "      <td>D42</td>\n",
              "      <td>17183</td>\n",
              "      <td>6.10</td>\n",
              "    </tr>\n",
              "    <tr>\n",
              "      <th>10</th>\n",
              "      <td>D22</td>\n",
              "      <td>17112</td>\n",
              "      <td>6.07</td>\n",
              "    </tr>\n",
              "    <tr>\n",
              "      <th>11</th>\n",
              "      <td>D53</td>\n",
              "      <td>14044</td>\n",
              "      <td>4.99</td>\n",
              "    </tr>\n",
              "    <tr>\n",
              "      <th>12</th>\n",
              "      <td>D33</td>\n",
              "      <td>12211</td>\n",
              "      <td>4.33</td>\n",
              "    </tr>\n",
              "    <tr>\n",
              "      <th>13</th>\n",
              "      <td>D12</td>\n",
              "      <td>12012</td>\n",
              "      <td>4.26</td>\n",
              "    </tr>\n",
              "    <tr>\n",
              "      <th>14</th>\n",
              "      <td>D11</td>\n",
              "      <td>11296</td>\n",
              "      <td>4.01</td>\n",
              "    </tr>\n",
              "    <tr>\n",
              "      <th>15</th>\n",
              "      <td>D13</td>\n",
              "      <td>10137</td>\n",
              "      <td>3.60</td>\n",
              "    </tr>\n",
              "    <tr>\n",
              "      <th>16</th>\n",
              "      <td>NSA</td>\n",
              "      <td>3137</td>\n",
              "      <td>1.11</td>\n",
              "    </tr>\n",
              "  </tbody>\n",
              "</table>\n",
              "</div>\n",
              "      <button class=\"colab-df-convert\" onclick=\"convertToInteractive('df-1ab3ec72-5bbc-4b8d-8af1-8fe32f662a26')\"\n",
              "              title=\"Convert this dataframe to an interactive table.\"\n",
              "              style=\"display:none;\">\n",
              "        \n",
              "  <svg xmlns=\"http://www.w3.org/2000/svg\" height=\"24px\"viewBox=\"0 0 24 24\"\n",
              "       width=\"24px\">\n",
              "    <path d=\"M0 0h24v24H0V0z\" fill=\"none\"/>\n",
              "    <path d=\"M18.56 5.44l.94 2.06.94-2.06 2.06-.94-2.06-.94-.94-2.06-.94 2.06-2.06.94zm-11 1L8.5 8.5l.94-2.06 2.06-.94-2.06-.94L8.5 2.5l-.94 2.06-2.06.94zm10 10l.94 2.06.94-2.06 2.06-.94-2.06-.94-.94-2.06-.94 2.06-2.06.94z\"/><path d=\"M17.41 7.96l-1.37-1.37c-.4-.4-.92-.59-1.43-.59-.52 0-1.04.2-1.43.59L10.3 9.45l-7.72 7.72c-.78.78-.78 2.05 0 2.83L4 21.41c.39.39.9.59 1.41.59.51 0 1.02-.2 1.41-.59l7.78-7.78 2.81-2.81c.8-.78.8-2.07 0-2.86zM5.41 20L4 18.59l7.72-7.72 1.47 1.35L5.41 20z\"/>\n",
              "  </svg>\n",
              "      </button>\n",
              "      \n",
              "  <style>\n",
              "    .colab-df-container {\n",
              "      display:flex;\n",
              "      flex-wrap:wrap;\n",
              "      gap: 12px;\n",
              "    }\n",
              "\n",
              "    .colab-df-convert {\n",
              "      background-color: #E8F0FE;\n",
              "      border: none;\n",
              "      border-radius: 50%;\n",
              "      cursor: pointer;\n",
              "      display: none;\n",
              "      fill: #1967D2;\n",
              "      height: 32px;\n",
              "      padding: 0 0 0 0;\n",
              "      width: 32px;\n",
              "    }\n",
              "\n",
              "    .colab-df-convert:hover {\n",
              "      background-color: #E2EBFA;\n",
              "      box-shadow: 0px 1px 2px rgba(60, 64, 67, 0.3), 0px 1px 3px 1px rgba(60, 64, 67, 0.15);\n",
              "      fill: #174EA6;\n",
              "    }\n",
              "\n",
              "    [theme=dark] .colab-df-convert {\n",
              "      background-color: #3B4455;\n",
              "      fill: #D2E3FC;\n",
              "    }\n",
              "\n",
              "    [theme=dark] .colab-df-convert:hover {\n",
              "      background-color: #434B5C;\n",
              "      box-shadow: 0px 1px 3px 1px rgba(0, 0, 0, 0.15);\n",
              "      filter: drop-shadow(0px 1px 2px rgba(0, 0, 0, 0.3));\n",
              "      fill: #FFFFFF;\n",
              "    }\n",
              "  </style>\n",
              "\n",
              "      <script>\n",
              "        const buttonEl =\n",
              "          document.querySelector('#df-1ab3ec72-5bbc-4b8d-8af1-8fe32f662a26 button.colab-df-convert');\n",
              "        buttonEl.style.display =\n",
              "          google.colab.kernel.accessAllowed ? 'block' : 'none';\n",
              "\n",
              "        async function convertToInteractive(key) {\n",
              "          const element = document.querySelector('#df-1ab3ec72-5bbc-4b8d-8af1-8fe32f662a26');\n",
              "          const dataTable =\n",
              "            await google.colab.kernel.invokeFunction('convertToInteractive',\n",
              "                                                     [key], {});\n",
              "          if (!dataTable) return;\n",
              "\n",
              "          const docLinkHtml = 'Like what you see? Visit the ' +\n",
              "            '<a target=\"_blank\" href=https://colab.research.google.com/notebooks/data_table.ipynb>data table notebook</a>'\n",
              "            + ' to learn more about interactive tables.';\n",
              "          element.innerHTML = '';\n",
              "          dataTable['output_type'] = 'display_data';\n",
              "          await google.colab.output.renderOutput(dataTable, element);\n",
              "          const docLink = document.createElement('div');\n",
              "          docLink.innerHTML = docLinkHtml;\n",
              "          element.appendChild(docLink);\n",
              "        }\n",
              "      </script>\n",
              "    </div>\n",
              "  </div>\n",
              "  "
            ],
            "text/plain": [
              "   Division  Counts  Percentage\n",
              "0       D51   24207        8.59\n",
              "1       D55   22476        7.98\n",
              "2       D32   21147        7.51\n",
              "3       D31   20645        7.33\n",
              "4       D14   20451        7.26\n",
              "5       D41   20268        7.20\n",
              "6       D43   20239        7.18\n",
              "7       D23   17890        6.35\n",
              "8       D52   17237        6.12\n",
              "9       D42   17183        6.10\n",
              "10      D22   17112        6.07\n",
              "11      D53   14044        4.99\n",
              "12      D33   12211        4.33\n",
              "13      D12   12012        4.26\n",
              "14      D11   11296        4.01\n",
              "15      D13   10137        3.60\n",
              "16      NSA    3137        1.11"
            ]
          },
          "execution_count": 29,
          "metadata": {},
          "output_type": "execute_result"
        }
      ],
      "source": [
        "percentage = []\n",
        "total_counts = Division_bar.Counts.sum()\n",
        "for i in range(Division_bar.shape[0]):\n",
        "  pct = (Division_bar.Counts[i] / total_counts)*100\n",
        "  percentage.append(round(pct, 2))\n",
        "Division_bar['Percentage'] = percentage\n",
        "Division_bar"
      ]
    },
    {
      "cell_type": "code",
      "execution_count": null,
      "metadata": {
        "colab": {
          "base_uri": "https://localhost:8080/",
          "height": 585
        },
        "id": "bV3R2XlcjgyA",
        "outputId": "fe44b472-0fa4-4b4b-cbca-9696a634176c"
      },
      "outputs": [
        {
          "data": {
            "image/png": "[encoded data removed]",
            "text/plain": [
              "<Figure size 720x576 with 1 Axes>"
            ]
          },
          "metadata": {},
          "output_type": "display_data"
        }
      ],
      "source": [
        "# Bar graph\n",
        "plt.figure(figsize=(10,8))\n",
        "colors =['Red', 'Orange', 'Green', 'Blue', 'Purple', 'Pink', 'Brown']\n",
        "graph = plt.bar(Division_bar.Division, Division_bar.Counts, color=colors)\n",
        "plt.title('Distribution of Division')\n",
        "i = 0\n",
        "for p in graph:\n",
        "  width = p.get_width()\n",
        "  height = p.get_height()\n",
        "  x, y = p.get_xy()\n",
        "  plt.text(x+width/2,\n",
        "           y+height*1.02,\n",
        "           str(Division_bar.Percentage[i])+'%',\n",
        "           ha='center',\n",
        "           weight='bold')\n",
        "  i+=1\n",
        "plt.xlabel('Division')\n",
        "plt.ylabel('Counts')\n",
        "plt.tight_layout()\n",
        "plt.show()"
      ]
    },
    {
      "cell_type": "markdown",
      "metadata": {
        "id": "9vIZzUjrrXvl"
      },
      "source": [
        "3. premises_type"
      ]
    },
    {
      "cell_type": "code",
      "execution_count": null,
      "metadata": {
        "colab": {
          "base_uri": "https://localhost:8080/"
        },
        "id": "wotaMslyNCMW",
        "outputId": "21f14bd5-4371-4114-aba5-26213f526957"
      },
      "outputs": [
        {
          "data": {
            "text/plain": [
              "Outside        74899\n",
              "Apartment      67468\n",
              "Commercial     56973\n",
              "House          50689\n",
              "Other          16394\n",
              "Transit         7886\n",
              "Educational     7383\n",
              "Name: premises_type, dtype: int64"
            ]
          },
          "execution_count": 20,
          "metadata": {},
          "output_type": "execute_result"
        }
      ],
      "source": [
        "premises_type_bar = mci.premises_type.value_counts()\n",
        "premises_type_bar"
      ]
    },
    {
      "cell_type": "code",
      "execution_count": null,
      "metadata": {
        "colab": {
          "base_uri": "https://localhost:8080/",
          "height": 269
        },
        "id": "rm8e-Gt4NXIi",
        "outputId": "2e26ef29-5698-4434-8933-057ae7c53e3b"
      },
      "outputs": [
        {
          "data": {
            "text/html": [
              "\n",
              "  <div id=\"df-13380aaa-0f35-4b5a-a640-30b7d7b2aa4c\">\n",
              "    <div class=\"colab-df-container\">\n",
              "      <div>\n",
              "<style scoped>\n",
              "    .dataframe tbody tr th:only-of-type {\n",
              "        vertical-align: middle;\n",
              "    }\n",
              "\n",
              "    .dataframe tbody tr th {\n",
              "        vertical-align: top;\n",
              "    }\n",
              "\n",
              "    .dataframe thead th {\n",
              "        text-align: right;\n",
              "    }\n",
              "</style>\n",
              "<table border=\"1\" class=\"dataframe\">\n",
              "  <thead>\n",
              "    <tr style=\"text-align: right;\">\n",
              "      <th></th>\n",
              "      <th>Premises_type</th>\n",
              "      <th>Counts</th>\n",
              "    </tr>\n",
              "  </thead>\n",
              "  <tbody>\n",
              "    <tr>\n",
              "      <th>0</th>\n",
              "      <td>Outside</td>\n",
              "      <td>74899</td>\n",
              "    </tr>\n",
              "    <tr>\n",
              "      <th>1</th>\n",
              "      <td>Apartment</td>\n",
              "      <td>67468</td>\n",
              "    </tr>\n",
              "    <tr>\n",
              "      <th>2</th>\n",
              "      <td>Commercial</td>\n",
              "      <td>56973</td>\n",
              "    </tr>\n",
              "    <tr>\n",
              "      <th>3</th>\n",
              "      <td>House</td>\n",
              "      <td>50689</td>\n",
              "    </tr>\n",
              "    <tr>\n",
              "      <th>4</th>\n",
              "      <td>Other</td>\n",
              "      <td>16394</td>\n",
              "    </tr>\n",
              "    <tr>\n",
              "      <th>5</th>\n",
              "      <td>Transit</td>\n",
              "      <td>7886</td>\n",
              "    </tr>\n",
              "    <tr>\n",
              "      <th>6</th>\n",
              "      <td>Educational</td>\n",
              "      <td>7383</td>\n",
              "    </tr>\n",
              "  </tbody>\n",
              "</table>\n",
              "</div>\n",
              "      <button class=\"colab-df-convert\" onclick=\"convertToInteractive('df-13380aaa-0f35-4b5a-a640-30b7d7b2aa4c')\"\n",
              "              title=\"Convert this dataframe to an interactive table.\"\n",
              "              style=\"display:none;\">\n",
              "        \n",
              "  <svg xmlns=\"http://www.w3.org/2000/svg\" height=\"24px\"viewBox=\"0 0 24 24\"\n",
              "       width=\"24px\">\n",
              "    <path d=\"M0 0h24v24H0V0z\" fill=\"none\"/>\n",
              "    <path d=\"M18.56 5.44l.94 2.06.94-2.06 2.06-.94-2.06-.94-.94-2.06-.94 2.06-2.06.94zm-11 1L8.5 8.5l.94-2.06 2.06-.94-2.06-.94L8.5 2.5l-.94 2.06-2.06.94zm10 10l.94 2.06.94-2.06 2.06-.94-2.06-.94-.94-2.06-.94 2.06-2.06.94z\"/><path d=\"M17.41 7.96l-1.37-1.37c-.4-.4-.92-.59-1.43-.59-.52 0-1.04.2-1.43.59L10.3 9.45l-7.72 7.72c-.78.78-.78 2.05 0 2.83L4 21.41c.39.39.9.59 1.41.59.51 0 1.02-.2 1.41-.59l7.78-7.78 2.81-2.81c.8-.78.8-2.07 0-2.86zM5.41 20L4 18.59l7.72-7.72 1.47 1.35L5.41 20z\"/>\n",
              "  </svg>\n",
              "      </button>\n",
              "      \n",
              "  <style>\n",
              "    .colab-df-container {\n",
              "      display:flex;\n",
              "      flex-wrap:wrap;\n",
              "      gap: 12px;\n",
              "    }\n",
              "\n",
              "    .colab-df-convert {\n",
              "      background-color: #E8F0FE;\n",
              "      border: none;\n",
              "      border-radius: 50%;\n",
              "      cursor: pointer;\n",
              "      display: none;\n",
              "      fill: #1967D2;\n",
              "      height: 32px;\n",
              "      padding: 0 0 0 0;\n",
              "      width: 32px;\n",
              "    }\n",
              "\n",
              "    .colab-df-convert:hover {\n",
              "      background-color: #E2EBFA;\n",
              "      box-shadow: 0px 1px 2px rgba(60, 64, 67, 0.3), 0px 1px 3px 1px rgba(60, 64, 67, 0.15);\n",
              "      fill: #174EA6;\n",
              "    }\n",
              "\n",
              "    [theme=dark] .colab-df-convert {\n",
              "      background-color: #3B4455;\n",
              "      fill: #D2E3FC;\n",
              "    }\n",
              "\n",
              "    [theme=dark] .colab-df-convert:hover {\n",
              "      background-color: #434B5C;\n",
              "      box-shadow: 0px 1px 3px 1px rgba(0, 0, 0, 0.15);\n",
              "      filter: drop-shadow(0px 1px 2px rgba(0, 0, 0, 0.3));\n",
              "      fill: #FFFFFF;\n",
              "    }\n",
              "  </style>\n",
              "\n",
              "      <script>\n",
              "        const buttonEl =\n",
              "          document.querySelector('#df-13380aaa-0f35-4b5a-a640-30b7d7b2aa4c button.colab-df-convert');\n",
              "        buttonEl.style.display =\n",
              "          google.colab.kernel.accessAllowed ? 'block' : 'none';\n",
              "\n",
              "        async function convertToInteractive(key) {\n",
              "          const element = document.querySelector('#df-13380aaa-0f35-4b5a-a640-30b7d7b2aa4c');\n",
              "          const dataTable =\n",
              "            await google.colab.kernel.invokeFunction('convertToInteractive',\n",
              "                                                     [key], {});\n",
              "          if (!dataTable) return;\n",
              "\n",
              "          const docLinkHtml = 'Like what you see? Visit the ' +\n",
              "            '<a target=\"_blank\" href=https://colab.research.google.com/notebooks/data_table.ipynb>data table notebook</a>'\n",
              "            + ' to learn more about interactive tables.';\n",
              "          element.innerHTML = '';\n",
              "          dataTable['output_type'] = 'display_data';\n",
              "          await google.colab.output.renderOutput(dataTable, element);\n",
              "          const docLink = document.createElement('div');\n",
              "          docLink.innerHTML = docLinkHtml;\n",
              "          element.appendChild(docLink);\n",
              "        }\n",
              "      </script>\n",
              "    </div>\n",
              "  </div>\n",
              "  "
            ],
            "text/plain": [
              "  Premises_type  Counts\n",
              "0       Outside   74899\n",
              "1     Apartment   67468\n",
              "2    Commercial   56973\n",
              "3         House   50689\n",
              "4         Other   16394\n",
              "5       Transit    7886\n",
              "6   Educational    7383"
            ]
          },
          "execution_count": 21,
          "metadata": {},
          "output_type": "execute_result"
        }
      ],
      "source": [
        "premises_type_bar = premises_type_bar.reset_index()\n",
        "premises_type_bar = premises_type_bar.rename(columns = {'index' : 'Premises_type'})\n",
        "premises_type_bar = premises_type_bar.rename(columns = {'premises_type' : 'Counts'})\n",
        "premises_type_bar"
      ]
    },
    {
      "cell_type": "code",
      "execution_count": null,
      "metadata": {
        "colab": {
          "base_uri": "https://localhost:8080/",
          "height": 269
        },
        "id": "tKrgleZgNqXI",
        "outputId": "036b1e9f-599d-4fb6-a80a-05b2c02dd819"
      },
      "outputs": [
        {
          "data": {
            "text/html": [
              "\n",
              "  <div id=\"df-74031102-e2dc-4b98-a38b-002798fe3ad9\">\n",
              "    <div class=\"colab-df-container\">\n",
              "      <div>\n",
              "<style scoped>\n",
              "    .dataframe tbody tr th:only-of-type {\n",
              "        vertical-align: middle;\n",
              "    }\n",
              "\n",
              "    .dataframe tbody tr th {\n",
              "        vertical-align: top;\n",
              "    }\n",
              "\n",
              "    .dataframe thead th {\n",
              "        text-align: right;\n",
              "    }\n",
              "</style>\n",
              "<table border=\"1\" class=\"dataframe\">\n",
              "  <thead>\n",
              "    <tr style=\"text-align: right;\">\n",
              "      <th></th>\n",
              "      <th>Premises_type</th>\n",
              "      <th>Counts</th>\n",
              "      <th>Percentage</th>\n",
              "    </tr>\n",
              "  </thead>\n",
              "  <tbody>\n",
              "    <tr>\n",
              "      <th>0</th>\n",
              "      <td>Outside</td>\n",
              "      <td>74899</td>\n",
              "      <td>26.59</td>\n",
              "    </tr>\n",
              "    <tr>\n",
              "      <th>1</th>\n",
              "      <td>Apartment</td>\n",
              "      <td>67468</td>\n",
              "      <td>23.95</td>\n",
              "    </tr>\n",
              "    <tr>\n",
              "      <th>2</th>\n",
              "      <td>Commercial</td>\n",
              "      <td>56973</td>\n",
              "      <td>20.23</td>\n",
              "    </tr>\n",
              "    <tr>\n",
              "      <th>3</th>\n",
              "      <td>House</td>\n",
              "      <td>50689</td>\n",
              "      <td>17.99</td>\n",
              "    </tr>\n",
              "    <tr>\n",
              "      <th>4</th>\n",
              "      <td>Other</td>\n",
              "      <td>16394</td>\n",
              "      <td>5.82</td>\n",
              "    </tr>\n",
              "    <tr>\n",
              "      <th>5</th>\n",
              "      <td>Transit</td>\n",
              "      <td>7886</td>\n",
              "      <td>2.80</td>\n",
              "    </tr>\n",
              "    <tr>\n",
              "      <th>6</th>\n",
              "      <td>Educational</td>\n",
              "      <td>7383</td>\n",
              "      <td>2.62</td>\n",
              "    </tr>\n",
              "  </tbody>\n",
              "</table>\n",
              "</div>\n",
              "      <button class=\"colab-df-convert\" onclick=\"convertToInteractive('df-74031102-e2dc-4b98-a38b-002798fe3ad9')\"\n",
              "              title=\"Convert this dataframe to an interactive table.\"\n",
              "              style=\"display:none;\">\n",
              "        \n",
              "  <svg xmlns=\"http://www.w3.org/2000/svg\" height=\"24px\"viewBox=\"0 0 24 24\"\n",
              "       width=\"24px\">\n",
              "    <path d=\"M0 0h24v24H0V0z\" fill=\"none\"/>\n",
              "    <path d=\"M18.56 5.44l.94 2.06.94-2.06 2.06-.94-2.06-.94-.94-2.06-.94 2.06-2.06.94zm-11 1L8.5 8.5l.94-2.06 2.06-.94-2.06-.94L8.5 2.5l-.94 2.06-2.06.94zm10 10l.94 2.06.94-2.06 2.06-.94-2.06-.94-.94-2.06-.94 2.06-2.06.94z\"/><path d=\"M17.41 7.96l-1.37-1.37c-.4-.4-.92-.59-1.43-.59-.52 0-1.04.2-1.43.59L10.3 9.45l-7.72 7.72c-.78.78-.78 2.05 0 2.83L4 21.41c.39.39.9.59 1.41.59.51 0 1.02-.2 1.41-.59l7.78-7.78 2.81-2.81c.8-.78.8-2.07 0-2.86zM5.41 20L4 18.59l7.72-7.72 1.47 1.35L5.41 20z\"/>\n",
              "  </svg>\n",
              "      </button>\n",
              "      \n",
              "  <style>\n",
              "    .colab-df-container {\n",
              "      display:flex;\n",
              "      flex-wrap:wrap;\n",
              "      gap: 12px;\n",
              "    }\n",
              "\n",
              "    .colab-df-convert {\n",
              "      background-color: #E8F0FE;\n",
              "      border: none;\n",
              "      border-radius: 50%;\n",
              "      cursor: pointer;\n",
              "      display: none;\n",
              "      fill: #1967D2;\n",
              "      height: 32px;\n",
              "      padding: 0 0 0 0;\n",
              "      width: 32px;\n",
              "    }\n",
              "\n",
              "    .colab-df-convert:hover {\n",
              "      background-color: #E2EBFA;\n",
              "      box-shadow: 0px 1px 2px rgba(60, 64, 67, 0.3), 0px 1px 3px 1px rgba(60, 64, 67, 0.15);\n",
              "      fill: #174EA6;\n",
              "    }\n",
              "\n",
              "    [theme=dark] .colab-df-convert {\n",
              "      background-color: #3B4455;\n",
              "      fill: #D2E3FC;\n",
              "    }\n",
              "\n",
              "    [theme=dark] .colab-df-convert:hover {\n",
              "      background-color: #434B5C;\n",
              "      box-shadow: 0px 1px 3px 1px rgba(0, 0, 0, 0.15);\n",
              "      filter: drop-shadow(0px 1px 2px rgba(0, 0, 0, 0.3));\n",
              "      fill: #FFFFFF;\n",
              "    }\n",
              "  </style>\n",
              "\n",
              "      <script>\n",
              "        const buttonEl =\n",
              "          document.querySelector('#df-74031102-e2dc-4b98-a38b-002798fe3ad9 button.colab-df-convert');\n",
              "        buttonEl.style.display =\n",
              "          google.colab.kernel.accessAllowed ? 'block' : 'none';\n",
              "\n",
              "        async function convertToInteractive(key) {\n",
              "          const element = document.querySelector('#df-74031102-e2dc-4b98-a38b-002798fe3ad9');\n",
              "          const dataTable =\n",
              "            await google.colab.kernel.invokeFunction('convertToInteractive',\n",
              "                                                     [key], {});\n",
              "          if (!dataTable) return;\n",
              "\n",
              "          const docLinkHtml = 'Like what you see? Visit the ' +\n",
              "            '<a target=\"_blank\" href=https://colab.research.google.com/notebooks/data_table.ipynb>data table notebook</a>'\n",
              "            + ' to learn more about interactive tables.';\n",
              "          element.innerHTML = '';\n",
              "          dataTable['output_type'] = 'display_data';\n",
              "          await google.colab.output.renderOutput(dataTable, element);\n",
              "          const docLink = document.createElement('div');\n",
              "          docLink.innerHTML = docLinkHtml;\n",
              "          element.appendChild(docLink);\n",
              "        }\n",
              "      </script>\n",
              "    </div>\n",
              "  </div>\n",
              "  "
            ],
            "text/plain": [
              "  Premises_type  Counts  Percentage\n",
              "0       Outside   74899       26.59\n",
              "1     Apartment   67468       23.95\n",
              "2    Commercial   56973       20.23\n",
              "3         House   50689       17.99\n",
              "4         Other   16394        5.82\n",
              "5       Transit    7886        2.80\n",
              "6   Educational    7383        2.62"
            ]
          },
          "execution_count": 22,
          "metadata": {},
          "output_type": "execute_result"
        }
      ],
      "source": [
        "percentage = []\n",
        "total_counts = premises_type_bar.Counts.sum()\n",
        "for i in range(premises_type_bar.shape[0]):\n",
        "  pct = (premises_type_bar.Counts[i] / total_counts)*100\n",
        "  percentage.append(round(pct, 2))\n",
        "premises_type_bar['Percentage'] = percentage\n",
        "premises_type_bar"
      ]
    },
    {
      "cell_type": "code",
      "execution_count": null,
      "metadata": {
        "colab": {
          "base_uri": "https://localhost:8080/",
          "height": 585
        },
        "id": "2zL_UmaHN05g",
        "outputId": "cbf944dc-78df-4489-d6ed-f71dcd965695"
      },
      "outputs": [
        {
          "data": {
            "image/png": "[encoded data removed]",
            "text/plain": [
              "<Figure size 576x576 with 1 Axes>"
            ]
          },
          "metadata": {},
          "output_type": "display_data"
        }
      ],
      "source": [
        "# Bar graph\n",
        "plt.figure(figsize=(8,8))\n",
        "colors =['Red', 'Orange', 'Green', 'Blue', 'Purple', 'Pink', 'Brown']\n",
        "graph = plt.bar(premises_type_bar.Premises_type, premises_type_bar.Counts, color=colors)\n",
        "plt.title('Distribution of premises type')\n",
        "i = 0\n",
        "for p in graph:\n",
        "  width = p.get_width()\n",
        "  height = p.get_height()\n",
        "  x, y = p.get_xy()\n",
        "  plt.text(x+width/2,\n",
        "           y+height*1.01,\n",
        "           str(premises_type_bar.Percentage[i])+'%',\n",
        "           ha='center',\n",
        "           weight='bold')\n",
        "  i+=1\n",
        "plt.xlabel('Premises types')\n",
        "plt.ylabel('Counts')\n",
        "plt.tight_layout()\n",
        "plt.show()"
      ]
    },
    {
      "cell_type": "markdown",
      "metadata": {
        "id": "vGRCMK1MrbSm"
      },
      "source": [
        "4. reportedmonth "
      ]
    },
    {
      "cell_type": "code",
      "execution_count": null,
      "metadata": {
        "colab": {
          "base_uri": "https://localhost:8080/"
        },
        "id": "rI7Lldd1OuLC",
        "outputId": "be501265-5a4e-4d3d-994f-68325670ba8f"
      },
      "outputs": [
        {
          "data": {
            "text/plain": [
              "January      22257\n",
              "February     20247\n",
              "March        22485\n",
              "April        21930\n",
              "May          23974\n",
              "June         23914\n",
              "July         25194\n",
              "August       25003\n",
              "September    24329\n",
              "October      25231\n",
              "November     24511\n",
              "December     22617\n",
              "Name: reportedmonth, dtype: int64"
            ]
          },
          "execution_count": 31,
          "metadata": {},
          "output_type": "execute_result"
        }
      ],
      "source": [
        "reportedmonth_bar = mci.reportedmonth.value_counts()\n",
        "month = ['January', 'February', 'March', 'April', 'May', 'June', 'July', 'August', 'September', 'October', 'November', 'December']\n",
        "reportedmonth_bar = reportedmonth_bar.reindex(month)\n",
        "reportedmonth_bar"
      ]
    },
    {
      "cell_type": "code",
      "execution_count": null,
      "metadata": {
        "colab": {
          "base_uri": "https://localhost:8080/",
          "height": 426
        },
        "id": "YgoReTqXOwl7",
        "outputId": "19d3b652-ceb5-4cd3-90e0-39677d8da3c2"
      },
      "outputs": [
        {
          "data": {
            "text/html": [
              "\n",
              "  <div id=\"df-21dd5866-8e8a-448c-913e-2d3677025310\">\n",
              "    <div class=\"colab-df-container\">\n",
              "      <div>\n",
              "<style scoped>\n",
              "    .dataframe tbody tr th:only-of-type {\n",
              "        vertical-align: middle;\n",
              "    }\n",
              "\n",
              "    .dataframe tbody tr th {\n",
              "        vertical-align: top;\n",
              "    }\n",
              "\n",
              "    .dataframe thead th {\n",
              "        text-align: right;\n",
              "    }\n",
              "</style>\n",
              "<table border=\"1\" class=\"dataframe\">\n",
              "  <thead>\n",
              "    <tr style=\"text-align: right;\">\n",
              "      <th></th>\n",
              "      <th>Month</th>\n",
              "      <th>Counts</th>\n",
              "    </tr>\n",
              "  </thead>\n",
              "  <tbody>\n",
              "    <tr>\n",
              "      <th>0</th>\n",
              "      <td>January</td>\n",
              "      <td>22257</td>\n",
              "    </tr>\n",
              "    <tr>\n",
              "      <th>1</th>\n",
              "      <td>February</td>\n",
              "      <td>20247</td>\n",
              "    </tr>\n",
              "    <tr>\n",
              "      <th>2</th>\n",
              "      <td>March</td>\n",
              "      <td>22485</td>\n",
              "    </tr>\n",
              "    <tr>\n",
              "      <th>3</th>\n",
              "      <td>April</td>\n",
              "      <td>21930</td>\n",
              "    </tr>\n",
              "    <tr>\n",
              "      <th>4</th>\n",
              "      <td>May</td>\n",
              "      <td>23974</td>\n",
              "    </tr>\n",
              "    <tr>\n",
              "      <th>5</th>\n",
              "      <td>June</td>\n",
              "      <td>23914</td>\n",
              "    </tr>\n",
              "    <tr>\n",
              "      <th>6</th>\n",
              "      <td>July</td>\n",
              "      <td>25194</td>\n",
              "    </tr>\n",
              "    <tr>\n",
              "      <th>7</th>\n",
              "      <td>August</td>\n",
              "      <td>25003</td>\n",
              "    </tr>\n",
              "    <tr>\n",
              "      <th>8</th>\n",
              "      <td>September</td>\n",
              "      <td>24329</td>\n",
              "    </tr>\n",
              "    <tr>\n",
              "      <th>9</th>\n",
              "      <td>October</td>\n",
              "      <td>25231</td>\n",
              "    </tr>\n",
              "    <tr>\n",
              "      <th>10</th>\n",
              "      <td>November</td>\n",
              "      <td>24511</td>\n",
              "    </tr>\n",
              "    <tr>\n",
              "      <th>11</th>\n",
              "      <td>December</td>\n",
              "      <td>22617</td>\n",
              "    </tr>\n",
              "  </tbody>\n",
              "</table>\n",
              "</div>\n",
              "      <button class=\"colab-df-convert\" onclick=\"convertToInteractive('df-21dd5866-8e8a-448c-913e-2d3677025310')\"\n",
              "              title=\"Convert this dataframe to an interactive table.\"\n",
              "              style=\"display:none;\">\n",
              "        \n",
              "  <svg xmlns=\"http://www.w3.org/2000/svg\" height=\"24px\"viewBox=\"0 0 24 24\"\n",
              "       width=\"24px\">\n",
              "    <path d=\"M0 0h24v24H0V0z\" fill=\"none\"/>\n",
              "    <path d=\"M18.56 5.44l.94 2.06.94-2.06 2.06-.94-2.06-.94-.94-2.06-.94 2.06-2.06.94zm-11 1L8.5 8.5l.94-2.06 2.06-.94-2.06-.94L8.5 2.5l-.94 2.06-2.06.94zm10 10l.94 2.06.94-2.06 2.06-.94-2.06-.94-.94-2.06-.94 2.06-2.06.94z\"/><path d=\"M17.41 7.96l-1.37-1.37c-.4-.4-.92-.59-1.43-.59-.52 0-1.04.2-1.43.59L10.3 9.45l-7.72 7.72c-.78.78-.78 2.05 0 2.83L4 21.41c.39.39.9.59 1.41.59.51 0 1.02-.2 1.41-.59l7.78-7.78 2.81-2.81c.8-.78.8-2.07 0-2.86zM5.41 20L4 18.59l7.72-7.72 1.47 1.35L5.41 20z\"/>\n",
              "  </svg>\n",
              "      </button>\n",
              "      \n",
              "  <style>\n",
              "    .colab-df-container {\n",
              "      display:flex;\n",
              "      flex-wrap:wrap;\n",
              "      gap: 12px;\n",
              "    }\n",
              "\n",
              "    .colab-df-convert {\n",
              "      background-color: #E8F0FE;\n",
              "      border: none;\n",
              "      border-radius: 50%;\n",
              "      cursor: pointer;\n",
              "      display: none;\n",
              "      fill: #1967D2;\n",
              "      height: 32px;\n",
              "      padding: 0 0 0 0;\n",
              "      width: 32px;\n",
              "    }\n",
              "\n",
              "    .colab-df-convert:hover {\n",
              "      background-color: #E2EBFA;\n",
              "      box-shadow: 0px 1px 2px rgba(60, 64, 67, 0.3), 0px 1px 3px 1px rgba(60, 64, 67, 0.15);\n",
              "      fill: #174EA6;\n",
              "    }\n",
              "\n",
              "    [theme=dark] .colab-df-convert {\n",
              "      background-color: #3B4455;\n",
              "      fill: #D2E3FC;\n",
              "    }\n",
              "\n",
              "    [theme=dark] .colab-df-convert:hover {\n",
              "      background-color: #434B5C;\n",
              "      box-shadow: 0px 1px 3px 1px rgba(0, 0, 0, 0.15);\n",
              "      filter: drop-shadow(0px 1px 2px rgba(0, 0, 0, 0.3));\n",
              "      fill: #FFFFFF;\n",
              "    }\n",
              "  </style>\n",
              "\n",
              "      <script>\n",
              "        const buttonEl =\n",
              "          document.querySelector('#df-21dd5866-8e8a-448c-913e-2d3677025310 button.colab-df-convert');\n",
              "        buttonEl.style.display =\n",
              "          google.colab.kernel.accessAllowed ? 'block' : 'none';\n",
              "\n",
              "        async function convertToInteractive(key) {\n",
              "          const element = document.querySelector('#df-21dd5866-8e8a-448c-913e-2d3677025310');\n",
              "          const dataTable =\n",
              "            await google.colab.kernel.invokeFunction('convertToInteractive',\n",
              "                                                     [key], {});\n",
              "          if (!dataTable) return;\n",
              "\n",
              "          const docLinkHtml = 'Like what you see? Visit the ' +\n",
              "            '<a target=\"_blank\" href=https://colab.research.google.com/notebooks/data_table.ipynb>data table notebook</a>'\n",
              "            + ' to learn more about interactive tables.';\n",
              "          element.innerHTML = '';\n",
              "          dataTable['output_type'] = 'display_data';\n",
              "          await google.colab.output.renderOutput(dataTable, element);\n",
              "          const docLink = document.createElement('div');\n",
              "          docLink.innerHTML = docLinkHtml;\n",
              "          element.appendChild(docLink);\n",
              "        }\n",
              "      </script>\n",
              "    </div>\n",
              "  </div>\n",
              "  "
            ],
            "text/plain": [
              "        Month  Counts\n",
              "0     January   22257\n",
              "1    February   20247\n",
              "2       March   22485\n",
              "3       April   21930\n",
              "4         May   23974\n",
              "5        June   23914\n",
              "6        July   25194\n",
              "7      August   25003\n",
              "8   September   24329\n",
              "9     October   25231\n",
              "10   November   24511\n",
              "11   December   22617"
            ]
          },
          "execution_count": 32,
          "metadata": {},
          "output_type": "execute_result"
        }
      ],
      "source": [
        "reportedmonth_bar = reportedmonth_bar.reset_index()\n",
        "reportedmonth_bar = reportedmonth_bar.rename(columns = {'index' : 'Month'})\n",
        "reportedmonth_bar = reportedmonth_bar.rename(columns = {'reportedmonth' : 'Counts'})\n",
        "reportedmonth_bar"
      ]
    },
    {
      "cell_type": "code",
      "execution_count": null,
      "metadata": {
        "colab": {
          "base_uri": "https://localhost:8080/",
          "height": 426
        },
        "id": "XuQakRhlOzlu",
        "outputId": "9a92baa8-b432-4c3a-fab0-a0c9ee13a28e"
      },
      "outputs": [
        {
          "data": {
            "text/html": [
              "\n",
              "  <div id=\"df-fc52488c-4cd8-47a5-b1ae-472be1b35528\">\n",
              "    <div class=\"colab-df-container\">\n",
              "      <div>\n",
              "<style scoped>\n",
              "    .dataframe tbody tr th:only-of-type {\n",
              "        vertical-align: middle;\n",
              "    }\n",
              "\n",
              "    .dataframe tbody tr th {\n",
              "        vertical-align: top;\n",
              "    }\n",
              "\n",
              "    .dataframe thead th {\n",
              "        text-align: right;\n",
              "    }\n",
              "</style>\n",
              "<table border=\"1\" class=\"dataframe\">\n",
              "  <thead>\n",
              "    <tr style=\"text-align: right;\">\n",
              "      <th></th>\n",
              "      <th>Month</th>\n",
              "      <th>Counts</th>\n",
              "      <th>Percentage</th>\n",
              "    </tr>\n",
              "  </thead>\n",
              "  <tbody>\n",
              "    <tr>\n",
              "      <th>0</th>\n",
              "      <td>January</td>\n",
              "      <td>22257</td>\n",
              "      <td>7.90</td>\n",
              "    </tr>\n",
              "    <tr>\n",
              "      <th>1</th>\n",
              "      <td>February</td>\n",
              "      <td>20247</td>\n",
              "      <td>7.19</td>\n",
              "    </tr>\n",
              "    <tr>\n",
              "      <th>2</th>\n",
              "      <td>March</td>\n",
              "      <td>22485</td>\n",
              "      <td>7.98</td>\n",
              "    </tr>\n",
              "    <tr>\n",
              "      <th>3</th>\n",
              "      <td>April</td>\n",
              "      <td>21930</td>\n",
              "      <td>7.79</td>\n",
              "    </tr>\n",
              "    <tr>\n",
              "      <th>4</th>\n",
              "      <td>May</td>\n",
              "      <td>23974</td>\n",
              "      <td>8.51</td>\n",
              "    </tr>\n",
              "    <tr>\n",
              "      <th>5</th>\n",
              "      <td>June</td>\n",
              "      <td>23914</td>\n",
              "      <td>8.49</td>\n",
              "    </tr>\n",
              "    <tr>\n",
              "      <th>6</th>\n",
              "      <td>July</td>\n",
              "      <td>25194</td>\n",
              "      <td>8.94</td>\n",
              "    </tr>\n",
              "    <tr>\n",
              "      <th>7</th>\n",
              "      <td>August</td>\n",
              "      <td>25003</td>\n",
              "      <td>8.88</td>\n",
              "    </tr>\n",
              "    <tr>\n",
              "      <th>8</th>\n",
              "      <td>September</td>\n",
              "      <td>24329</td>\n",
              "      <td>8.64</td>\n",
              "    </tr>\n",
              "    <tr>\n",
              "      <th>9</th>\n",
              "      <td>October</td>\n",
              "      <td>25231</td>\n",
              "      <td>8.96</td>\n",
              "    </tr>\n",
              "    <tr>\n",
              "      <th>10</th>\n",
              "      <td>November</td>\n",
              "      <td>24511</td>\n",
              "      <td>8.70</td>\n",
              "    </tr>\n",
              "    <tr>\n",
              "      <th>11</th>\n",
              "      <td>December</td>\n",
              "      <td>22617</td>\n",
              "      <td>8.03</td>\n",
              "    </tr>\n",
              "  </tbody>\n",
              "</table>\n",
              "</div>\n",
              "      <button class=\"colab-df-convert\" onclick=\"convertToInteractive('df-fc52488c-4cd8-47a5-b1ae-472be1b35528')\"\n",
              "              title=\"Convert this dataframe to an interactive table.\"\n",
              "              style=\"display:none;\">\n",
              "        \n",
              "  <svg xmlns=\"http://www.w3.org/2000/svg\" height=\"24px\"viewBox=\"0 0 24 24\"\n",
              "       width=\"24px\">\n",
              "    <path d=\"M0 0h24v24H0V0z\" fill=\"none\"/>\n",
              "    <path d=\"M18.56 5.44l.94 2.06.94-2.06 2.06-.94-2.06-.94-.94-2.06-.94 2.06-2.06.94zm-11 1L8.5 8.5l.94-2.06 2.06-.94-2.06-.94L8.5 2.5l-.94 2.06-2.06.94zm10 10l.94 2.06.94-2.06 2.06-.94-2.06-.94-.94-2.06-.94 2.06-2.06.94z\"/><path d=\"M17.41 7.96l-1.37-1.37c-.4-.4-.92-.59-1.43-.59-.52 0-1.04.2-1.43.59L10.3 9.45l-7.72 7.72c-.78.78-.78 2.05 0 2.83L4 21.41c.39.39.9.59 1.41.59.51 0 1.02-.2 1.41-.59l7.78-7.78 2.81-2.81c.8-.78.8-2.07 0-2.86zM5.41 20L4 18.59l7.72-7.72 1.47 1.35L5.41 20z\"/>\n",
              "  </svg>\n",
              "      </button>\n",
              "      \n",
              "  <style>\n",
              "    .colab-df-container {\n",
              "      display:flex;\n",
              "      flex-wrap:wrap;\n",
              "      gap: 12px;\n",
              "    }\n",
              "\n",
              "    .colab-df-convert {\n",
              "      background-color: #E8F0FE;\n",
              "      border: none;\n",
              "      border-radius: 50%;\n",
              "      cursor: pointer;\n",
              "      display: none;\n",
              "      fill: #1967D2;\n",
              "      height: 32px;\n",
              "      padding: 0 0 0 0;\n",
              "      width: 32px;\n",
              "    }\n",
              "\n",
              "    .colab-df-convert:hover {\n",
              "      background-color: #E2EBFA;\n",
              "      box-shadow: 0px 1px 2px rgba(60, 64, 67, 0.3), 0px 1px 3px 1px rgba(60, 64, 67, 0.15);\n",
              "      fill: #174EA6;\n",
              "    }\n",
              "\n",
              "    [theme=dark] .colab-df-convert {\n",
              "      background-color: #3B4455;\n",
              "      fill: #D2E3FC;\n",
              "    }\n",
              "\n",
              "    [theme=dark] .colab-df-convert:hover {\n",
              "      background-color: #434B5C;\n",
              "      box-shadow: 0px 1px 3px 1px rgba(0, 0, 0, 0.15);\n",
              "      filter: drop-shadow(0px 1px 2px rgba(0, 0, 0, 0.3));\n",
              "      fill: #FFFFFF;\n",
              "    }\n",
              "  </style>\n",
              "\n",
              "      <script>\n",
              "        const buttonEl =\n",
              "          document.querySelector('#df-fc52488c-4cd8-47a5-b1ae-472be1b35528 button.colab-df-convert');\n",
              "        buttonEl.style.display =\n",
              "          google.colab.kernel.accessAllowed ? 'block' : 'none';\n",
              "\n",
              "        async function convertToInteractive(key) {\n",
              "          const element = document.querySelector('#df-fc52488c-4cd8-47a5-b1ae-472be1b35528');\n",
              "          const dataTable =\n",
              "            await google.colab.kernel.invokeFunction('convertToInteractive',\n",
              "                                                     [key], {});\n",
              "          if (!dataTable) return;\n",
              "\n",
              "          const docLinkHtml = 'Like what you see? Visit the ' +\n",
              "            '<a target=\"_blank\" href=https://colab.research.google.com/notebooks/data_table.ipynb>data table notebook</a>'\n",
              "            + ' to learn more about interactive tables.';\n",
              "          element.innerHTML = '';\n",
              "          dataTable['output_type'] = 'display_data';\n",
              "          await google.colab.output.renderOutput(dataTable, element);\n",
              "          const docLink = document.createElement('div');\n",
              "          docLink.innerHTML = docLinkHtml;\n",
              "          element.appendChild(docLink);\n",
              "        }\n",
              "      </script>\n",
              "    </div>\n",
              "  </div>\n",
              "  "
            ],
            "text/plain": [
              "        Month  Counts  Percentage\n",
              "0     January   22257        7.90\n",
              "1    February   20247        7.19\n",
              "2       March   22485        7.98\n",
              "3       April   21930        7.79\n",
              "4         May   23974        8.51\n",
              "5        June   23914        8.49\n",
              "6        July   25194        8.94\n",
              "7      August   25003        8.88\n",
              "8   September   24329        8.64\n",
              "9     October   25231        8.96\n",
              "10   November   24511        8.70\n",
              "11   December   22617        8.03"
            ]
          },
          "execution_count": 33,
          "metadata": {},
          "output_type": "execute_result"
        }
      ],
      "source": [
        "percentage = []\n",
        "total_counts = reportedmonth_bar.Counts.sum()\n",
        "for i in range(reportedmonth_bar.shape[0]):\n",
        "  pct = (reportedmonth_bar.Counts[i] / total_counts)*100\n",
        "  percentage.append(round(pct, 2))\n",
        "reportedmonth_bar['Percentage'] = percentage\n",
        "reportedmonth_bar"
      ]
    },
    {
      "cell_type": "code",
      "execution_count": null,
      "metadata": {
        "colab": {
          "base_uri": "https://localhost:8080/",
          "height": 585
        },
        "id": "2dsHq0tFO2Ln",
        "outputId": "9269813b-df72-46a6-dc21-dcd0abf32e9b"
      },
      "outputs": [
        {
          "data": {
            "image/png": "[encoded data removed]",
            "text/plain": [
              "<Figure size 720x576 with 1 Axes>"
            ]
          },
          "metadata": {},
          "output_type": "display_data"
        }
      ],
      "source": [
        "# Bar graph\n",
        "plt.figure(figsize=(10,8))\n",
        "graph = plt.bar(reportedmonth_bar.Month, reportedmonth_bar.Counts)\n",
        "plt.title('Distribution of crimes by Month')\n",
        "i = 0\n",
        "for p in graph:\n",
        "  width = p.get_width()\n",
        "  height = p.get_height()\n",
        "  x, y = p.get_xy()\n",
        "  plt.text(x+width/2,\n",
        "           y+height*1.01,\n",
        "           str(reportedmonth_bar.Percentage[i])+'%',\n",
        "           ha='center',\n",
        "           weight='bold')\n",
        "  i+=1\n",
        "plt.xlabel('Month')\n",
        "plt.ylabel('Counts')\n",
        "plt.tight_layout()\n",
        "plt.show()"
      ]
    },
    {
      "cell_type": "markdown",
      "metadata": {
        "id": "tXbyHSvarebz"
      },
      "source": [
        "5. reportedday"
      ]
    },
    {
      "cell_type": "code",
      "execution_count": null,
      "metadata": {
        "colab": {
          "base_uri": "https://localhost:8080/"
        },
        "id": "YLi5HkQmXFir",
        "outputId": "4196c719-9a4b-4ea7-a41c-5b6e81182f84"
      },
      "outputs": [
        {
          "data": {
            "text/plain": [
              "18    9602\n",
              "20    9535\n",
              "17    9505\n",
              "22    9468\n",
              "16    9428\n",
              "23    9427\n",
              "19    9352\n",
              "9     9344\n",
              "11    9317\n",
              "1     9296\n",
              "25    9262\n",
              "13    9256\n",
              "10    9248\n",
              "12    9238\n",
              "14    9225\n",
              "7     9214\n",
              "27    9209\n",
              "28    9208\n",
              "21    9194\n",
              "4     9189\n",
              "3     9189\n",
              "24    9176\n",
              "15    9133\n",
              "8     9132\n",
              "6     9119\n",
              "2     9077\n",
              "5     9041\n",
              "26    9036\n",
              "29    8497\n",
              "30    8385\n",
              "31    5390\n",
              "Name: reportedday, dtype: int64"
            ]
          },
          "execution_count": 36,
          "metadata": {},
          "output_type": "execute_result"
        }
      ],
      "source": [
        "reportedday_bar = mci.reportedday.value_counts()\n",
        "reportedday_bar"
      ]
    },
    {
      "cell_type": "code",
      "execution_count": null,
      "metadata": {
        "colab": {
          "base_uri": "https://localhost:8080/",
          "height": 1000
        },
        "id": "SzsT6MyRXkII",
        "outputId": "4bd0822d-e6a7-4e89-b3e8-93d72dd82477"
      },
      "outputs": [
        {
          "data": {
            "text/html": [
              "\n",
              "  <div id=\"df-f43e8f7d-402c-40d6-b2a0-33aedad4dec4\">\n",
              "    <div class=\"colab-df-container\">\n",
              "      <div>\n",
              "<style scoped>\n",
              "    .dataframe tbody tr th:only-of-type {\n",
              "        vertical-align: middle;\n",
              "    }\n",
              "\n",
              "    .dataframe tbody tr th {\n",
              "        vertical-align: top;\n",
              "    }\n",
              "\n",
              "    .dataframe thead th {\n",
              "        text-align: right;\n",
              "    }\n",
              "</style>\n",
              "<table border=\"1\" class=\"dataframe\">\n",
              "  <thead>\n",
              "    <tr style=\"text-align: right;\">\n",
              "      <th></th>\n",
              "      <th>Day</th>\n",
              "      <th>Counts</th>\n",
              "    </tr>\n",
              "  </thead>\n",
              "  <tbody>\n",
              "    <tr>\n",
              "      <th>0</th>\n",
              "      <td>1</td>\n",
              "      <td>9296</td>\n",
              "    </tr>\n",
              "    <tr>\n",
              "      <th>1</th>\n",
              "      <td>2</td>\n",
              "      <td>9077</td>\n",
              "    </tr>\n",
              "    <tr>\n",
              "      <th>2</th>\n",
              "      <td>3</td>\n",
              "      <td>9189</td>\n",
              "    </tr>\n",
              "    <tr>\n",
              "      <th>3</th>\n",
              "      <td>4</td>\n",
              "      <td>9189</td>\n",
              "    </tr>\n",
              "    <tr>\n",
              "      <th>4</th>\n",
              "      <td>5</td>\n",
              "      <td>9041</td>\n",
              "    </tr>\n",
              "    <tr>\n",
              "      <th>5</th>\n",
              "      <td>6</td>\n",
              "      <td>9119</td>\n",
              "    </tr>\n",
              "    <tr>\n",
              "      <th>6</th>\n",
              "      <td>7</td>\n",
              "      <td>9214</td>\n",
              "    </tr>\n",
              "    <tr>\n",
              "      <th>7</th>\n",
              "      <td>8</td>\n",
              "      <td>9132</td>\n",
              "    </tr>\n",
              "    <tr>\n",
              "      <th>8</th>\n",
              "      <td>9</td>\n",
              "      <td>9344</td>\n",
              "    </tr>\n",
              "    <tr>\n",
              "      <th>9</th>\n",
              "      <td>10</td>\n",
              "      <td>9248</td>\n",
              "    </tr>\n",
              "    <tr>\n",
              "      <th>10</th>\n",
              "      <td>11</td>\n",
              "      <td>9317</td>\n",
              "    </tr>\n",
              "    <tr>\n",
              "      <th>11</th>\n",
              "      <td>12</td>\n",
              "      <td>9238</td>\n",
              "    </tr>\n",
              "    <tr>\n",
              "      <th>12</th>\n",
              "      <td>13</td>\n",
              "      <td>9256</td>\n",
              "    </tr>\n",
              "    <tr>\n",
              "      <th>13</th>\n",
              "      <td>14</td>\n",
              "      <td>9225</td>\n",
              "    </tr>\n",
              "    <tr>\n",
              "      <th>14</th>\n",
              "      <td>15</td>\n",
              "      <td>9133</td>\n",
              "    </tr>\n",
              "    <tr>\n",
              "      <th>15</th>\n",
              "      <td>16</td>\n",
              "      <td>9428</td>\n",
              "    </tr>\n",
              "    <tr>\n",
              "      <th>16</th>\n",
              "      <td>17</td>\n",
              "      <td>9505</td>\n",
              "    </tr>\n",
              "    <tr>\n",
              "      <th>17</th>\n",
              "      <td>18</td>\n",
              "      <td>9602</td>\n",
              "    </tr>\n",
              "    <tr>\n",
              "      <th>18</th>\n",
              "      <td>19</td>\n",
              "      <td>9352</td>\n",
              "    </tr>\n",
              "    <tr>\n",
              "      <th>19</th>\n",
              "      <td>20</td>\n",
              "      <td>9535</td>\n",
              "    </tr>\n",
              "    <tr>\n",
              "      <th>20</th>\n",
              "      <td>21</td>\n",
              "      <td>9194</td>\n",
              "    </tr>\n",
              "    <tr>\n",
              "      <th>21</th>\n",
              "      <td>22</td>\n",
              "      <td>9468</td>\n",
              "    </tr>\n",
              "    <tr>\n",
              "      <th>22</th>\n",
              "      <td>23</td>\n",
              "      <td>9427</td>\n",
              "    </tr>\n",
              "    <tr>\n",
              "      <th>23</th>\n",
              "      <td>24</td>\n",
              "      <td>9176</td>\n",
              "    </tr>\n",
              "    <tr>\n",
              "      <th>24</th>\n",
              "      <td>25</td>\n",
              "      <td>9262</td>\n",
              "    </tr>\n",
              "    <tr>\n",
              "      <th>25</th>\n",
              "      <td>26</td>\n",
              "      <td>9036</td>\n",
              "    </tr>\n",
              "    <tr>\n",
              "      <th>26</th>\n",
              "      <td>27</td>\n",
              "      <td>9209</td>\n",
              "    </tr>\n",
              "    <tr>\n",
              "      <th>27</th>\n",
              "      <td>28</td>\n",
              "      <td>9208</td>\n",
              "    </tr>\n",
              "    <tr>\n",
              "      <th>28</th>\n",
              "      <td>29</td>\n",
              "      <td>8497</td>\n",
              "    </tr>\n",
              "    <tr>\n",
              "      <th>29</th>\n",
              "      <td>30</td>\n",
              "      <td>8385</td>\n",
              "    </tr>\n",
              "    <tr>\n",
              "      <th>30</th>\n",
              "      <td>31</td>\n",
              "      <td>5390</td>\n",
              "    </tr>\n",
              "  </tbody>\n",
              "</table>\n",
              "</div>\n",
              "      <button class=\"colab-df-convert\" onclick=\"convertToInteractive('df-f43e8f7d-402c-40d6-b2a0-33aedad4dec4')\"\n",
              "              title=\"Convert this dataframe to an interactive table.\"\n",
              "              style=\"display:none;\">\n",
              "        \n",
              "  <svg xmlns=\"http://www.w3.org/2000/svg\" height=\"24px\"viewBox=\"0 0 24 24\"\n",
              "       width=\"24px\">\n",
              "    <path d=\"M0 0h24v24H0V0z\" fill=\"none\"/>\n",
              "    <path d=\"M18.56 5.44l.94 2.06.94-2.06 2.06-.94-2.06-.94-.94-2.06-.94 2.06-2.06.94zm-11 1L8.5 8.5l.94-2.06 2.06-.94-2.06-.94L8.5 2.5l-.94 2.06-2.06.94zm10 10l.94 2.06.94-2.06 2.06-.94-2.06-.94-.94-2.06-.94 2.06-2.06.94z\"/><path d=\"M17.41 7.96l-1.37-1.37c-.4-.4-.92-.59-1.43-.59-.52 0-1.04.2-1.43.59L10.3 9.45l-7.72 7.72c-.78.78-.78 2.05 0 2.83L4 21.41c.39.39.9.59 1.41.59.51 0 1.02-.2 1.41-.59l7.78-7.78 2.81-2.81c.8-.78.8-2.07 0-2.86zM5.41 20L4 18.59l7.72-7.72 1.47 1.35L5.41 20z\"/>\n",
              "  </svg>\n",
              "      </button>\n",
              "      \n",
              "  <style>\n",
              "    .colab-df-container {\n",
              "      display:flex;\n",
              "      flex-wrap:wrap;\n",
              "      gap: 12px;\n",
              "    }\n",
              "\n",
              "    .colab-df-convert {\n",
              "      background-color: #E8F0FE;\n",
              "      border: none;\n",
              "      border-radius: 50%;\n",
              "      cursor: pointer;\n",
              "      display: none;\n",
              "      fill: #1967D2;\n",
              "      height: 32px;\n",
              "      padding: 0 0 0 0;\n",
              "      width: 32px;\n",
              "    }\n",
              "\n",
              "    .colab-df-convert:hover {\n",
              "      background-color: #E2EBFA;\n",
              "      box-shadow: 0px 1px 2px rgba(60, 64, 67, 0.3), 0px 1px 3px 1px rgba(60, 64, 67, 0.15);\n",
              "      fill: #174EA6;\n",
              "    }\n",
              "\n",
              "    [theme=dark] .colab-df-convert {\n",
              "      background-color: #3B4455;\n",
              "      fill: #D2E3FC;\n",
              "    }\n",
              "\n",
              "    [theme=dark] .colab-df-convert:hover {\n",
              "      background-color: #434B5C;\n",
              "      box-shadow: 0px 1px 3px 1px rgba(0, 0, 0, 0.15);\n",
              "      filter: drop-shadow(0px 1px 2px rgba(0, 0, 0, 0.3));\n",
              "      fill: #FFFFFF;\n",
              "    }\n",
              "  </style>\n",
              "\n",
              "      <script>\n",
              "        const buttonEl =\n",
              "          document.querySelector('#df-f43e8f7d-402c-40d6-b2a0-33aedad4dec4 button.colab-df-convert');\n",
              "        buttonEl.style.display =\n",
              "          google.colab.kernel.accessAllowed ? 'block' : 'none';\n",
              "\n",
              "        async function convertToInteractive(key) {\n",
              "          const element = document.querySelector('#df-f43e8f7d-402c-40d6-b2a0-33aedad4dec4');\n",
              "          const dataTable =\n",
              "            await google.colab.kernel.invokeFunction('convertToInteractive',\n",
              "                                                     [key], {});\n",
              "          if (!dataTable) return;\n",
              "\n",
              "          const docLinkHtml = 'Like what you see? Visit the ' +\n",
              "            '<a target=\"_blank\" href=https://colab.research.google.com/notebooks/data_table.ipynb>data table notebook</a>'\n",
              "            + ' to learn more about interactive tables.';\n",
              "          element.innerHTML = '';\n",
              "          dataTable['output_type'] = 'display_data';\n",
              "          await google.colab.output.renderOutput(dataTable, element);\n",
              "          const docLink = document.createElement('div');\n",
              "          docLink.innerHTML = docLinkHtml;\n",
              "          element.appendChild(docLink);\n",
              "        }\n",
              "      </script>\n",
              "    </div>\n",
              "  </div>\n",
              "  "
            ],
            "text/plain": [
              "    Day  Counts\n",
              "0     1    9296\n",
              "1     2    9077\n",
              "2     3    9189\n",
              "3     4    9189\n",
              "4     5    9041\n",
              "5     6    9119\n",
              "6     7    9214\n",
              "7     8    9132\n",
              "8     9    9344\n",
              "9    10    9248\n",
              "10   11    9317\n",
              "11   12    9238\n",
              "12   13    9256\n",
              "13   14    9225\n",
              "14   15    9133\n",
              "15   16    9428\n",
              "16   17    9505\n",
              "17   18    9602\n",
              "18   19    9352\n",
              "19   20    9535\n",
              "20   21    9194\n",
              "21   22    9468\n",
              "22   23    9427\n",
              "23   24    9176\n",
              "24   25    9262\n",
              "25   26    9036\n",
              "26   27    9209\n",
              "27   28    9208\n",
              "28   29    8497\n",
              "29   30    8385\n",
              "30   31    5390"
            ]
          },
          "execution_count": 37,
          "metadata": {},
          "output_type": "execute_result"
        }
      ],
      "source": [
        "reportedday_bar = reportedday_bar.reset_index()\n",
        "reportedday_bar = reportedday_bar.rename(columns = {'index' : 'Day'})\n",
        "reportedday_bar = reportedday_bar.rename(columns = {'reportedday' : 'Counts'})\n",
        "reportedday_bar = reportedday_bar.sort_values('Day')\n",
        "reportedday_bar = reportedday_bar.reset_index(drop=True)\n",
        "reportedday_bar"
      ]
    },
    {
      "cell_type": "code",
      "execution_count": null,
      "metadata": {
        "colab": {
          "base_uri": "https://localhost:8080/",
          "height": 1000
        },
        "id": "UZ7kOYPdYykV",
        "outputId": "f38cfbf2-ab7f-4796-b974-8272326e7644"
      },
      "outputs": [
        {
          "data": {
            "text/html": [
              "\n",
              "  <div id=\"df-26c0ae52-12fc-4e65-875b-21ce394771b6\">\n",
              "    <div class=\"colab-df-container\">\n",
              "      <div>\n",
              "<style scoped>\n",
              "    .dataframe tbody tr th:only-of-type {\n",
              "        vertical-align: middle;\n",
              "    }\n",
              "\n",
              "    .dataframe tbody tr th {\n",
              "        vertical-align: top;\n",
              "    }\n",
              "\n",
              "    .dataframe thead th {\n",
              "        text-align: right;\n",
              "    }\n",
              "</style>\n",
              "<table border=\"1\" class=\"dataframe\">\n",
              "  <thead>\n",
              "    <tr style=\"text-align: right;\">\n",
              "      <th></th>\n",
              "      <th>Day</th>\n",
              "      <th>Counts</th>\n",
              "      <th>Percentage</th>\n",
              "    </tr>\n",
              "  </thead>\n",
              "  <tbody>\n",
              "    <tr>\n",
              "      <th>0</th>\n",
              "      <td>1</td>\n",
              "      <td>9296</td>\n",
              "      <td>3.30</td>\n",
              "    </tr>\n",
              "    <tr>\n",
              "      <th>1</th>\n",
              "      <td>2</td>\n",
              "      <td>9077</td>\n",
              "      <td>3.22</td>\n",
              "    </tr>\n",
              "    <tr>\n",
              "      <th>2</th>\n",
              "      <td>3</td>\n",
              "      <td>9189</td>\n",
              "      <td>3.26</td>\n",
              "    </tr>\n",
              "    <tr>\n",
              "      <th>3</th>\n",
              "      <td>4</td>\n",
              "      <td>9189</td>\n",
              "      <td>3.26</td>\n",
              "    </tr>\n",
              "    <tr>\n",
              "      <th>4</th>\n",
              "      <td>5</td>\n",
              "      <td>9041</td>\n",
              "      <td>3.21</td>\n",
              "    </tr>\n",
              "    <tr>\n",
              "      <th>5</th>\n",
              "      <td>6</td>\n",
              "      <td>9119</td>\n",
              "      <td>3.24</td>\n",
              "    </tr>\n",
              "    <tr>\n",
              "      <th>6</th>\n",
              "      <td>7</td>\n",
              "      <td>9214</td>\n",
              "      <td>3.27</td>\n",
              "    </tr>\n",
              "    <tr>\n",
              "      <th>7</th>\n",
              "      <td>8</td>\n",
              "      <td>9132</td>\n",
              "      <td>3.24</td>\n",
              "    </tr>\n",
              "    <tr>\n",
              "      <th>8</th>\n",
              "      <td>9</td>\n",
              "      <td>9344</td>\n",
              "      <td>3.32</td>\n",
              "    </tr>\n",
              "    <tr>\n",
              "      <th>9</th>\n",
              "      <td>10</td>\n",
              "      <td>9248</td>\n",
              "      <td>3.28</td>\n",
              "    </tr>\n",
              "    <tr>\n",
              "      <th>10</th>\n",
              "      <td>11</td>\n",
              "      <td>9317</td>\n",
              "      <td>3.31</td>\n",
              "    </tr>\n",
              "    <tr>\n",
              "      <th>11</th>\n",
              "      <td>12</td>\n",
              "      <td>9238</td>\n",
              "      <td>3.28</td>\n",
              "    </tr>\n",
              "    <tr>\n",
              "      <th>12</th>\n",
              "      <td>13</td>\n",
              "      <td>9256</td>\n",
              "      <td>3.29</td>\n",
              "    </tr>\n",
              "    <tr>\n",
              "      <th>13</th>\n",
              "      <td>14</td>\n",
              "      <td>9225</td>\n",
              "      <td>3.27</td>\n",
              "    </tr>\n",
              "    <tr>\n",
              "      <th>14</th>\n",
              "      <td>15</td>\n",
              "      <td>9133</td>\n",
              "      <td>3.24</td>\n",
              "    </tr>\n",
              "    <tr>\n",
              "      <th>15</th>\n",
              "      <td>16</td>\n",
              "      <td>9428</td>\n",
              "      <td>3.35</td>\n",
              "    </tr>\n",
              "    <tr>\n",
              "      <th>16</th>\n",
              "      <td>17</td>\n",
              "      <td>9505</td>\n",
              "      <td>3.37</td>\n",
              "    </tr>\n",
              "    <tr>\n",
              "      <th>17</th>\n",
              "      <td>18</td>\n",
              "      <td>9602</td>\n",
              "      <td>3.41</td>\n",
              "    </tr>\n",
              "    <tr>\n",
              "      <th>18</th>\n",
              "      <td>19</td>\n",
              "      <td>9352</td>\n",
              "      <td>3.32</td>\n",
              "    </tr>\n",
              "    <tr>\n",
              "      <th>19</th>\n",
              "      <td>20</td>\n",
              "      <td>9535</td>\n",
              "      <td>3.38</td>\n",
              "    </tr>\n",
              "    <tr>\n",
              "      <th>20</th>\n",
              "      <td>21</td>\n",
              "      <td>9194</td>\n",
              "      <td>3.26</td>\n",
              "    </tr>\n",
              "    <tr>\n",
              "      <th>21</th>\n",
              "      <td>22</td>\n",
              "      <td>9468</td>\n",
              "      <td>3.36</td>\n",
              "    </tr>\n",
              "    <tr>\n",
              "      <th>22</th>\n",
              "      <td>23</td>\n",
              "      <td>9427</td>\n",
              "      <td>3.35</td>\n",
              "    </tr>\n",
              "    <tr>\n",
              "      <th>23</th>\n",
              "      <td>24</td>\n",
              "      <td>9176</td>\n",
              "      <td>3.26</td>\n",
              "    </tr>\n",
              "    <tr>\n",
              "      <th>24</th>\n",
              "      <td>25</td>\n",
              "      <td>9262</td>\n",
              "      <td>3.29</td>\n",
              "    </tr>\n",
              "    <tr>\n",
              "      <th>25</th>\n",
              "      <td>26</td>\n",
              "      <td>9036</td>\n",
              "      <td>3.21</td>\n",
              "    </tr>\n",
              "    <tr>\n",
              "      <th>26</th>\n",
              "      <td>27</td>\n",
              "      <td>9209</td>\n",
              "      <td>3.27</td>\n",
              "    </tr>\n",
              "    <tr>\n",
              "      <th>27</th>\n",
              "      <td>28</td>\n",
              "      <td>9208</td>\n",
              "      <td>3.27</td>\n",
              "    </tr>\n",
              "    <tr>\n",
              "      <th>28</th>\n",
              "      <td>29</td>\n",
              "      <td>8497</td>\n",
              "      <td>3.02</td>\n",
              "    </tr>\n",
              "    <tr>\n",
              "      <th>29</th>\n",
              "      <td>30</td>\n",
              "      <td>8385</td>\n",
              "      <td>2.98</td>\n",
              "    </tr>\n",
              "    <tr>\n",
              "      <th>30</th>\n",
              "      <td>31</td>\n",
              "      <td>5390</td>\n",
              "      <td>1.91</td>\n",
              "    </tr>\n",
              "  </tbody>\n",
              "</table>\n",
              "</div>\n",
              "      <button class=\"colab-df-convert\" onclick=\"convertToInteractive('df-26c0ae52-12fc-4e65-875b-21ce394771b6')\"\n",
              "              title=\"Convert this dataframe to an interactive table.\"\n",
              "              style=\"display:none;\">\n",
              "        \n",
              "  <svg xmlns=\"http://www.w3.org/2000/svg\" height=\"24px\"viewBox=\"0 0 24 24\"\n",
              "       width=\"24px\">\n",
              "    <path d=\"M0 0h24v24H0V0z\" fill=\"none\"/>\n",
              "    <path d=\"M18.56 5.44l.94 2.06.94-2.06 2.06-.94-2.06-.94-.94-2.06-.94 2.06-2.06.94zm-11 1L8.5 8.5l.94-2.06 2.06-.94-2.06-.94L8.5 2.5l-.94 2.06-2.06.94zm10 10l.94 2.06.94-2.06 2.06-.94-2.06-.94-.94-2.06-.94 2.06-2.06.94z\"/><path d=\"M17.41 7.96l-1.37-1.37c-.4-.4-.92-.59-1.43-.59-.52 0-1.04.2-1.43.59L10.3 9.45l-7.72 7.72c-.78.78-.78 2.05 0 2.83L4 21.41c.39.39.9.59 1.41.59.51 0 1.02-.2 1.41-.59l7.78-7.78 2.81-2.81c.8-.78.8-2.07 0-2.86zM5.41 20L4 18.59l7.72-7.72 1.47 1.35L5.41 20z\"/>\n",
              "  </svg>\n",
              "      </button>\n",
              "      \n",
              "  <style>\n",
              "    .colab-df-container {\n",
              "      display:flex;\n",
              "      flex-wrap:wrap;\n",
              "      gap: 12px;\n",
              "    }\n",
              "\n",
              "    .colab-df-convert {\n",
              "      background-color: #E8F0FE;\n",
              "      border: none;\n",
              "      border-radius: 50%;\n",
              "      cursor: pointer;\n",
              "      display: none;\n",
              "      fill: #1967D2;\n",
              "      height: 32px;\n",
              "      padding: 0 0 0 0;\n",
              "      width: 32px;\n",
              "    }\n",
              "\n",
              "    .colab-df-convert:hover {\n",
              "      background-color: #E2EBFA;\n",
              "      box-shadow: 0px 1px 2px rgba(60, 64, 67, 0.3), 0px 1px 3px 1px rgba(60, 64, 67, 0.15);\n",
              "      fill: #174EA6;\n",
              "    }\n",
              "\n",
              "    [theme=dark] .colab-df-convert {\n",
              "      background-color: #3B4455;\n",
              "      fill: #D2E3FC;\n",
              "    }\n",
              "\n",
              "    [theme=dark] .colab-df-convert:hover {\n",
              "      background-color: #434B5C;\n",
              "      box-shadow: 0px 1px 3px 1px rgba(0, 0, 0, 0.15);\n",
              "      filter: drop-shadow(0px 1px 2px rgba(0, 0, 0, 0.3));\n",
              "      fill: #FFFFFF;\n",
              "    }\n",
              "  </style>\n",
              "\n",
              "      <script>\n",
              "        const buttonEl =\n",
              "          document.querySelector('#df-26c0ae52-12fc-4e65-875b-21ce394771b6 button.colab-df-convert');\n",
              "        buttonEl.style.display =\n",
              "          google.colab.kernel.accessAllowed ? 'block' : 'none';\n",
              "\n",
              "        async function convertToInteractive(key) {\n",
              "          const element = document.querySelector('#df-26c0ae52-12fc-4e65-875b-21ce394771b6');\n",
              "          const dataTable =\n",
              "            await google.colab.kernel.invokeFunction('convertToInteractive',\n",
              "                                                     [key], {});\n",
              "          if (!dataTable) return;\n",
              "\n",
              "          const docLinkHtml = 'Like what you see? Visit the ' +\n",
              "            '<a target=\"_blank\" href=https://colab.research.google.com/notebooks/data_table.ipynb>data table notebook</a>'\n",
              "            + ' to learn more about interactive tables.';\n",
              "          element.innerHTML = '';\n",
              "          dataTable['output_type'] = 'display_data';\n",
              "          await google.colab.output.renderOutput(dataTable, element);\n",
              "          const docLink = document.createElement('div');\n",
              "          docLink.innerHTML = docLinkHtml;\n",
              "          element.appendChild(docLink);\n",
              "        }\n",
              "      </script>\n",
              "    </div>\n",
              "  </div>\n",
              "  "
            ],
            "text/plain": [
              "    Day  Counts  Percentage\n",
              "0     1    9296        3.30\n",
              "1     2    9077        3.22\n",
              "2     3    9189        3.26\n",
              "3     4    9189        3.26\n",
              "4     5    9041        3.21\n",
              "5     6    9119        3.24\n",
              "6     7    9214        3.27\n",
              "7     8    9132        3.24\n",
              "8     9    9344        3.32\n",
              "9    10    9248        3.28\n",
              "10   11    9317        3.31\n",
              "11   12    9238        3.28\n",
              "12   13    9256        3.29\n",
              "13   14    9225        3.27\n",
              "14   15    9133        3.24\n",
              "15   16    9428        3.35\n",
              "16   17    9505        3.37\n",
              "17   18    9602        3.41\n",
              "18   19    9352        3.32\n",
              "19   20    9535        3.38\n",
              "20   21    9194        3.26\n",
              "21   22    9468        3.36\n",
              "22   23    9427        3.35\n",
              "23   24    9176        3.26\n",
              "24   25    9262        3.29\n",
              "25   26    9036        3.21\n",
              "26   27    9209        3.27\n",
              "27   28    9208        3.27\n",
              "28   29    8497        3.02\n",
              "29   30    8385        2.98\n",
              "30   31    5390        1.91"
            ]
          },
          "execution_count": 38,
          "metadata": {},
          "output_type": "execute_result"
        }
      ],
      "source": [
        "percentage = []\n",
        "total_counts = reportedday_bar.Counts.sum()\n",
        "for i in range(reportedday_bar.shape[0]):\n",
        "  pct = (reportedday_bar.Counts[i] / total_counts)*100\n",
        "  percentage.append(round(pct, 2))\n",
        "reportedday_bar['Percentage'] = percentage\n",
        "reportedday_bar"
      ]
    },
    {
      "cell_type": "code",
      "execution_count": null,
      "metadata": {
        "colab": {
          "base_uri": "https://localhost:8080/",
          "height": 585
        },
        "id": "A9G6hjIhY72d",
        "outputId": "6be7203c-2e81-4170-d029-3d9db087449d"
      },
      "outputs": [
        {
          "data": {
            "image/png": "[encoded data removed]",
            "text/plain": [
              "<Figure size 1296x576 with 1 Axes>"
            ]
          },
          "metadata": {},
          "output_type": "display_data"
        }
      ],
      "source": [
        "# Bar graph\n",
        "plt.figure(figsize=(18,8))\n",
        "graph = plt.bar(reportedday_bar.Day, reportedday_bar.Counts)\n",
        "plt.title('Distribution of crimes by Day')\n",
        "i = 0\n",
        "for p in graph:\n",
        "  width = p.get_width()\n",
        "  height = p.get_height()\n",
        "  x, y = p.get_xy()\n",
        "  plt.text(x+width/2,\n",
        "           y+height*1.01,\n",
        "           str(reportedday_bar.Percentage[i])+'%',\n",
        "           ha='center',\n",
        "           weight='bold')\n",
        "  i+=1\n",
        "plt.xlabel('Day')\n",
        "plt.ylabel('Counts')\n",
        "plt.tight_layout()\n",
        "plt.show()"
      ]
    },
    {
      "cell_type": "markdown",
      "metadata": {
        "id": "NxZiBRFVrh0c"
      },
      "source": [
        "6. reporteddayofweek"
      ]
    },
    {
      "cell_type": "code",
      "execution_count": null,
      "metadata": {
        "colab": {
          "base_uri": "https://localhost:8080/"
        },
        "id": "uwUodrNCZiT-",
        "outputId": "ad213370-934d-4404-bb02-c034fdfd2e61"
      },
      "outputs": [
        {
          "data": {
            "text/plain": [
              "Monday       41629\n",
              "Friday       41318\n",
              "Wednesday    40566\n",
              "Tuesday      40456\n",
              "Thursday     40090\n",
              "Saturday     38992\n",
              "Sunday       38641\n",
              "Name: reporteddayofweek, dtype: int64"
            ]
          },
          "execution_count": 40,
          "metadata": {},
          "output_type": "execute_result"
        }
      ],
      "source": [
        "reporteddayofweek_bar = mci.reporteddayofweek.value_counts()\n",
        "reporteddayofweek_bar"
      ]
    },
    {
      "cell_type": "code",
      "execution_count": null,
      "metadata": {
        "colab": {
          "base_uri": "https://localhost:8080/"
        },
        "id": "NNJoRR0nZ1W5",
        "outputId": "fbbbd18b-2f80-4d97-fc5f-441023aa759d"
      },
      "outputs": [
        {
          "data": {
            "text/plain": [
              "Monday       41629\n",
              "Tuesday      40456\n",
              "Wednesday    40566\n",
              "Thursday     40090\n",
              "Friday       41318\n",
              "Saturday     38992\n",
              "Sunday       38641\n",
              "Name: reporteddayofweek, dtype: int64"
            ]
          },
          "execution_count": 41,
          "metadata": {},
          "output_type": "execute_result"
        }
      ],
      "source": [
        "week = ['Monday', 'Tuesday', 'Wednesday', 'Thursday', 'Friday', 'Saturday', 'Sunday']\n",
        "reporteddayofweek_bar = reporteddayofweek_bar.reindex(week)\n",
        "reporteddayofweek_bar"
      ]
    },
    {
      "cell_type": "code",
      "execution_count": null,
      "metadata": {
        "colab": {
          "base_uri": "https://localhost:8080/",
          "height": 269
        },
        "id": "oSy0Xmcdf9gk",
        "outputId": "aa2604f0-0179-4a05-9114-8569ad813269"
      },
      "outputs": [
        {
          "data": {
            "text/html": [
              "\n",
              "  <div id=\"df-8614ea3c-58f6-4d89-a686-ccdce74dd2b6\">\n",
              "    <div class=\"colab-df-container\">\n",
              "      <div>\n",
              "<style scoped>\n",
              "    .dataframe tbody tr th:only-of-type {\n",
              "        vertical-align: middle;\n",
              "    }\n",
              "\n",
              "    .dataframe tbody tr th {\n",
              "        vertical-align: top;\n",
              "    }\n",
              "\n",
              "    .dataframe thead th {\n",
              "        text-align: right;\n",
              "    }\n",
              "</style>\n",
              "<table border=\"1\" class=\"dataframe\">\n",
              "  <thead>\n",
              "    <tr style=\"text-align: right;\">\n",
              "      <th></th>\n",
              "      <th>Day_of_Week</th>\n",
              "      <th>Counts</th>\n",
              "    </tr>\n",
              "  </thead>\n",
              "  <tbody>\n",
              "    <tr>\n",
              "      <th>0</th>\n",
              "      <td>Monday</td>\n",
              "      <td>41629</td>\n",
              "    </tr>\n",
              "    <tr>\n",
              "      <th>1</th>\n",
              "      <td>Tuesday</td>\n",
              "      <td>40456</td>\n",
              "    </tr>\n",
              "    <tr>\n",
              "      <th>2</th>\n",
              "      <td>Wednesday</td>\n",
              "      <td>40566</td>\n",
              "    </tr>\n",
              "    <tr>\n",
              "      <th>3</th>\n",
              "      <td>Thursday</td>\n",
              "      <td>40090</td>\n",
              "    </tr>\n",
              "    <tr>\n",
              "      <th>4</th>\n",
              "      <td>Friday</td>\n",
              "      <td>41318</td>\n",
              "    </tr>\n",
              "    <tr>\n",
              "      <th>5</th>\n",
              "      <td>Saturday</td>\n",
              "      <td>38992</td>\n",
              "    </tr>\n",
              "    <tr>\n",
              "      <th>6</th>\n",
              "      <td>Sunday</td>\n",
              "      <td>38641</td>\n",
              "    </tr>\n",
              "  </tbody>\n",
              "</table>\n",
              "</div>\n",
              "      <button class=\"colab-df-convert\" onclick=\"convertToInteractive('df-8614ea3c-58f6-4d89-a686-ccdce74dd2b6')\"\n",
              "              title=\"Convert this dataframe to an interactive table.\"\n",
              "              style=\"display:none;\">\n",
              "        \n",
              "  <svg xmlns=\"http://www.w3.org/2000/svg\" height=\"24px\"viewBox=\"0 0 24 24\"\n",
              "       width=\"24px\">\n",
              "    <path d=\"M0 0h24v24H0V0z\" fill=\"none\"/>\n",
              "    <path d=\"M18.56 5.44l.94 2.06.94-2.06 2.06-.94-2.06-.94-.94-2.06-.94 2.06-2.06.94zm-11 1L8.5 8.5l.94-2.06 2.06-.94-2.06-.94L8.5 2.5l-.94 2.06-2.06.94zm10 10l.94 2.06.94-2.06 2.06-.94-2.06-.94-.94-2.06-.94 2.06-2.06.94z\"/><path d=\"M17.41 7.96l-1.37-1.37c-.4-.4-.92-.59-1.43-.59-.52 0-1.04.2-1.43.59L10.3 9.45l-7.72 7.72c-.78.78-.78 2.05 0 2.83L4 21.41c.39.39.9.59 1.41.59.51 0 1.02-.2 1.41-.59l7.78-7.78 2.81-2.81c.8-.78.8-2.07 0-2.86zM5.41 20L4 18.59l7.72-7.72 1.47 1.35L5.41 20z\"/>\n",
              "  </svg>\n",
              "      </button>\n",
              "      \n",
              "  <style>\n",
              "    .colab-df-container {\n",
              "      display:flex;\n",
              "      flex-wrap:wrap;\n",
              "      gap: 12px;\n",
              "    }\n",
              "\n",
              "    .colab-df-convert {\n",
              "      background-color: #E8F0FE;\n",
              "      border: none;\n",
              "      border-radius: 50%;\n",
              "      cursor: pointer;\n",
              "      display: none;\n",
              "      fill: #1967D2;\n",
              "      height: 32px;\n",
              "      padding: 0 0 0 0;\n",
              "      width: 32px;\n",
              "    }\n",
              "\n",
              "    .colab-df-convert:hover {\n",
              "      background-color: #E2EBFA;\n",
              "      box-shadow: 0px 1px 2px rgba(60, 64, 67, 0.3), 0px 1px 3px 1px rgba(60, 64, 67, 0.15);\n",
              "      fill: #174EA6;\n",
              "    }\n",
              "\n",
              "    [theme=dark] .colab-df-convert {\n",
              "      background-color: #3B4455;\n",
              "      fill: #D2E3FC;\n",
              "    }\n",
              "\n",
              "    [theme=dark] .colab-df-convert:hover {\n",
              "      background-color: #434B5C;\n",
              "      box-shadow: 0px 1px 3px 1px rgba(0, 0, 0, 0.15);\n",
              "      filter: drop-shadow(0px 1px 2px rgba(0, 0, 0, 0.3));\n",
              "      fill: #FFFFFF;\n",
              "    }\n",
              "  </style>\n",
              "\n",
              "      <script>\n",
              "        const buttonEl =\n",
              "          document.querySelector('#df-8614ea3c-58f6-4d89-a686-ccdce74dd2b6 button.colab-df-convert');\n",
              "        buttonEl.style.display =\n",
              "          google.colab.kernel.accessAllowed ? 'block' : 'none';\n",
              "\n",
              "        async function convertToInteractive(key) {\n",
              "          const element = document.querySelector('#df-8614ea3c-58f6-4d89-a686-ccdce74dd2b6');\n",
              "          const dataTable =\n",
              "            await google.colab.kernel.invokeFunction('convertToInteractive',\n",
              "                                                     [key], {});\n",
              "          if (!dataTable) return;\n",
              "\n",
              "          const docLinkHtml = 'Like what you see? Visit the ' +\n",
              "            '<a target=\"_blank\" href=https://colab.research.google.com/notebooks/data_table.ipynb>data table notebook</a>'\n",
              "            + ' to learn more about interactive tables.';\n",
              "          element.innerHTML = '';\n",
              "          dataTable['output_type'] = 'display_data';\n",
              "          await google.colab.output.renderOutput(dataTable, element);\n",
              "          const docLink = document.createElement('div');\n",
              "          docLink.innerHTML = docLinkHtml;\n",
              "          element.appendChild(docLink);\n",
              "        }\n",
              "      </script>\n",
              "    </div>\n",
              "  </div>\n",
              "  "
            ],
            "text/plain": [
              "  Day_of_Week  Counts\n",
              "0      Monday   41629\n",
              "1     Tuesday   40456\n",
              "2   Wednesday   40566\n",
              "3    Thursday   40090\n",
              "4      Friday   41318\n",
              "5    Saturday   38992\n",
              "6      Sunday   38641"
            ]
          },
          "execution_count": 42,
          "metadata": {},
          "output_type": "execute_result"
        }
      ],
      "source": [
        "reporteddayofweek_bar = reporteddayofweek_bar.reset_index()\n",
        "reporteddayofweek_bar = reporteddayofweek_bar.rename(columns = {'index' : 'Day_of_Week'})\n",
        "reporteddayofweek_bar = reporteddayofweek_bar.rename(columns = {'reporteddayofweek' : 'Counts'})\n",
        "reporteddayofweek_bar"
      ]
    },
    {
      "cell_type": "code",
      "execution_count": null,
      "metadata": {
        "colab": {
          "base_uri": "https://localhost:8080/",
          "height": 269
        },
        "id": "rUZgnrp5g4fU",
        "outputId": "0496f0ea-b588-4412-8002-79c7aeddb1f5"
      },
      "outputs": [
        {
          "data": {
            "text/html": [
              "\n",
              "  <div id=\"df-6fc7351a-0651-4e2e-b380-3e65ec0a392b\">\n",
              "    <div class=\"colab-df-container\">\n",
              "      <div>\n",
              "<style scoped>\n",
              "    .dataframe tbody tr th:only-of-type {\n",
              "        vertical-align: middle;\n",
              "    }\n",
              "\n",
              "    .dataframe tbody tr th {\n",
              "        vertical-align: top;\n",
              "    }\n",
              "\n",
              "    .dataframe thead th {\n",
              "        text-align: right;\n",
              "    }\n",
              "</style>\n",
              "<table border=\"1\" class=\"dataframe\">\n",
              "  <thead>\n",
              "    <tr style=\"text-align: right;\">\n",
              "      <th></th>\n",
              "      <th>Day_of_Week</th>\n",
              "      <th>Counts</th>\n",
              "      <th>Percentage</th>\n",
              "    </tr>\n",
              "  </thead>\n",
              "  <tbody>\n",
              "    <tr>\n",
              "      <th>0</th>\n",
              "      <td>Monday</td>\n",
              "      <td>41629</td>\n",
              "      <td>14.78</td>\n",
              "    </tr>\n",
              "    <tr>\n",
              "      <th>1</th>\n",
              "      <td>Tuesday</td>\n",
              "      <td>40456</td>\n",
              "      <td>14.36</td>\n",
              "    </tr>\n",
              "    <tr>\n",
              "      <th>2</th>\n",
              "      <td>Wednesday</td>\n",
              "      <td>40566</td>\n",
              "      <td>14.40</td>\n",
              "    </tr>\n",
              "    <tr>\n",
              "      <th>3</th>\n",
              "      <td>Thursday</td>\n",
              "      <td>40090</td>\n",
              "      <td>14.23</td>\n",
              "    </tr>\n",
              "    <tr>\n",
              "      <th>4</th>\n",
              "      <td>Friday</td>\n",
              "      <td>41318</td>\n",
              "      <td>14.67</td>\n",
              "    </tr>\n",
              "    <tr>\n",
              "      <th>5</th>\n",
              "      <td>Saturday</td>\n",
              "      <td>38992</td>\n",
              "      <td>13.84</td>\n",
              "    </tr>\n",
              "    <tr>\n",
              "      <th>6</th>\n",
              "      <td>Sunday</td>\n",
              "      <td>38641</td>\n",
              "      <td>13.72</td>\n",
              "    </tr>\n",
              "  </tbody>\n",
              "</table>\n",
              "</div>\n",
              "      <button class=\"colab-df-convert\" onclick=\"convertToInteractive('df-6fc7351a-0651-4e2e-b380-3e65ec0a392b')\"\n",
              "              title=\"Convert this dataframe to an interactive table.\"\n",
              "              style=\"display:none;\">\n",
              "        \n",
              "  <svg xmlns=\"http://www.w3.org/2000/svg\" height=\"24px\"viewBox=\"0 0 24 24\"\n",
              "       width=\"24px\">\n",
              "    <path d=\"M0 0h24v24H0V0z\" fill=\"none\"/>\n",
              "    <path d=\"M18.56 5.44l.94 2.06.94-2.06 2.06-.94-2.06-.94-.94-2.06-.94 2.06-2.06.94zm-11 1L8.5 8.5l.94-2.06 2.06-.94-2.06-.94L8.5 2.5l-.94 2.06-2.06.94zm10 10l.94 2.06.94-2.06 2.06-.94-2.06-.94-.94-2.06-.94 2.06-2.06.94z\"/><path d=\"M17.41 7.96l-1.37-1.37c-.4-.4-.92-.59-1.43-.59-.52 0-1.04.2-1.43.59L10.3 9.45l-7.72 7.72c-.78.78-.78 2.05 0 2.83L4 21.41c.39.39.9.59 1.41.59.51 0 1.02-.2 1.41-.59l7.78-7.78 2.81-2.81c.8-.78.8-2.07 0-2.86zM5.41 20L4 18.59l7.72-7.72 1.47 1.35L5.41 20z\"/>\n",
              "  </svg>\n",
              "      </button>\n",
              "      \n",
              "  <style>\n",
              "    .colab-df-container {\n",
              "      display:flex;\n",
              "      flex-wrap:wrap;\n",
              "      gap: 12px;\n",
              "    }\n",
              "\n",
              "    .colab-df-convert {\n",
              "      background-color: #E8F0FE;\n",
              "      border: none;\n",
              "      border-radius: 50%;\n",
              "      cursor: pointer;\n",
              "      display: none;\n",
              "      fill: #1967D2;\n",
              "      height: 32px;\n",
              "      padding: 0 0 0 0;\n",
              "      width: 32px;\n",
              "    }\n",
              "\n",
              "    .colab-df-convert:hover {\n",
              "      background-color: #E2EBFA;\n",
              "      box-shadow: 0px 1px 2px rgba(60, 64, 67, 0.3), 0px 1px 3px 1px rgba(60, 64, 67, 0.15);\n",
              "      fill: #174EA6;\n",
              "    }\n",
              "\n",
              "    [theme=dark] .colab-df-convert {\n",
              "      background-color: #3B4455;\n",
              "      fill: #D2E3FC;\n",
              "    }\n",
              "\n",
              "    [theme=dark] .colab-df-convert:hover {\n",
              "      background-color: #434B5C;\n",
              "      box-shadow: 0px 1px 3px 1px rgba(0, 0, 0, 0.15);\n",
              "      filter: drop-shadow(0px 1px 2px rgba(0, 0, 0, 0.3));\n",
              "      fill: #FFFFFF;\n",
              "    }\n",
              "  </style>\n",
              "\n",
              "      <script>\n",
              "        const buttonEl =\n",
              "          document.querySelector('#df-6fc7351a-0651-4e2e-b380-3e65ec0a392b button.colab-df-convert');\n",
              "        buttonEl.style.display =\n",
              "          google.colab.kernel.accessAllowed ? 'block' : 'none';\n",
              "\n",
              "        async function convertToInteractive(key) {\n",
              "          const element = document.querySelector('#df-6fc7351a-0651-4e2e-b380-3e65ec0a392b');\n",
              "          const dataTable =\n",
              "            await google.colab.kernel.invokeFunction('convertToInteractive',\n",
              "                                                     [key], {});\n",
              "          if (!dataTable) return;\n",
              "\n",
              "          const docLinkHtml = 'Like what you see? Visit the ' +\n",
              "            '<a target=\"_blank\" href=https://colab.research.google.com/notebooks/data_table.ipynb>data table notebook</a>'\n",
              "            + ' to learn more about interactive tables.';\n",
              "          element.innerHTML = '';\n",
              "          dataTable['output_type'] = 'display_data';\n",
              "          await google.colab.output.renderOutput(dataTable, element);\n",
              "          const docLink = document.createElement('div');\n",
              "          docLink.innerHTML = docLinkHtml;\n",
              "          element.appendChild(docLink);\n",
              "        }\n",
              "      </script>\n",
              "    </div>\n",
              "  </div>\n",
              "  "
            ],
            "text/plain": [
              "  Day_of_Week  Counts  Percentage\n",
              "0      Monday   41629       14.78\n",
              "1     Tuesday   40456       14.36\n",
              "2   Wednesday   40566       14.40\n",
              "3    Thursday   40090       14.23\n",
              "4      Friday   41318       14.67\n",
              "5    Saturday   38992       13.84\n",
              "6      Sunday   38641       13.72"
            ]
          },
          "execution_count": 43,
          "metadata": {},
          "output_type": "execute_result"
        }
      ],
      "source": [
        "percentage = []\n",
        "total_counts = reporteddayofweek_bar.Counts.sum()\n",
        "for i in range(reporteddayofweek_bar.shape[0]):\n",
        "  pct = (reporteddayofweek_bar.Counts[i] / total_counts)*100\n",
        "  percentage.append(round(pct, 2))\n",
        "reporteddayofweek_bar['Percentage'] = percentage\n",
        "reporteddayofweek_bar"
      ]
    },
    {
      "cell_type": "code",
      "execution_count": null,
      "metadata": {
        "colab": {
          "base_uri": "https://localhost:8080/",
          "height": 585
        },
        "id": "O6aMeHn-gSvW",
        "outputId": "1aa37001-4038-4a90-d587-4eff90432a9b"
      },
      "outputs": [
        {
          "data": {
            "image/png": "[encoded data removed]",
            "text/plain": [
              "<Figure size 720x576 with 1 Axes>"
            ]
          },
          "metadata": {},
          "output_type": "display_data"
        }
      ],
      "source": [
        "# Bar graph\n",
        "plt.figure(figsize=(10,8))\n",
        "graph = plt.bar(reporteddayofweek_bar.Day_of_Week, reporteddayofweek_bar.Counts)\n",
        "plt.title('Distribution of crimes by the day of week')\n",
        "i = 0\n",
        "for p in graph:\n",
        "  width = p.get_width()\n",
        "  height = p.get_height()\n",
        "  x, y = p.get_xy()\n",
        "  plt.text(x+width/2,\n",
        "           y+height*1.01,\n",
        "           str(reporteddayofweek_bar.Percentage[i])+'%',\n",
        "           ha='center',\n",
        "           weight='bold')\n",
        "  i+=1\n",
        "plt.xlabel('Day of Week')\n",
        "plt.ylabel('Counts')\n",
        "plt.tight_layout()\n",
        "plt.show()"
      ]
    },
    {
      "cell_type": "markdown",
      "metadata": {
        "id": "_xIWXVj8rku-"
      },
      "source": [
        "7. reportedhour"
      ]
    },
    {
      "cell_type": "code",
      "execution_count": null,
      "metadata": {
        "id": "7INOKIOuifVv"
      },
      "outputs": [],
      "source": [
        "reportedhour_bar = mci.reportedhour.value_counts()"
      ]
    },
    {
      "cell_type": "code",
      "execution_count": null,
      "metadata": {
        "colab": {
          "base_uri": "https://localhost:8080/",
          "height": 802
        },
        "id": "i389MUkUimyd",
        "outputId": "67e8ff1f-59c9-4410-ea72-49f4e3b22946"
      },
      "outputs": [
        {
          "data": {
            "text/html": [
              "\n",
              "  <div id=\"df-5c6845cc-d6a7-4577-b20b-61c59daf357a\">\n",
              "    <div class=\"colab-df-container\">\n",
              "      <div>\n",
              "<style scoped>\n",
              "    .dataframe tbody tr th:only-of-type {\n",
              "        vertical-align: middle;\n",
              "    }\n",
              "\n",
              "    .dataframe tbody tr th {\n",
              "        vertical-align: top;\n",
              "    }\n",
              "\n",
              "    .dataframe thead th {\n",
              "        text-align: right;\n",
              "    }\n",
              "</style>\n",
              "<table border=\"1\" class=\"dataframe\">\n",
              "  <thead>\n",
              "    <tr style=\"text-align: right;\">\n",
              "      <th></th>\n",
              "      <th>Hour</th>\n",
              "      <th>Counts</th>\n",
              "    </tr>\n",
              "  </thead>\n",
              "  <tbody>\n",
              "    <tr>\n",
              "      <th>0</th>\n",
              "      <td>0</td>\n",
              "      <td>9788</td>\n",
              "    </tr>\n",
              "    <tr>\n",
              "      <th>1</th>\n",
              "      <td>1</td>\n",
              "      <td>9108</td>\n",
              "    </tr>\n",
              "    <tr>\n",
              "      <th>2</th>\n",
              "      <td>2</td>\n",
              "      <td>8695</td>\n",
              "    </tr>\n",
              "    <tr>\n",
              "      <th>3</th>\n",
              "      <td>3</td>\n",
              "      <td>7301</td>\n",
              "    </tr>\n",
              "    <tr>\n",
              "      <th>4</th>\n",
              "      <td>4</td>\n",
              "      <td>6066</td>\n",
              "    </tr>\n",
              "    <tr>\n",
              "      <th>5</th>\n",
              "      <td>5</td>\n",
              "      <td>5082</td>\n",
              "    </tr>\n",
              "    <tr>\n",
              "      <th>6</th>\n",
              "      <td>6</td>\n",
              "      <td>6658</td>\n",
              "    </tr>\n",
              "    <tr>\n",
              "      <th>7</th>\n",
              "      <td>7</td>\n",
              "      <td>9095</td>\n",
              "    </tr>\n",
              "    <tr>\n",
              "      <th>8</th>\n",
              "      <td>8</td>\n",
              "      <td>11274</td>\n",
              "    </tr>\n",
              "    <tr>\n",
              "      <th>9</th>\n",
              "      <td>9</td>\n",
              "      <td>13148</td>\n",
              "    </tr>\n",
              "    <tr>\n",
              "      <th>10</th>\n",
              "      <td>10</td>\n",
              "      <td>13128</td>\n",
              "    </tr>\n",
              "    <tr>\n",
              "      <th>11</th>\n",
              "      <td>11</td>\n",
              "      <td>13570</td>\n",
              "    </tr>\n",
              "    <tr>\n",
              "      <th>12</th>\n",
              "      <td>12</td>\n",
              "      <td>14353</td>\n",
              "    </tr>\n",
              "    <tr>\n",
              "      <th>13</th>\n",
              "      <td>13</td>\n",
              "      <td>14598</td>\n",
              "    </tr>\n",
              "    <tr>\n",
              "      <th>14</th>\n",
              "      <td>14</td>\n",
              "      <td>14502</td>\n",
              "    </tr>\n",
              "    <tr>\n",
              "      <th>15</th>\n",
              "      <td>15</td>\n",
              "      <td>15216</td>\n",
              "    </tr>\n",
              "    <tr>\n",
              "      <th>16</th>\n",
              "      <td>16</td>\n",
              "      <td>14754</td>\n",
              "    </tr>\n",
              "    <tr>\n",
              "      <th>17</th>\n",
              "      <td>17</td>\n",
              "      <td>14353</td>\n",
              "    </tr>\n",
              "    <tr>\n",
              "      <th>18</th>\n",
              "      <td>18</td>\n",
              "      <td>14839</td>\n",
              "    </tr>\n",
              "    <tr>\n",
              "      <th>19</th>\n",
              "      <td>19</td>\n",
              "      <td>14316</td>\n",
              "    </tr>\n",
              "    <tr>\n",
              "      <th>20</th>\n",
              "      <td>20</td>\n",
              "      <td>13917</td>\n",
              "    </tr>\n",
              "    <tr>\n",
              "      <th>21</th>\n",
              "      <td>21</td>\n",
              "      <td>13621</td>\n",
              "    </tr>\n",
              "    <tr>\n",
              "      <th>22</th>\n",
              "      <td>22</td>\n",
              "      <td>12333</td>\n",
              "    </tr>\n",
              "    <tr>\n",
              "      <th>23</th>\n",
              "      <td>23</td>\n",
              "      <td>11977</td>\n",
              "    </tr>\n",
              "  </tbody>\n",
              "</table>\n",
              "</div>\n",
              "      <button class=\"colab-df-convert\" onclick=\"convertToInteractive('df-5c6845cc-d6a7-4577-b20b-61c59daf357a')\"\n",
              "              title=\"Convert this dataframe to an interactive table.\"\n",
              "              style=\"display:none;\">\n",
              "        \n",
              "  <svg xmlns=\"http://www.w3.org/2000/svg\" height=\"24px\"viewBox=\"0 0 24 24\"\n",
              "       width=\"24px\">\n",
              "    <path d=\"M0 0h24v24H0V0z\" fill=\"none\"/>\n",
              "    <path d=\"M18.56 5.44l.94 2.06.94-2.06 2.06-.94-2.06-.94-.94-2.06-.94 2.06-2.06.94zm-11 1L8.5 8.5l.94-2.06 2.06-.94-2.06-.94L8.5 2.5l-.94 2.06-2.06.94zm10 10l.94 2.06.94-2.06 2.06-.94-2.06-.94-.94-2.06-.94 2.06-2.06.94z\"/><path d=\"M17.41 7.96l-1.37-1.37c-.4-.4-.92-.59-1.43-.59-.52 0-1.04.2-1.43.59L10.3 9.45l-7.72 7.72c-.78.78-.78 2.05 0 2.83L4 21.41c.39.39.9.59 1.41.59.51 0 1.02-.2 1.41-.59l7.78-7.78 2.81-2.81c.8-.78.8-2.07 0-2.86zM5.41 20L4 18.59l7.72-7.72 1.47 1.35L5.41 20z\"/>\n",
              "  </svg>\n",
              "      </button>\n",
              "      \n",
              "  <style>\n",
              "    .colab-df-container {\n",
              "      display:flex;\n",
              "      flex-wrap:wrap;\n",
              "      gap: 12px;\n",
              "    }\n",
              "\n",
              "    .colab-df-convert {\n",
              "      background-color: #E8F0FE;\n",
              "      border: none;\n",
              "      border-radius: 50%;\n",
              "      cursor: pointer;\n",
              "      display: none;\n",
              "      fill: #1967D2;\n",
              "      height: 32px;\n",
              "      padding: 0 0 0 0;\n",
              "      width: 32px;\n",
              "    }\n",
              "\n",
              "    .colab-df-convert:hover {\n",
              "      background-color: #E2EBFA;\n",
              "      box-shadow: 0px 1px 2px rgba(60, 64, 67, 0.3), 0px 1px 3px 1px rgba(60, 64, 67, 0.15);\n",
              "      fill: #174EA6;\n",
              "    }\n",
              "\n",
              "    [theme=dark] .colab-df-convert {\n",
              "      background-color: #3B4455;\n",
              "      fill: #D2E3FC;\n",
              "    }\n",
              "\n",
              "    [theme=dark] .colab-df-convert:hover {\n",
              "      background-color: #434B5C;\n",
              "      box-shadow: 0px 1px 3px 1px rgba(0, 0, 0, 0.15);\n",
              "      filter: drop-shadow(0px 1px 2px rgba(0, 0, 0, 0.3));\n",
              "      fill: #FFFFFF;\n",
              "    }\n",
              "  </style>\n",
              "\n",
              "      <script>\n",
              "        const buttonEl =\n",
              "          document.querySelector('#df-5c6845cc-d6a7-4577-b20b-61c59daf357a button.colab-df-convert');\n",
              "        buttonEl.style.display =\n",
              "          google.colab.kernel.accessAllowed ? 'block' : 'none';\n",
              "\n",
              "        async function convertToInteractive(key) {\n",
              "          const element = document.querySelector('#df-5c6845cc-d6a7-4577-b20b-61c59daf357a');\n",
              "          const dataTable =\n",
              "            await google.colab.kernel.invokeFunction('convertToInteractive',\n",
              "                                                     [key], {});\n",
              "          if (!dataTable) return;\n",
              "\n",
              "          const docLinkHtml = 'Like what you see? Visit the ' +\n",
              "            '<a target=\"_blank\" href=https://colab.research.google.com/notebooks/data_table.ipynb>data table notebook</a>'\n",
              "            + ' to learn more about interactive tables.';\n",
              "          element.innerHTML = '';\n",
              "          dataTable['output_type'] = 'display_data';\n",
              "          await google.colab.output.renderOutput(dataTable, element);\n",
              "          const docLink = document.createElement('div');\n",
              "          docLink.innerHTML = docLinkHtml;\n",
              "          element.appendChild(docLink);\n",
              "        }\n",
              "      </script>\n",
              "    </div>\n",
              "  </div>\n",
              "  "
            ],
            "text/plain": [
              "   Hour  Counts\n",
              "0     0    9788\n",
              "1     1    9108\n",
              "2     2    8695\n",
              "3     3    7301\n",
              "4     4    6066\n",
              "5     5    5082\n",
              "6     6    6658\n",
              "7     7    9095\n",
              "8     8   11274\n",
              "9     9   13148\n",
              "10   10   13128\n",
              "11   11   13570\n",
              "12   12   14353\n",
              "13   13   14598\n",
              "14   14   14502\n",
              "15   15   15216\n",
              "16   16   14754\n",
              "17   17   14353\n",
              "18   18   14839\n",
              "19   19   14316\n",
              "20   20   13917\n",
              "21   21   13621\n",
              "22   22   12333\n",
              "23   23   11977"
            ]
          },
          "execution_count": 203,
          "metadata": {},
          "output_type": "execute_result"
        }
      ],
      "source": [
        "reportedhour_bar = reportedhour_bar.reset_index()\n",
        "reportedhour_bar = reportedhour_bar.rename(columns = {'index' : 'Hour'})\n",
        "reportedhour_bar = reportedhour_bar.rename(columns = {'reportedhour' : 'Counts'})\n",
        "reportedhour_bar = reportedhour_bar.sort_values('Hour')\n",
        "reportedhour_bar = reportedhour_bar.reset_index(drop=True)\n",
        "reportedhour_bar"
      ]
    },
    {
      "cell_type": "code",
      "execution_count": null,
      "metadata": {
        "colab": {
          "base_uri": "https://localhost:8080/",
          "height": 802
        },
        "id": "O-TtU-VCi-s-",
        "outputId": "36d84fff-5e57-4a91-e657-20dfb7374ec6"
      },
      "outputs": [
        {
          "data": {
            "text/html": [
              "\n",
              "  <div id=\"df-4a7ba980-5127-4797-9ad4-3d16e72ca535\">\n",
              "    <div class=\"colab-df-container\">\n",
              "      <div>\n",
              "<style scoped>\n",
              "    .dataframe tbody tr th:only-of-type {\n",
              "        vertical-align: middle;\n",
              "    }\n",
              "\n",
              "    .dataframe tbody tr th {\n",
              "        vertical-align: top;\n",
              "    }\n",
              "\n",
              "    .dataframe thead th {\n",
              "        text-align: right;\n",
              "    }\n",
              "</style>\n",
              "<table border=\"1\" class=\"dataframe\">\n",
              "  <thead>\n",
              "    <tr style=\"text-align: right;\">\n",
              "      <th></th>\n",
              "      <th>Hour</th>\n",
              "      <th>Counts</th>\n",
              "      <th>Percentage</th>\n",
              "    </tr>\n",
              "  </thead>\n",
              "  <tbody>\n",
              "    <tr>\n",
              "      <th>0</th>\n",
              "      <td>0</td>\n",
              "      <td>9788</td>\n",
              "      <td>3.47</td>\n",
              "    </tr>\n",
              "    <tr>\n",
              "      <th>1</th>\n",
              "      <td>1</td>\n",
              "      <td>9108</td>\n",
              "      <td>3.23</td>\n",
              "    </tr>\n",
              "    <tr>\n",
              "      <th>2</th>\n",
              "      <td>2</td>\n",
              "      <td>8695</td>\n",
              "      <td>3.09</td>\n",
              "    </tr>\n",
              "    <tr>\n",
              "      <th>3</th>\n",
              "      <td>3</td>\n",
              "      <td>7301</td>\n",
              "      <td>2.59</td>\n",
              "    </tr>\n",
              "    <tr>\n",
              "      <th>4</th>\n",
              "      <td>4</td>\n",
              "      <td>6066</td>\n",
              "      <td>2.15</td>\n",
              "    </tr>\n",
              "    <tr>\n",
              "      <th>5</th>\n",
              "      <td>5</td>\n",
              "      <td>5082</td>\n",
              "      <td>1.80</td>\n",
              "    </tr>\n",
              "    <tr>\n",
              "      <th>6</th>\n",
              "      <td>6</td>\n",
              "      <td>6658</td>\n",
              "      <td>2.36</td>\n",
              "    </tr>\n",
              "    <tr>\n",
              "      <th>7</th>\n",
              "      <td>7</td>\n",
              "      <td>9095</td>\n",
              "      <td>3.23</td>\n",
              "    </tr>\n",
              "    <tr>\n",
              "      <th>8</th>\n",
              "      <td>8</td>\n",
              "      <td>11274</td>\n",
              "      <td>4.00</td>\n",
              "    </tr>\n",
              "    <tr>\n",
              "      <th>9</th>\n",
              "      <td>9</td>\n",
              "      <td>13148</td>\n",
              "      <td>4.67</td>\n",
              "    </tr>\n",
              "    <tr>\n",
              "      <th>10</th>\n",
              "      <td>10</td>\n",
              "      <td>13128</td>\n",
              "      <td>4.66</td>\n",
              "    </tr>\n",
              "    <tr>\n",
              "      <th>11</th>\n",
              "      <td>11</td>\n",
              "      <td>13570</td>\n",
              "      <td>4.82</td>\n",
              "    </tr>\n",
              "    <tr>\n",
              "      <th>12</th>\n",
              "      <td>12</td>\n",
              "      <td>14353</td>\n",
              "      <td>5.10</td>\n",
              "    </tr>\n",
              "    <tr>\n",
              "      <th>13</th>\n",
              "      <td>13</td>\n",
              "      <td>14598</td>\n",
              "      <td>5.18</td>\n",
              "    </tr>\n",
              "    <tr>\n",
              "      <th>14</th>\n",
              "      <td>14</td>\n",
              "      <td>14502</td>\n",
              "      <td>5.15</td>\n",
              "    </tr>\n",
              "    <tr>\n",
              "      <th>15</th>\n",
              "      <td>15</td>\n",
              "      <td>15216</td>\n",
              "      <td>5.40</td>\n",
              "    </tr>\n",
              "    <tr>\n",
              "      <th>16</th>\n",
              "      <td>16</td>\n",
              "      <td>14754</td>\n",
              "      <td>5.24</td>\n",
              "    </tr>\n",
              "    <tr>\n",
              "      <th>17</th>\n",
              "      <td>17</td>\n",
              "      <td>14353</td>\n",
              "      <td>5.10</td>\n",
              "    </tr>\n",
              "    <tr>\n",
              "      <th>18</th>\n",
              "      <td>18</td>\n",
              "      <td>14839</td>\n",
              "      <td>5.27</td>\n",
              "    </tr>\n",
              "    <tr>\n",
              "      <th>19</th>\n",
              "      <td>19</td>\n",
              "      <td>14316</td>\n",
              "      <td>5.08</td>\n",
              "    </tr>\n",
              "    <tr>\n",
              "      <th>20</th>\n",
              "      <td>20</td>\n",
              "      <td>13917</td>\n",
              "      <td>4.94</td>\n",
              "    </tr>\n",
              "    <tr>\n",
              "      <th>21</th>\n",
              "      <td>21</td>\n",
              "      <td>13621</td>\n",
              "      <td>4.84</td>\n",
              "    </tr>\n",
              "    <tr>\n",
              "      <th>22</th>\n",
              "      <td>22</td>\n",
              "      <td>12333</td>\n",
              "      <td>4.38</td>\n",
              "    </tr>\n",
              "    <tr>\n",
              "      <th>23</th>\n",
              "      <td>23</td>\n",
              "      <td>11977</td>\n",
              "      <td>4.25</td>\n",
              "    </tr>\n",
              "  </tbody>\n",
              "</table>\n",
              "</div>\n",
              "      <button class=\"colab-df-convert\" onclick=\"convertToInteractive('df-4a7ba980-5127-4797-9ad4-3d16e72ca535')\"\n",
              "              title=\"Convert this dataframe to an interactive table.\"\n",
              "              style=\"display:none;\">\n",
              "        \n",
              "  <svg xmlns=\"http://www.w3.org/2000/svg\" height=\"24px\"viewBox=\"0 0 24 24\"\n",
              "       width=\"24px\">\n",
              "    <path d=\"M0 0h24v24H0V0z\" fill=\"none\"/>\n",
              "    <path d=\"M18.56 5.44l.94 2.06.94-2.06 2.06-.94-2.06-.94-.94-2.06-.94 2.06-2.06.94zm-11 1L8.5 8.5l.94-2.06 2.06-.94-2.06-.94L8.5 2.5l-.94 2.06-2.06.94zm10 10l.94 2.06.94-2.06 2.06-.94-2.06-.94-.94-2.06-.94 2.06-2.06.94z\"/><path d=\"M17.41 7.96l-1.37-1.37c-.4-.4-.92-.59-1.43-.59-.52 0-1.04.2-1.43.59L10.3 9.45l-7.72 7.72c-.78.78-.78 2.05 0 2.83L4 21.41c.39.39.9.59 1.41.59.51 0 1.02-.2 1.41-.59l7.78-7.78 2.81-2.81c.8-.78.8-2.07 0-2.86zM5.41 20L4 18.59l7.72-7.72 1.47 1.35L5.41 20z\"/>\n",
              "  </svg>\n",
              "      </button>\n",
              "      \n",
              "  <style>\n",
              "    .colab-df-container {\n",
              "      display:flex;\n",
              "      flex-wrap:wrap;\n",
              "      gap: 12px;\n",
              "    }\n",
              "\n",
              "    .colab-df-convert {\n",
              "      background-color: #E8F0FE;\n",
              "      border: none;\n",
              "      border-radius: 50%;\n",
              "      cursor: pointer;\n",
              "      display: none;\n",
              "      fill: #1967D2;\n",
              "      height: 32px;\n",
              "      padding: 0 0 0 0;\n",
              "      width: 32px;\n",
              "    }\n",
              "\n",
              "    .colab-df-convert:hover {\n",
              "      background-color: #E2EBFA;\n",
              "      box-shadow: 0px 1px 2px rgba(60, 64, 67, 0.3), 0px 1px 3px 1px rgba(60, 64, 67, 0.15);\n",
              "      fill: #174EA6;\n",
              "    }\n",
              "\n",
              "    [theme=dark] .colab-df-convert {\n",
              "      background-color: #3B4455;\n",
              "      fill: #D2E3FC;\n",
              "    }\n",
              "\n",
              "    [theme=dark] .colab-df-convert:hover {\n",
              "      background-color: #434B5C;\n",
              "      box-shadow: 0px 1px 3px 1px rgba(0, 0, 0, 0.15);\n",
              "      filter: drop-shadow(0px 1px 2px rgba(0, 0, 0, 0.3));\n",
              "      fill: #FFFFFF;\n",
              "    }\n",
              "  </style>\n",
              "\n",
              "      <script>\n",
              "        const buttonEl =\n",
              "          document.querySelector('#df-4a7ba980-5127-4797-9ad4-3d16e72ca535 button.colab-df-convert');\n",
              "        buttonEl.style.display =\n",
              "          google.colab.kernel.accessAllowed ? 'block' : 'none';\n",
              "\n",
              "        async function convertToInteractive(key) {\n",
              "          const element = document.querySelector('#df-4a7ba980-5127-4797-9ad4-3d16e72ca535');\n",
              "          const dataTable =\n",
              "            await google.colab.kernel.invokeFunction('convertToInteractive',\n",
              "                                                     [key], {});\n",
              "          if (!dataTable) return;\n",
              "\n",
              "          const docLinkHtml = 'Like what you see? Visit the ' +\n",
              "            '<a target=\"_blank\" href=https://colab.research.google.com/notebooks/data_table.ipynb>data table notebook</a>'\n",
              "            + ' to learn more about interactive tables.';\n",
              "          element.innerHTML = '';\n",
              "          dataTable['output_type'] = 'display_data';\n",
              "          await google.colab.output.renderOutput(dataTable, element);\n",
              "          const docLink = document.createElement('div');\n",
              "          docLink.innerHTML = docLinkHtml;\n",
              "          element.appendChild(docLink);\n",
              "        }\n",
              "      </script>\n",
              "    </div>\n",
              "  </div>\n",
              "  "
            ],
            "text/plain": [
              "   Hour  Counts  Percentage\n",
              "0     0    9788        3.47\n",
              "1     1    9108        3.23\n",
              "2     2    8695        3.09\n",
              "3     3    7301        2.59\n",
              "4     4    6066        2.15\n",
              "5     5    5082        1.80\n",
              "6     6    6658        2.36\n",
              "7     7    9095        3.23\n",
              "8     8   11274        4.00\n",
              "9     9   13148        4.67\n",
              "10   10   13128        4.66\n",
              "11   11   13570        4.82\n",
              "12   12   14353        5.10\n",
              "13   13   14598        5.18\n",
              "14   14   14502        5.15\n",
              "15   15   15216        5.40\n",
              "16   16   14754        5.24\n",
              "17   17   14353        5.10\n",
              "18   18   14839        5.27\n",
              "19   19   14316        5.08\n",
              "20   20   13917        4.94\n",
              "21   21   13621        4.84\n",
              "22   22   12333        4.38\n",
              "23   23   11977        4.25"
            ]
          },
          "execution_count": 204,
          "metadata": {},
          "output_type": "execute_result"
        }
      ],
      "source": [
        "percentage = []\n",
        "total_counts = reportedhour_bar.Counts.sum()\n",
        "for i in range(reportedhour_bar.shape[0]):\n",
        "  pct = (reportedhour_bar.Counts[i] / total_counts)*100\n",
        "  percentage.append(round(pct, 2))\n",
        "reportedhour_bar['Percentage'] = percentage\n",
        "reportedhour_bar"
      ]
    },
    {
      "cell_type": "code",
      "execution_count": null,
      "metadata": {
        "colab": {
          "base_uri": "https://localhost:8080/",
          "height": 585
        },
        "id": "FtxHP8BXjHIc",
        "outputId": "be2dbdfd-9b38-41bd-ef8e-a3697ce802e2"
      },
      "outputs": [
        {
          "data": {
            "image/png": "[encoded data removed]",
            "text/plain": [
              "<Figure size 864x576 with 1 Axes>"
            ]
          },
          "metadata": {},
          "output_type": "display_data"
        }
      ],
      "source": [
        "# Bar graph\n",
        "plt.figure(figsize=(12,8))\n",
        "graph = plt.bar(reportedhour_bar.Hour, reportedhour_bar.Counts)\n",
        "plt.title('Distribution of crimes by Hour')\n",
        "i = 0\n",
        "for p in graph:\n",
        "  width = p.get_width()\n",
        "  height = p.get_height()\n",
        "  x, y = p.get_xy()\n",
        "  plt.text(x+width/2,\n",
        "           y+height*1.01,\n",
        "           str(reportedhour_bar.Percentage[i])+'%',\n",
        "           ha='center',\n",
        "           weight='bold')\n",
        "  i+=1\n",
        "plt.xlabel('Hour')\n",
        "plt.ylabel('Counts')\n",
        "plt.tight_layout()\n",
        "plt.show()"
      ]
    },
    {
      "cell_type": "markdown",
      "metadata": {
        "id": "r3WnA5LvroH3"
      },
      "source": [
        "8. Neighbourhood"
      ]
    },
    {
      "cell_type": "code",
      "execution_count": null,
      "metadata": {
        "colab": {
          "base_uri": "https://localhost:8080/"
        },
        "id": "FqX_gybLpdMG",
        "outputId": "3ff1bcd6-333e-45fb-fa3f-6557a2444473"
      },
      "outputs": [
        {
          "data": {
            "text/plain": [
              "Waterfront Communities-The Island    10488\n",
              "Church-Yonge Corridor                 9341\n",
              "Bay Street Corridor                   8062\n",
              "West Humber-Clairville                7495\n",
              "Moss Park                             6855\n",
              "                                     ...  \n",
              "Yonge-St.Clair                         543\n",
              "Guildwood                              532\n",
              "Maple Leaf                             507\n",
              "Woodbine-Lumsden                       505\n",
              "Lambton Baby Point                     425\n",
              "Name: Neighbourhood, Length: 141, dtype: int64"
            ]
          },
          "execution_count": 45,
          "metadata": {},
          "output_type": "execute_result"
        }
      ],
      "source": [
        "Neighbourhood_bar = mci.Neighbourhood.value_counts()\n",
        "Neighbourhood_bar"
      ]
    },
    {
      "cell_type": "code",
      "execution_count": null,
      "metadata": {
        "colab": {
          "base_uri": "https://localhost:8080/",
          "height": 424
        },
        "id": "jgFajqekp3Bg",
        "outputId": "4f1b0875-47b5-4603-8eee-a24821ad3b1b"
      },
      "outputs": [
        {
          "data": {
            "text/html": [
              "\n",
              "  <div id=\"df-fbf6adb9-a787-4f4d-85a1-cc6f1d12b56e\">\n",
              "    <div class=\"colab-df-container\">\n",
              "      <div>\n",
              "<style scoped>\n",
              "    .dataframe tbody tr th:only-of-type {\n",
              "        vertical-align: middle;\n",
              "    }\n",
              "\n",
              "    .dataframe tbody tr th {\n",
              "        vertical-align: top;\n",
              "    }\n",
              "\n",
              "    .dataframe thead th {\n",
              "        text-align: right;\n",
              "    }\n",
              "</style>\n",
              "<table border=\"1\" class=\"dataframe\">\n",
              "  <thead>\n",
              "    <tr style=\"text-align: right;\">\n",
              "      <th></th>\n",
              "      <th>Neighbourhood</th>\n",
              "      <th>Counts</th>\n",
              "    </tr>\n",
              "  </thead>\n",
              "  <tbody>\n",
              "    <tr>\n",
              "      <th>0</th>\n",
              "      <td>Waterfront Communities-The Island</td>\n",
              "      <td>10488</td>\n",
              "    </tr>\n",
              "    <tr>\n",
              "      <th>1</th>\n",
              "      <td>Church-Yonge Corridor</td>\n",
              "      <td>9341</td>\n",
              "    </tr>\n",
              "    <tr>\n",
              "      <th>2</th>\n",
              "      <td>Bay Street Corridor</td>\n",
              "      <td>8062</td>\n",
              "    </tr>\n",
              "    <tr>\n",
              "      <th>3</th>\n",
              "      <td>West Humber-Clairville</td>\n",
              "      <td>7495</td>\n",
              "    </tr>\n",
              "    <tr>\n",
              "      <th>4</th>\n",
              "      <td>Moss Park</td>\n",
              "      <td>6855</td>\n",
              "    </tr>\n",
              "    <tr>\n",
              "      <th>...</th>\n",
              "      <td>...</td>\n",
              "      <td>...</td>\n",
              "    </tr>\n",
              "    <tr>\n",
              "      <th>136</th>\n",
              "      <td>Yonge-St.Clair</td>\n",
              "      <td>543</td>\n",
              "    </tr>\n",
              "    <tr>\n",
              "      <th>137</th>\n",
              "      <td>Guildwood</td>\n",
              "      <td>532</td>\n",
              "    </tr>\n",
              "    <tr>\n",
              "      <th>138</th>\n",
              "      <td>Maple Leaf</td>\n",
              "      <td>507</td>\n",
              "    </tr>\n",
              "    <tr>\n",
              "      <th>139</th>\n",
              "      <td>Woodbine-Lumsden</td>\n",
              "      <td>505</td>\n",
              "    </tr>\n",
              "    <tr>\n",
              "      <th>140</th>\n",
              "      <td>Lambton Baby Point</td>\n",
              "      <td>425</td>\n",
              "    </tr>\n",
              "  </tbody>\n",
              "</table>\n",
              "<p>141 rows × 2 columns</p>\n",
              "</div>\n",
              "      <button class=\"colab-df-convert\" onclick=\"convertToInteractive('df-fbf6adb9-a787-4f4d-85a1-cc6f1d12b56e')\"\n",
              "              title=\"Convert this dataframe to an interactive table.\"\n",
              "              style=\"display:none;\">\n",
              "        \n",
              "  <svg xmlns=\"http://www.w3.org/2000/svg\" height=\"24px\"viewBox=\"0 0 24 24\"\n",
              "       width=\"24px\">\n",
              "    <path d=\"M0 0h24v24H0V0z\" fill=\"none\"/>\n",
              "    <path d=\"M18.56 5.44l.94 2.06.94-2.06 2.06-.94-2.06-.94-.94-2.06-.94 2.06-2.06.94zm-11 1L8.5 8.5l.94-2.06 2.06-.94-2.06-.94L8.5 2.5l-.94 2.06-2.06.94zm10 10l.94 2.06.94-2.06 2.06-.94-2.06-.94-.94-2.06-.94 2.06-2.06.94z\"/><path d=\"M17.41 7.96l-1.37-1.37c-.4-.4-.92-.59-1.43-.59-.52 0-1.04.2-1.43.59L10.3 9.45l-7.72 7.72c-.78.78-.78 2.05 0 2.83L4 21.41c.39.39.9.59 1.41.59.51 0 1.02-.2 1.41-.59l7.78-7.78 2.81-2.81c.8-.78.8-2.07 0-2.86zM5.41 20L4 18.59l7.72-7.72 1.47 1.35L5.41 20z\"/>\n",
              "  </svg>\n",
              "      </button>\n",
              "      \n",
              "  <style>\n",
              "    .colab-df-container {\n",
              "      display:flex;\n",
              "      flex-wrap:wrap;\n",
              "      gap: 12px;\n",
              "    }\n",
              "\n",
              "    .colab-df-convert {\n",
              "      background-color: #E8F0FE;\n",
              "      border: none;\n",
              "      border-radius: 50%;\n",
              "      cursor: pointer;\n",
              "      display: none;\n",
              "      fill: #1967D2;\n",
              "      height: 32px;\n",
              "      padding: 0 0 0 0;\n",
              "      width: 32px;\n",
              "    }\n",
              "\n",
              "    .colab-df-convert:hover {\n",
              "      background-color: #E2EBFA;\n",
              "      box-shadow: 0px 1px 2px rgba(60, 64, 67, 0.3), 0px 1px 3px 1px rgba(60, 64, 67, 0.15);\n",
              "      fill: #174EA6;\n",
              "    }\n",
              "\n",
              "    [theme=dark] .colab-df-convert {\n",
              "      background-color: #3B4455;\n",
              "      fill: #D2E3FC;\n",
              "    }\n",
              "\n",
              "    [theme=dark] .colab-df-convert:hover {\n",
              "      background-color: #434B5C;\n",
              "      box-shadow: 0px 1px 3px 1px rgba(0, 0, 0, 0.15);\n",
              "      filter: drop-shadow(0px 1px 2px rgba(0, 0, 0, 0.3));\n",
              "      fill: #FFFFFF;\n",
              "    }\n",
              "  </style>\n",
              "\n",
              "      <script>\n",
              "        const buttonEl =\n",
              "          document.querySelector('#df-fbf6adb9-a787-4f4d-85a1-cc6f1d12b56e button.colab-df-convert');\n",
              "        buttonEl.style.display =\n",
              "          google.colab.kernel.accessAllowed ? 'block' : 'none';\n",
              "\n",
              "        async function convertToInteractive(key) {\n",
              "          const element = document.querySelector('#df-fbf6adb9-a787-4f4d-85a1-cc6f1d12b56e');\n",
              "          const dataTable =\n",
              "            await google.colab.kernel.invokeFunction('convertToInteractive',\n",
              "                                                     [key], {});\n",
              "          if (!dataTable) return;\n",
              "\n",
              "          const docLinkHtml = 'Like what you see? Visit the ' +\n",
              "            '<a target=\"_blank\" href=https://colab.research.google.com/notebooks/data_table.ipynb>data table notebook</a>'\n",
              "            + ' to learn more about interactive tables.';\n",
              "          element.innerHTML = '';\n",
              "          dataTable['output_type'] = 'display_data';\n",
              "          await google.colab.output.renderOutput(dataTable, element);\n",
              "          const docLink = document.createElement('div');\n",
              "          docLink.innerHTML = docLinkHtml;\n",
              "          element.appendChild(docLink);\n",
              "        }\n",
              "      </script>\n",
              "    </div>\n",
              "  </div>\n",
              "  "
            ],
            "text/plain": [
              "                         Neighbourhood  Counts\n",
              "0    Waterfront Communities-The Island   10488\n",
              "1                Church-Yonge Corridor    9341\n",
              "2                  Bay Street Corridor    8062\n",
              "3               West Humber-Clairville    7495\n",
              "4                            Moss Park    6855\n",
              "..                                 ...     ...\n",
              "136                     Yonge-St.Clair     543\n",
              "137                          Guildwood     532\n",
              "138                         Maple Leaf     507\n",
              "139                   Woodbine-Lumsden     505\n",
              "140                 Lambton Baby Point     425\n",
              "\n",
              "[141 rows x 2 columns]"
            ]
          },
          "execution_count": 47,
          "metadata": {},
          "output_type": "execute_result"
        }
      ],
      "source": [
        "Neighbourhood_bar = Neighbourhood_bar.reset_index()\n",
        "Neighbourhood_bar = Neighbourhood_bar.rename(columns = {'Neighbourhood' : 'Counts'})\n",
        "Neighbourhood_bar = Neighbourhood_bar.rename(columns = {'index' : 'Neighbourhood'})\n",
        "Neighbourhood_bar"
      ]
    },
    {
      "cell_type": "code",
      "execution_count": null,
      "metadata": {
        "colab": {
          "base_uri": "https://localhost:8080/",
          "height": 424
        },
        "id": "SCiWTvLRp9UZ",
        "outputId": "a2fb7a58-7b47-47b7-e922-0875f6df589f"
      },
      "outputs": [
        {
          "data": {
            "text/html": [
              "\n",
              "  <div id=\"df-32082810-ba53-45b7-a4ad-316fbc417c8a\">\n",
              "    <div class=\"colab-df-container\">\n",
              "      <div>\n",
              "<style scoped>\n",
              "    .dataframe tbody tr th:only-of-type {\n",
              "        vertical-align: middle;\n",
              "    }\n",
              "\n",
              "    .dataframe tbody tr th {\n",
              "        vertical-align: top;\n",
              "    }\n",
              "\n",
              "    .dataframe thead th {\n",
              "        text-align: right;\n",
              "    }\n",
              "</style>\n",
              "<table border=\"1\" class=\"dataframe\">\n",
              "  <thead>\n",
              "    <tr style=\"text-align: right;\">\n",
              "      <th></th>\n",
              "      <th>Neighbourhood</th>\n",
              "      <th>Counts</th>\n",
              "      <th>Percentage</th>\n",
              "    </tr>\n",
              "  </thead>\n",
              "  <tbody>\n",
              "    <tr>\n",
              "      <th>0</th>\n",
              "      <td>Waterfront Communities-The Island</td>\n",
              "      <td>10488</td>\n",
              "      <td>3.72</td>\n",
              "    </tr>\n",
              "    <tr>\n",
              "      <th>1</th>\n",
              "      <td>Church-Yonge Corridor</td>\n",
              "      <td>9341</td>\n",
              "      <td>3.32</td>\n",
              "    </tr>\n",
              "    <tr>\n",
              "      <th>2</th>\n",
              "      <td>Bay Street Corridor</td>\n",
              "      <td>8062</td>\n",
              "      <td>2.86</td>\n",
              "    </tr>\n",
              "    <tr>\n",
              "      <th>3</th>\n",
              "      <td>West Humber-Clairville</td>\n",
              "      <td>7495</td>\n",
              "      <td>2.66</td>\n",
              "    </tr>\n",
              "    <tr>\n",
              "      <th>4</th>\n",
              "      <td>Moss Park</td>\n",
              "      <td>6855</td>\n",
              "      <td>2.43</td>\n",
              "    </tr>\n",
              "    <tr>\n",
              "      <th>...</th>\n",
              "      <td>...</td>\n",
              "      <td>...</td>\n",
              "      <td>...</td>\n",
              "    </tr>\n",
              "    <tr>\n",
              "      <th>136</th>\n",
              "      <td>Yonge-St.Clair</td>\n",
              "      <td>543</td>\n",
              "      <td>0.19</td>\n",
              "    </tr>\n",
              "    <tr>\n",
              "      <th>137</th>\n",
              "      <td>Guildwood</td>\n",
              "      <td>532</td>\n",
              "      <td>0.19</td>\n",
              "    </tr>\n",
              "    <tr>\n",
              "      <th>138</th>\n",
              "      <td>Maple Leaf</td>\n",
              "      <td>507</td>\n",
              "      <td>0.18</td>\n",
              "    </tr>\n",
              "    <tr>\n",
              "      <th>139</th>\n",
              "      <td>Woodbine-Lumsden</td>\n",
              "      <td>505</td>\n",
              "      <td>0.18</td>\n",
              "    </tr>\n",
              "    <tr>\n",
              "      <th>140</th>\n",
              "      <td>Lambton Baby Point</td>\n",
              "      <td>425</td>\n",
              "      <td>0.15</td>\n",
              "    </tr>\n",
              "  </tbody>\n",
              "</table>\n",
              "<p>141 rows × 3 columns</p>\n",
              "</div>\n",
              "      <button class=\"colab-df-convert\" onclick=\"convertToInteractive('df-32082810-ba53-45b7-a4ad-316fbc417c8a')\"\n",
              "              title=\"Convert this dataframe to an interactive table.\"\n",
              "              style=\"display:none;\">\n",
              "        \n",
              "  <svg xmlns=\"http://www.w3.org/2000/svg\" height=\"24px\"viewBox=\"0 0 24 24\"\n",
              "       width=\"24px\">\n",
              "    <path d=\"M0 0h24v24H0V0z\" fill=\"none\"/>\n",
              "    <path d=\"M18.56 5.44l.94 2.06.94-2.06 2.06-.94-2.06-.94-.94-2.06-.94 2.06-2.06.94zm-11 1L8.5 8.5l.94-2.06 2.06-.94-2.06-.94L8.5 2.5l-.94 2.06-2.06.94zm10 10l.94 2.06.94-2.06 2.06-.94-2.06-.94-.94-2.06-.94 2.06-2.06.94z\"/><path d=\"M17.41 7.96l-1.37-1.37c-.4-.4-.92-.59-1.43-.59-.52 0-1.04.2-1.43.59L10.3 9.45l-7.72 7.72c-.78.78-.78 2.05 0 2.83L4 21.41c.39.39.9.59 1.41.59.51 0 1.02-.2 1.41-.59l7.78-7.78 2.81-2.81c.8-.78.8-2.07 0-2.86zM5.41 20L4 18.59l7.72-7.72 1.47 1.35L5.41 20z\"/>\n",
              "  </svg>\n",
              "      </button>\n",
              "      \n",
              "  <style>\n",
              "    .colab-df-container {\n",
              "      display:flex;\n",
              "      flex-wrap:wrap;\n",
              "      gap: 12px;\n",
              "    }\n",
              "\n",
              "    .colab-df-convert {\n",
              "      background-color: #E8F0FE;\n",
              "      border: none;\n",
              "      border-radius: 50%;\n",
              "      cursor: pointer;\n",
              "      display: none;\n",
              "      fill: #1967D2;\n",
              "      height: 32px;\n",
              "      padding: 0 0 0 0;\n",
              "      width: 32px;\n",
              "    }\n",
              "\n",
              "    .colab-df-convert:hover {\n",
              "      background-color: #E2EBFA;\n",
              "      box-shadow: 0px 1px 2px rgba(60, 64, 67, 0.3), 0px 1px 3px 1px rgba(60, 64, 67, 0.15);\n",
              "      fill: #174EA6;\n",
              "    }\n",
              "\n",
              "    [theme=dark] .colab-df-convert {\n",
              "      background-color: #3B4455;\n",
              "      fill: #D2E3FC;\n",
              "    }\n",
              "\n",
              "    [theme=dark] .colab-df-convert:hover {\n",
              "      background-color: #434B5C;\n",
              "      box-shadow: 0px 1px 3px 1px rgba(0, 0, 0, 0.15);\n",
              "      filter: drop-shadow(0px 1px 2px rgba(0, 0, 0, 0.3));\n",
              "      fill: #FFFFFF;\n",
              "    }\n",
              "  </style>\n",
              "\n",
              "      <script>\n",
              "        const buttonEl =\n",
              "          document.querySelector('#df-32082810-ba53-45b7-a4ad-316fbc417c8a button.colab-df-convert');\n",
              "        buttonEl.style.display =\n",
              "          google.colab.kernel.accessAllowed ? 'block' : 'none';\n",
              "\n",
              "        async function convertToInteractive(key) {\n",
              "          const element = document.querySelector('#df-32082810-ba53-45b7-a4ad-316fbc417c8a');\n",
              "          const dataTable =\n",
              "            await google.colab.kernel.invokeFunction('convertToInteractive',\n",
              "                                                     [key], {});\n",
              "          if (!dataTable) return;\n",
              "\n",
              "          const docLinkHtml = 'Like what you see? Visit the ' +\n",
              "            '<a target=\"_blank\" href=https://colab.research.google.com/notebooks/data_table.ipynb>data table notebook</a>'\n",
              "            + ' to learn more about interactive tables.';\n",
              "          element.innerHTML = '';\n",
              "          dataTable['output_type'] = 'display_data';\n",
              "          await google.colab.output.renderOutput(dataTable, element);\n",
              "          const docLink = document.createElement('div');\n",
              "          docLink.innerHTML = docLinkHtml;\n",
              "          element.appendChild(docLink);\n",
              "        }\n",
              "      </script>\n",
              "    </div>\n",
              "  </div>\n",
              "  "
            ],
            "text/plain": [
              "                         Neighbourhood  Counts  Percentage\n",
              "0    Waterfront Communities-The Island   10488        3.72\n",
              "1                Church-Yonge Corridor    9341        3.32\n",
              "2                  Bay Street Corridor    8062        2.86\n",
              "3               West Humber-Clairville    7495        2.66\n",
              "4                            Moss Park    6855        2.43\n",
              "..                                 ...     ...         ...\n",
              "136                     Yonge-St.Clair     543        0.19\n",
              "137                          Guildwood     532        0.19\n",
              "138                         Maple Leaf     507        0.18\n",
              "139                   Woodbine-Lumsden     505        0.18\n",
              "140                 Lambton Baby Point     425        0.15\n",
              "\n",
              "[141 rows x 3 columns]"
            ]
          },
          "execution_count": 48,
          "metadata": {},
          "output_type": "execute_result"
        }
      ],
      "source": [
        "percentage = []\n",
        "total_counts = Neighbourhood_bar.Counts.sum()\n",
        "for i in range(Neighbourhood_bar.shape[0]):\n",
        "  pct = (Neighbourhood_bar.Counts[i] / total_counts)*100\n",
        "  percentage.append(round(pct, 2))\n",
        "Neighbourhood_bar['Percentage'] = percentage\n",
        "Neighbourhood_bar"
      ]
    },
    {
      "cell_type": "code",
      "execution_count": null,
      "metadata": {
        "colab": {
          "base_uri": "https://localhost:8080/",
          "height": 1000
        },
        "id": "7vhDyLtOqDLV",
        "outputId": "1236dba8-ff6b-4e29-9ab3-6543a7396a34"
      },
      "outputs": [
        {
          "data": {
            "image/png": "[encoded data removed]",
            "text/plain": [
              "<Figure size 1296x1800 with 1 Axes>"
            ]
          },
          "metadata": {},
          "output_type": "display_data"
        }
      ],
      "source": [
        "# Bar graph\n",
        "plt.figure(figsize=(18,25))\n",
        "graph = plt.barh(Neighbourhood_bar.Neighbourhood, Neighbourhood_bar.Counts, color='red')\n",
        "\n",
        "i = 0\n",
        "for p in graph:\n",
        "  width = p.get_width()+1\n",
        "  height = p.get_height()-0.5\n",
        "  x, y = p.get_xy()\n",
        "  plt.text(x+width/2,\n",
        "           y+height*1.05,\n",
        "           str(Neighbourhood_bar.Percentage[i])+'%',\n",
        "           ha='right',\n",
        "           size='small',\n",
        "           va='center',\n",
        "           color='w',\n",
        "           weight='bold')\n",
        "  i+=1\n",
        "plt.title('Distribution of Neibourhood')\n",
        "plt.xlabel('Neighbourhood')\n",
        "plt.ylabel('Counts')\n",
        "plt.tight_layout()\n",
        "plt.show()"
      ]
    },
    {
      "cell_type": "markdown",
      "metadata": {
        "id": "n70V3vdcAKYp"
      },
      "source": [
        "**Heat map for categorical data**"
      ]
    },
    {
      "cell_type": "code",
      "execution_count": null,
      "metadata": {
        "id": "ZIitAMHqAPXP"
      },
      "outputs": [],
      "source": [
        "# Import the packages\n",
        "import scipy.stats as ss\n",
        "import seaborn as sns\n",
        "import itertools "
      ]
    },
    {
      "cell_type": "code",
      "execution_count": null,
      "metadata": {
        "id": "VlDRJTGwAXrj"
      },
      "outputs": [],
      "source": [
        "mci_heatmap = mci.drop(['Long', 'Lat'], axis=1)"
      ]
    },
    {
      "cell_type": "code",
      "execution_count": null,
      "metadata": {
        "colab": {
          "base_uri": "https://localhost:8080/"
        },
        "id": "klEWLRpJAb-d",
        "outputId": "7cb0f8fd-552e-42a6-f466-a9439453331e"
      },
      "outputs": [
        {
          "data": {
            "text/plain": [
              "Index(['Division', 'premises_type', 'reportedmonth', 'reportedday',\n",
              "       'reporteddayofweek', 'reportedhour', 'MCI', 'Neighbourhood'],\n",
              "      dtype='object')"
            ]
          },
          "execution_count": 92,
          "metadata": {},
          "output_type": "execute_result"
        }
      ],
      "source": [
        "mci_heatmap.columns"
      ]
    },
    {
      "cell_type": "code",
      "execution_count": null,
      "metadata": {
        "colab": {
          "base_uri": "https://localhost:8080/",
          "height": 495
        },
        "id": "yIFsGiQdAdca",
        "outputId": "084a9a36-1405-4aaf-9532-b66cab78b4a5"
      },
      "outputs": [
        {
          "data": {
            "text/plain": [
              "Text(0.5, 1.0, 'Cramer V Correlation between Variables')"
            ]
          },
          "execution_count": 93,
          "metadata": {},
          "output_type": "execute_result"
        },
        {
          "data": {
            "image/png": "[encoded data removed]",
            "text/plain": [
              "<Figure size 504x432 with 2 Axes>"
            ]
          },
          "metadata": {},
          "output_type": "display_data"
        }
      ],
      "source": [
        "def cramers_corrected_stat(confusion_matrix):\n",
        "    chi2 = ss.chi2_contingency(confusion_matrix)[0]\n",
        "    n = confusion_matrix.sum().sum()\n",
        "    phi2 = chi2/n\n",
        "    r,k = confusion_matrix.shape\n",
        "    phi2corr = max(0, phi2 - ((k-1)*(r-1))/(n-1))    \n",
        "    rcorr = r - ((r-1)**2)/(n-1)\n",
        "    kcorr = k - ((k-1)**2)/(n-1)\n",
        "    return np.sqrt(phi2corr / min( (kcorr-1), (rcorr-1)))\n",
        "\n",
        "cols = ['Division', 'premises_type', 'reportedmonth', 'reportedday',\n",
        "       'reporteddayofweek', 'reportedhour', 'MCI', 'Neighbourhood']\n",
        "corrM = np.zeros((len(cols),len(cols)))\n",
        "\n",
        "for col1, col2 in itertools.combinations(cols, 2):\n",
        "    idx1, idx2 = cols.index(col1), cols.index(col2)\n",
        "    corrM[idx1, idx2] = cramers_corrected_stat(pd.crosstab(mci_heatmap[col1], mci_heatmap[col2]))\n",
        "    corrM[idx2, idx1] = corrM[idx1, idx2]\n",
        "\n",
        "corr = pd.DataFrame(corrM, index=cols, columns=cols)\n",
        "fig, ax = plt.subplots(figsize=(7, 6))\n",
        "ax = sns.heatmap(corr, annot=True, ax=ax); ax.set_title(\"Cramer V Correlation between Variables\")"
      ]
    },
    {
      "cell_type": "markdown",
      "metadata": {
        "id": "nAfTtCxkAHC-"
      },
      "source": [
        "**Variable exploration: numerical**"
      ]
    },
    {
      "cell_type": "markdown",
      "metadata": {
        "id": "MNuvB11vrr-K"
      },
      "source": [
        "9. Long "
      ]
    },
    {
      "cell_type": "code",
      "execution_count": null,
      "metadata": {
        "colab": {
          "base_uri": "https://localhost:8080/"
        },
        "id": "3jtpNUCEkEap",
        "outputId": "71de533d-9968-4afc-b8e9-5a223baf40cf"
      },
      "outputs": [
        {
          "output_type": "execute_result",
          "data": {
            "text/plain": [
              "count    281692.000000\n",
              "mean        -78.377824\n",
              "std           8.934564\n",
              "min         -80.039196\n",
              "25%         -79.470433\n",
              "50%         -79.392819\n",
              "75%         -79.318798\n",
              "max           0.000000\n",
              "Name: Long, dtype: float64"
            ]
          },
          "metadata": {},
          "execution_count": 26
        }
      ],
      "source": [
        "mci['Long'].describe()"
      ]
    },
    {
      "cell_type": "code",
      "execution_count": null,
      "metadata": {
        "colab": {
          "base_uri": "https://localhost:8080/",
          "height": 351
        },
        "id": "fbtrbyujlpxV",
        "outputId": "cf650ab6-1a26-4414-f9d2-79f1715a194c"
      },
      "outputs": [
        {
          "output_type": "stream",
          "name": "stderr",
          "text": [
            "/usr/local/lib/python3.7/dist-packages/seaborn/distributions.py:2619: FutureWarning: `distplot` is a deprecated function and will be removed in a future version. Please adapt your code to use either `displot` (a figure-level function with similar flexibility) or `histplot` (an axes-level function for histograms).\n",
            "  warnings.warn(msg, FutureWarning)\n"
          ]
        },
        {
          "output_type": "execute_result",
          "data": {
            "text/plain": [
              "<matplotlib.axes._subplots.AxesSubplot at 0x7f951dbc1790>"
            ]
          },
          "metadata": {},
          "execution_count": 27
        },
        {
          "output_type": "display_data",
          "data": {
            "text/plain": [
              "<Figure size 432x288 with 1 Axes>"
            ],
            "image/png": "[encoded data removed]"
          },
          "metadata": {
            "needs_background": "light"
          }
        }
      ],
      "source": [
        "sns.distplot(mci.Long)"
      ]
    },
    {
      "cell_type": "markdown",
      "metadata": {
        "id": "I5UiPwYnrvDY"
      },
      "source": [
        "10. Lat"
      ]
    },
    {
      "cell_type": "code",
      "execution_count": null,
      "metadata": {
        "colab": {
          "base_uri": "https://localhost:8080/"
        },
        "id": "PdYVPwuHlUqT",
        "outputId": "be61f7c3-176e-4692-a99e-8b6b3342d69d"
      },
      "outputs": [
        {
          "output_type": "execute_result",
          "data": {
            "text/plain": [
              "count    281692.000000\n",
              "mean         43.146377\n",
              "std           4.918359\n",
              "min           0.000000\n",
              "25%          43.659862\n",
              "50%          43.699285\n",
              "75%          43.751025\n",
              "max          44.333691\n",
              "Name: Lat, dtype: float64"
            ]
          },
          "metadata": {},
          "execution_count": 28
        }
      ],
      "source": [
        "mci['Lat'].describe()"
      ]
    },
    {
      "cell_type": "code",
      "execution_count": null,
      "metadata": {
        "colab": {
          "base_uri": "https://localhost:8080/",
          "height": 351
        },
        "id": "tjp1md0am06_",
        "outputId": "31c061fe-5e4b-4312-dbb0-3d5471fc6f00"
      },
      "outputs": [
        {
          "output_type": "stream",
          "name": "stderr",
          "text": [
            "/usr/local/lib/python3.7/dist-packages/seaborn/distributions.py:2619: FutureWarning: `distplot` is a deprecated function and will be removed in a future version. Please adapt your code to use either `displot` (a figure-level function with similar flexibility) or `histplot` (an axes-level function for histograms).\n",
            "  warnings.warn(msg, FutureWarning)\n"
          ]
        },
        {
          "output_type": "execute_result",
          "data": {
            "text/plain": [
              "<matplotlib.axes._subplots.AxesSubplot at 0x7f9522b9e750>"
            ]
          },
          "metadata": {},
          "execution_count": 29
        },
        {
          "output_type": "display_data",
          "data": {
            "text/plain": [
              "<Figure size 432x288 with 1 Axes>"
            ],
            "image/png": "[encoded data removed]"
          },
          "metadata": {
            "needs_background": "light"
          }
        }
      ],
      "source": [
        "sns.distplot(mci.Lat)"
      ]
    },
    {
      "cell_type": "markdown",
      "metadata": {
        "id": "zJh_vnBizOjI"
      },
      "source": [
        "**Cap and Floor for Long and Lat**"
      ]
    },
    {
      "cell_type": "markdown",
      "metadata": {
        "id": "E034HVrpzVGo"
      },
      "source": [
        "Long"
      ]
    },
    {
      "cell_type": "code",
      "execution_count": 6,
      "metadata": {
        "colab": {
          "base_uri": "https://localhost:8080/"
        },
        "id": "itZ5U9ZFomvA",
        "outputId": "2051562f-143b-480e-beed-335c4e3dd741"
      },
      "outputs": [
        {
          "output_type": "execute_result",
          "data": {
            "text/plain": [
              "-79.16874601"
            ]
          },
          "metadata": {},
          "execution_count": 6
        }
      ],
      "source": [
        "q = mci.Long.quantile(0.98)\n",
        "q"
      ]
    },
    {
      "cell_type": "code",
      "execution_count": 7,
      "metadata": {
        "colab": {
          "base_uri": "https://localhost:8080/"
        },
        "id": "AEei7MG7tjZc",
        "outputId": "de0410bb-d07e-40ea-a780-0578a752e151"
      },
      "outputs": [
        {
          "output_type": "execute_result",
          "data": {
            "text/plain": [
              "-79.69541471"
            ]
          },
          "metadata": {},
          "execution_count": 7
        }
      ],
      "source": [
        "min = mci.Long.quantile(0.0008)\n",
        "min"
      ]
    },
    {
      "cell_type": "code",
      "execution_count": 8,
      "metadata": {
        "colab": {
          "base_uri": "https://localhost:8080/"
        },
        "id": "Gw5RjkLUpmzC",
        "outputId": "19a1f90c-6163-4988-e684-f1fd36f6fc38"
      },
      "outputs": [
        {
          "output_type": "execute_result",
          "data": {
            "text/plain": [
              "count    275819.000000\n",
              "mean        -79.397803\n",
              "std           0.101980\n",
              "min         -79.692683\n",
              "25%         -79.473028\n",
              "50%         -79.394585\n",
              "75%         -79.326946\n",
              "max         -79.168841\n",
              "Name: Long, dtype: float64"
            ]
          },
          "metadata": {},
          "execution_count": 8
        }
      ],
      "source": [
        "mci_ll = mci.query('Long < @q')\n",
        "mci_ll = mci_ll.query('Long > @min')\n",
        "mci_ll.Long.describe()"
      ]
    },
    {
      "cell_type": "code",
      "execution_count": null,
      "metadata": {
        "colab": {
          "base_uri": "https://localhost:8080/"
        },
        "id": "soTuPOk1Lx0i",
        "outputId": "5cf2b059-29de-4eed-ca4f-9b32212a0dbc"
      },
      "outputs": [
        {
          "output_type": "execute_result",
          "data": {
            "text/plain": [
              "-79.39458503"
            ]
          },
          "metadata": {},
          "execution_count": 40
        }
      ],
      "source": [
        "# Median\n",
        "mci_ll.Long.median()"
      ]
    },
    {
      "cell_type": "code",
      "execution_count": null,
      "metadata": {
        "colab": {
          "base_uri": "https://localhost:8080/",
          "height": 351
        },
        "id": "hIo46B7esfeN",
        "outputId": "14d067f6-f100-48de-8450-8d5e9471bd2e"
      },
      "outputs": [
        {
          "name": "stderr",
          "output_type": "stream",
          "text": [
            "/usr/local/lib/python3.7/dist-packages/seaborn/distributions.py:2619: FutureWarning: `distplot` is a deprecated function and will be removed in a future version. Please adapt your code to use either `displot` (a figure-level function with similar flexibility) or `histplot` (an axes-level function for histograms).\n",
            "  warnings.warn(msg, FutureWarning)\n"
          ]
        },
        {
          "data": {
            "text/plain": [
              "<matplotlib.axes._subplots.AxesSubplot at 0x7fdef09b4f50>"
            ]
          },
          "execution_count": 254,
          "metadata": {},
          "output_type": "execute_result"
        },
        {
          "data": {
            "image/png": "[encoded data removed]",
            "text/plain": [
              "<Figure size 432x288 with 1 Axes>"
            ]
          },
          "metadata": {},
          "output_type": "display_data"
        }
      ],
      "source": [
        "sns.distplot(mci_ll.Long)"
      ]
    },
    {
      "cell_type": "markdown",
      "metadata": {
        "id": "ugoGnDoVzkjz"
      },
      "source": [
        "Lat"
      ]
    },
    {
      "cell_type": "code",
      "execution_count": 9,
      "metadata": {
        "colab": {
          "base_uri": "https://localhost:8080/"
        },
        "id": "wfg5pP0WryKT",
        "outputId": "37928a1a-ebe3-4fbc-efa5-2e964a50d500"
      },
      "outputs": [
        {
          "output_type": "execute_result",
          "data": {
            "text/plain": [
              "43.60085066"
            ]
          },
          "metadata": {},
          "execution_count": 9
        }
      ],
      "source": [
        "q2 = mci.Lat.quantile(0.02)\n",
        "q2"
      ]
    },
    {
      "cell_type": "code",
      "execution_count": 10,
      "metadata": {
        "colab": {
          "base_uri": "https://localhost:8080/"
        },
        "id": "68TzEIZlunPb",
        "outputId": "66e5712f-3bb5-457f-a0dd-8824e4df9958"
      },
      "outputs": [
        {
          "output_type": "execute_result",
          "data": {
            "text/plain": [
              "43.892980221868"
            ]
          },
          "metadata": {},
          "execution_count": 10
        }
      ],
      "source": [
        "max = mci.Lat.quantile(0.9996)\n",
        "max"
      ]
    },
    {
      "cell_type": "code",
      "execution_count": 11,
      "metadata": {
        "colab": {
          "base_uri": "https://localhost:8080/"
        },
        "id": "M355ByfGsR1G",
        "outputId": "3cd66861-820d-4f68-e0b7-e613f68f274d"
      },
      "outputs": [
        {
          "output_type": "execute_result",
          "data": {
            "text/plain": [
              "count    273819.000000\n",
              "mean         43.707116\n",
              "std           0.051873\n",
              "min          43.600874\n",
              "25%          43.661317\n",
              "50%          43.700508\n",
              "75%          43.750978\n",
              "max          43.892897\n",
              "Name: Lat, dtype: float64"
            ]
          },
          "metadata": {},
          "execution_count": 11
        }
      ],
      "source": [
        "mci_ll = mci_ll.query('Lat > @q2')\n",
        "mci_ll = mci_ll.query('Lat < @max')\n",
        "mci_ll.Lat.describe()"
      ]
    },
    {
      "cell_type": "code",
      "execution_count": null,
      "metadata": {
        "colab": {
          "base_uri": "https://localhost:8080/"
        },
        "id": "qPk73hR2MBVS",
        "outputId": "4cdc07c7-f49e-41b7-9e29-ec628d1bc5ed"
      },
      "outputs": [
        {
          "data": {
            "text/plain": [
              "43.70050771"
            ]
          },
          "execution_count": 22,
          "metadata": {},
          "output_type": "execute_result"
        }
      ],
      "source": [
        "mci_ll.Lat.median()"
      ]
    },
    {
      "cell_type": "code",
      "execution_count": null,
      "metadata": {
        "colab": {
          "base_uri": "https://localhost:8080/",
          "height": 351
        },
        "id": "VW38Qu7usm3M",
        "outputId": "4f566054-0f1d-4901-b332-8ebd908934fe"
      },
      "outputs": [
        {
          "name": "stderr",
          "output_type": "stream",
          "text": [
            "/usr/local/lib/python3.7/dist-packages/seaborn/distributions.py:2619: FutureWarning: `distplot` is a deprecated function and will be removed in a future version. Please adapt your code to use either `displot` (a figure-level function with similar flexibility) or `histplot` (an axes-level function for histograms).\n",
            "  warnings.warn(msg, FutureWarning)\n"
          ]
        },
        {
          "data": {
            "text/plain": [
              "<matplotlib.axes._subplots.AxesSubplot at 0x7fdef0764b50>"
            ]
          },
          "execution_count": 266,
          "metadata": {},
          "output_type": "execute_result"
        },
        {
          "data": {
            "image/png": "[encoded data removed]",
            "text/plain": [
              "<Figure size 432x288 with 1 Axes>"
            ]
          },
          "metadata": {},
          "output_type": "display_data"
        }
      ],
      "source": [
        "sns.distplot(mci_ll.Lat)"
      ]
    },
    {
      "cell_type": "code",
      "execution_count": 13,
      "metadata": {
        "colab": {
          "base_uri": "https://localhost:8080/"
        },
        "id": "mbm-U2Y0xSKA",
        "outputId": "d8ef196d-c208-44e0-d916-c7c0e9652b7a"
      },
      "outputs": [
        {
          "output_type": "execute_result",
          "data": {
            "text/plain": [
              "(273819, 10)"
            ]
          },
          "metadata": {},
          "execution_count": 13
        }
      ],
      "source": [
        "mci_ll.shape"
      ]
    },
    {
      "cell_type": "markdown",
      "metadata": {
        "id": "6F-tSAGqvedb"
      },
      "source": [
        "#Feature selection"
      ]
    },
    {
      "cell_type": "markdown",
      "metadata": {
        "id": "g_zfEn04wHvA"
      },
      "source": [
        "**Random Forest**"
      ]
    },
    {
      "cell_type": "code",
      "execution_count": 12,
      "metadata": {
        "colab": {
          "base_uri": "https://localhost:8080/"
        },
        "id": "0m390RyZvoIJ",
        "outputId": "aaf1788d-d4f7-489e-d436-d8d7179fe489"
      },
      "outputs": [
        {
          "output_type": "stream",
          "name": "stdout",
          "text": [
            "Looking in indexes: https://pypi.org/simple, https://us-python.pkg.dev/colab-wheels/public/simple/\n",
            "Requirement already satisfied: dmba in /usr/local/lib/python3.7/dist-packages (0.1.0)\n",
            "no display found. Using non-interactive Agg backend\n"
          ]
        }
      ],
      "source": [
        "# Import the packages\n",
        "from sklearn.model_selection import train_test_split\n",
        "from sklearn.ensemble import RandomForestClassifier\n",
        "from sklearn.feature_selection import SelectFromModel\n",
        "!pip install dmba\n",
        "from dmba import classificationSummary"
      ]
    },
    {
      "cell_type": "code",
      "execution_count": null,
      "metadata": {
        "id": "ZMVc3xagvtPD"
      },
      "outputs": [],
      "source": [
        "# Define the predictors and outcome\n",
        "predictors = ['Division', 'premises_type', 'reportedmonth', 'reportedday',\n",
        "       'reporteddayofweek', 'reportedhour', 'Neighbourhood', 'Long',\n",
        "       'Lat']\n",
        "outcome = 'MCI'"
      ]
    },
    {
      "cell_type": "code",
      "execution_count": null,
      "metadata": {
        "id": "SCsEVBD7vvef"
      },
      "outputs": [],
      "source": [
        "# Get dummies, define X and y, and split into train and test \n",
        "X = pd.get_dummies(mci_ll[predictors], drop_first=True)\n",
        "y = mci_ll['MCI']\n",
        "X_train, X_valid, y_train,y_valid = train_test_split(X,y, test_size=0.4, random_state=1, stratify=y)"
      ]
    },
    {
      "cell_type": "code",
      "execution_count": null,
      "metadata": {
        "colab": {
          "base_uri": "https://localhost:8080/"
        },
        "id": "dewj-wI-v0Y-",
        "outputId": "1bf933f9-e49f-46e5-a3b0-0cb973973b9f"
      },
      "outputs": [
        {
          "data": {
            "text/plain": [
              "SelectFromModel(estimator=RandomForestClassifier())"
            ]
          },
          "execution_count": 323,
          "metadata": {},
          "output_type": "execute_result"
        }
      ],
      "source": [
        "# Apply random forest\n",
        "rf = SelectFromModel(RandomForestClassifier(n_estimators=100, max_depth=None, min_impurity_decrease=0.0))\n",
        "rf.fit(X_train,y_train)"
      ]
    },
    {
      "cell_type": "code",
      "execution_count": null,
      "metadata": {
        "colab": {
          "base_uri": "https://localhost:8080/"
        },
        "id": "sL_cfyMav348",
        "outputId": "c8c328db-edde-4b90-ce73-e78afa775fe9"
      },
      "outputs": [
        {
          "name": "stdout",
          "output_type": "stream",
          "text": [
            "                                       feature importance\n",
            "Long                                             0.105437\n",
            "Lat                                              0.102215\n",
            "Division_D12                                     0.002130\n",
            "Division_D13                                     0.002144\n",
            "Division_D14                                     0.002663\n",
            "...                                                   ...\n",
            "Neighbourhood_Wychwood                           0.000629\n",
            "Neighbourhood_Yonge-Eglinton                     0.000527\n",
            "Neighbourhood_Yonge-St.Clair                     0.000348\n",
            "Neighbourhood_York University Heights            0.001500\n",
            "Neighbourhood_Yorkdale-Glen Park                 0.001211\n",
            "\n",
            "[234 rows x 1 columns]\n"
          ]
        }
      ],
      "source": [
        "result = pd.DataFrame(rf.estimator_.feature_importances_, index=X.columns.values, columns=['feature importance'])\n",
        "print(result)"
      ]
    },
    {
      "cell_type": "code",
      "execution_count": null,
      "metadata": {
        "colab": {
          "base_uri": "https://localhost:8080/"
        },
        "id": "-L0xKIoUv5wz",
        "outputId": "efdda471-cf8d-4f4c-db31-f61f311554e2"
      },
      "outputs": [
        {
          "data": {
            "text/plain": [
              "array([ True,  True, False, False, False, False, False, False, False,\n",
              "       False, False, False, False, False, False, False, False, False,\n",
              "        True, False,  True,  True,  True,  True,  True,  True,  True,\n",
              "        True,  True,  True,  True,  True,  True,  True,  True,  True,\n",
              "        True,  True,  True,  True,  True,  True,  True,  True,  True,\n",
              "        True,  True,  True,  True,  True,  True,  True,  True,  True,\n",
              "        True,  True,  True,  True,  True,  True,  True,  True,  True,\n",
              "        True,  True,  True,  True,  True,  True,  True,  True,  True,\n",
              "       False, False, False,  True,  True,  True,  True,  True,  True,\n",
              "        True,  True,  True,  True,  True,  True,  True,  True,  True,\n",
              "        True,  True,  True,  True, False, False, False, False, False,\n",
              "       False, False, False, False, False, False, False, False, False,\n",
              "       False, False, False, False, False, False, False, False, False,\n",
              "       False, False, False, False, False, False, False, False, False,\n",
              "       False, False, False, False, False, False, False, False, False,\n",
              "       False, False, False, False, False, False, False, False, False,\n",
              "       False, False, False, False, False, False, False, False, False,\n",
              "       False, False, False, False, False, False, False, False, False,\n",
              "       False, False, False, False, False, False, False, False, False,\n",
              "       False, False, False, False, False, False, False, False, False,\n",
              "       False, False, False, False, False, False, False, False, False,\n",
              "       False, False, False, False, False, False, False, False, False,\n",
              "       False, False, False, False, False, False, False, False, False,\n",
              "       False, False, False, False, False, False, False, False, False,\n",
              "       False, False, False, False, False, False, False, False, False,\n",
              "       False, False, False, False, False, False, False, False, False])"
            ]
          },
          "execution_count": 325,
          "metadata": {},
          "output_type": "execute_result"
        }
      ],
      "source": [
        "rf.get_support()"
      ]
    },
    {
      "cell_type": "code",
      "execution_count": null,
      "metadata": {
        "colab": {
          "base_uri": "https://localhost:8080/"
        },
        "id": "cJvDagldv6Yh",
        "outputId": "cad1e77f-22a9-42cb-eee1-36c9235bb374"
      },
      "outputs": [
        {
          "data": {
            "text/plain": [
              "74"
            ]
          },
          "execution_count": 326,
          "metadata": {},
          "output_type": "execute_result"
        }
      ],
      "source": [
        "selected_feat= X_train.columns[(rf.get_support())]\n",
        "len(selected_feat)"
      ]
    },
    {
      "cell_type": "code",
      "execution_count": null,
      "metadata": {
        "colab": {
          "base_uri": "https://localhost:8080/"
        },
        "id": "p0oJ430qv9AC",
        "outputId": "9871e743-95a4-40b8-e4c2-025f474ecf77"
      },
      "outputs": [
        {
          "name": "stdout",
          "output_type": "stream",
          "text": [
            "Index(['Long', 'Lat', 'premises_type_Commercial', 'premises_type_House',\n",
            "       'premises_type_Other', 'premises_type_Outside', 'premises_type_Transit',\n",
            "       'reportedmonth_August', 'reportedmonth_December',\n",
            "       'reportedmonth_February', 'reportedmonth_January', 'reportedmonth_July',\n",
            "       'reportedmonth_June', 'reportedmonth_March', 'reportedmonth_May',\n",
            "       'reportedmonth_November', 'reportedmonth_October',\n",
            "       'reportedmonth_September', 'reportedday_2', 'reportedday_3',\n",
            "       'reportedday_4', 'reportedday_5', 'reportedday_6', 'reportedday_7',\n",
            "       'reportedday_8', 'reportedday_9', 'reportedday_10', 'reportedday_11',\n",
            "       'reportedday_12', 'reportedday_13', 'reportedday_14', 'reportedday_15',\n",
            "       'reportedday_16', 'reportedday_17', 'reportedday_18', 'reportedday_19',\n",
            "       'reportedday_20', 'reportedday_21', 'reportedday_22', 'reportedday_23',\n",
            "       'reportedday_24', 'reportedday_25', 'reportedday_26', 'reportedday_27',\n",
            "       'reportedday_28', 'reportedday_29', 'reportedday_30', 'reportedday_31',\n",
            "       'reporteddayofweek_Monday', 'reporteddayofweek_Saturday',\n",
            "       'reporteddayofweek_Sunday', 'reporteddayofweek_Thursday',\n",
            "       'reporteddayofweek_Tuesday', 'reporteddayofweek_Wednesday',\n",
            "       'reportedhour_1', 'reportedhour_5', 'reportedhour_6', 'reportedhour_7',\n",
            "       'reportedhour_8', 'reportedhour_9', 'reportedhour_10',\n",
            "       'reportedhour_11', 'reportedhour_12', 'reportedhour_13',\n",
            "       'reportedhour_14', 'reportedhour_15', 'reportedhour_16',\n",
            "       'reportedhour_17', 'reportedhour_18', 'reportedhour_19',\n",
            "       'reportedhour_20', 'reportedhour_21', 'reportedhour_22',\n",
            "       'reportedhour_23'],\n",
            "      dtype='object')\n"
          ]
        }
      ],
      "source": [
        "print(selected_feat)"
      ]
    },
    {
      "cell_type": "markdown",
      "source": [
        "Division, Neighbourhood were not indentified as important variables."
      ],
      "metadata": {
        "id": "iPHVGxfTi7TG"
      }
    },
    {
      "cell_type": "markdown",
      "metadata": {
        "id": "eSlV5GmIwPVe"
      },
      "source": [
        "**Drop the unimportant columns**"
      ]
    },
    {
      "cell_type": "code",
      "execution_count": 13,
      "metadata": {
        "id": "SltIRP16xbkQ"
      },
      "outputs": [],
      "source": [
        "# Drop\n",
        "mci_final = mci_ll.drop(['Division', 'Neighbourhood'], axis=1)"
      ]
    },
    {
      "cell_type": "markdown",
      "metadata": {
        "id": "_KTe5J4_9Zxk"
      },
      "source": [
        "**Final selected columns**"
      ]
    },
    {
      "cell_type": "code",
      "execution_count": null,
      "metadata": {
        "colab": {
          "base_uri": "https://localhost:8080/"
        },
        "id": "G7tO_S2Yxj47",
        "outputId": "9c25e81a-fc2c-4998-e256-a3e2241da85b"
      },
      "outputs": [
        {
          "output_type": "execute_result",
          "data": {
            "text/plain": [
              "Index(['premises_type', 'reportedmonth', 'reportedday', 'reporteddayofweek',\n",
              "       'reportedhour', 'MCI', 'Long', 'Lat'],\n",
              "      dtype='object')"
            ]
          },
          "metadata": {},
          "execution_count": 15
        }
      ],
      "source": [
        "mci_final.columns"
      ]
    },
    {
      "cell_type": "markdown",
      "metadata": {
        "id": "VLytpNcigQkr"
      },
      "source": [
        "**train test split**"
      ]
    },
    {
      "cell_type": "code",
      "execution_count": 14,
      "metadata": {
        "id": "ItZ7NUv2xwSV"
      },
      "outputs": [],
      "source": [
        "# Define the predictors and outcome, get dummies, and divide into train and validation\n",
        "predictors = ['premises_type', 'reportedmonth', 'reportedday',\n",
        "       'reporteddayofweek', 'reportedhour', 'Long',\n",
        "       'Lat']\n",
        "outcome = 'MCI'\n",
        "X = pd.get_dummies(mci_final[predictors], drop_first=True)\n",
        "y = mci_final['MCI']\n",
        "X_train, X_valid, y_train,y_valid = train_test_split(X,y, test_size=0.4, random_state=1, stratify=y)"
      ]
    },
    {
      "cell_type": "code",
      "execution_count": 15,
      "metadata": {
        "colab": {
          "base_uri": "https://localhost:8080/"
        },
        "id": "H8Bz5Bi4AbDV",
        "outputId": "b18ec897-7e3b-43b2-99f2-8607e102a181"
      },
      "outputs": [
        {
          "output_type": "stream",
          "name": "stdout",
          "text": [
            "Shape of X-train: (164291, 78)\n",
            "Shape of y-train: (164291,)\n",
            "Shape of X-valid: (109528, 78)\n",
            "Shape of y-valid: (109528,)\n"
          ]
        }
      ],
      "source": [
        "# Shape of train and validation data\n",
        "print('Shape of X-train:', X_train.shape)\n",
        "print('Shape of y-train:', y_train.shape)\n",
        "print('Shape of X-valid:', X_valid.shape)\n",
        "print('Shape of y-valid:', y_valid.shape)"
      ]
    },
    {
      "cell_type": "markdown",
      "metadata": {
        "id": "hGis6m1VxpOm"
      },
      "source": [
        "#1st model: Random Forest"
      ]
    },
    {
      "cell_type": "code",
      "execution_count": 18,
      "metadata": {
        "colab": {
          "base_uri": "https://localhost:8080/"
        },
        "id": "t7-OJ_Fxxq93",
        "outputId": "a0def3fb-3516-420c-e042-eb7612a62fae"
      },
      "outputs": [
        {
          "output_type": "stream",
          "name": "stdout",
          "text": [
            "Looking in indexes: https://pypi.org/simple, https://us-python.pkg.dev/colab-wheels/public/simple/\n",
            "Requirement already satisfied: dmba in /usr/local/lib/python3.7/dist-packages (0.1.0)\n"
          ]
        }
      ],
      "source": [
        "# Import the packages\n",
        "from sklearn.ensemble import RandomForestClassifier\n",
        "!pip install dmba\n",
        "from dmba import classificationSummary\n",
        "from sklearn.metrics import f1_score"
      ]
    },
    {
      "cell_type": "markdown",
      "metadata": {
        "id": "pk4XvHHqglXw"
      },
      "source": [
        "**GridSearch**"
      ]
    },
    {
      "cell_type": "code",
      "execution_count": null,
      "metadata": {
        "id": "rvQTmVSjgdtW"
      },
      "outputs": [],
      "source": [
        "# Import the package\n",
        "from sklearn.model_selection import GridSearchCV"
      ]
    },
    {
      "cell_type": "code",
      "execution_count": null,
      "metadata": {
        "id": "pUAz3ICLg3x1"
      },
      "outputs": [],
      "source": [
        "# Create the parameter grid based on the results of random search \n",
        "param_grid = {\n",
        "    'min_sample_leaf': [1, 3, 5],\n",
        "    'min_sample_split': [2, 5, 10],\n",
        "    'max_features': ['auto', 'sqrt', 'log2'],\n",
        "    'max_depth': [10, 100, None],\n",
        "    'n_estimators': [100, 500, 1000]\n",
        "}\n",
        "# Create a based model\n",
        "rf_base = RandomForestClassifier()\n",
        "# Instantiate the grid search model\n",
        "grid_search = GridSearchCV(estimator = rf_base, param_grid = param_grid, \n",
        "                          cv = 3, n_jobs = -1, verbose = 2)"
      ]
    },
    {
      "cell_type": "code",
      "execution_count": null,
      "metadata": {
        "colab": {
          "base_uri": "https://localhost:8080/"
        },
        "id": "kRjYuaGpg_Xl",
        "outputId": "0300f711-2d6f-46b8-fb10-4c0282efc1ef"
      },
      "outputs": [
        {
          "name": "stdout",
          "output_type": "stream",
          "text": [
            "Fitting 3 folds for each of 32 candidates, totalling 96 fits\n"
          ]
        }
      ],
      "source": [
        "# Fit the grid search\n",
        "grid_search.fit(X_train, y_train)"
      ]
    },
    {
      "cell_type": "code",
      "execution_count": null,
      "metadata": {
        "id": "4dDwlPRkhQi_"
      },
      "outputs": [],
      "source": [
        "# The best parameters\n",
        "grid_search.best_params_"
      ]
    },
    {
      "cell_type": "markdown",
      "metadata": {
        "id": "nf0ymXL9niT1"
      },
      "source": [
        "I ran the grid search more than 30 minutes, it did not finish even under GPU because of the capacity of my laptop. Therefore, I tuned the parameters manually. "
      ]
    },
    {
      "cell_type": "code",
      "execution_count": 19,
      "metadata": {
        "colab": {
          "base_uri": "https://localhost:8080/"
        },
        "id": "gM1qR8Pux11J",
        "outputId": "e0df856a-9396-415e-ebbc-85855c691604"
      },
      "outputs": [
        {
          "output_type": "execute_result",
          "data": {
            "text/plain": [
              "RandomForestClassifier(max_depth=100, max_features='sqrt', n_estimators=500)"
            ]
          },
          "metadata": {},
          "execution_count": 19
        }
      ],
      "source": [
        "# Apply Random Forest\n",
        "rfc = RandomForestClassifier(n_estimators=500, max_features='sqrt', max_depth=100,min_samples_split=2, min_samples_leaf=1)\n",
        "rfc.fit(X_train,y_train)"
      ]
    },
    {
      "cell_type": "code",
      "execution_count": null,
      "metadata": {
        "colab": {
          "base_uri": "https://localhost:8080/"
        },
        "id": "gRPWgexWx7D-",
        "outputId": "faaaba37-5b2d-4ae8-83ea-9299dc79490b"
      },
      "outputs": [
        {
          "output_type": "stream",
          "name": "stdout",
          "text": [
            "Confusion Matrix (Accuracy 0.6491)\n",
            "\n",
            "       Prediction\n",
            "Actual     0     1     2     3     4\n",
            "     0 51515  2015  4434   923    65\n",
            "     1  5744  6791  1347   258    42\n",
            "     2 11396   711  9805    84   107\n",
            "     3  6509   611   595  2952    16\n",
            "     4  2208   423   903    38    36\n"
          ]
        }
      ],
      "source": [
        "classificationSummary(y_valid, rfc.predict(X_valid))"
      ]
    },
    {
      "cell_type": "code",
      "execution_count": null,
      "metadata": {
        "colab": {
          "base_uri": "https://localhost:8080/"
        },
        "id": "0PHHyFuLx7mF",
        "outputId": "42b008c1-692d-4d58-b82f-9864aa31b487"
      },
      "outputs": [
        {
          "data": {
            "text/plain": [
              "0.6488295230443357"
            ]
          },
          "execution_count": 23,
          "metadata": {},
          "output_type": "execute_result"
        }
      ],
      "source": [
        "f1_score(y_valid, rfc.predict(X_valid), average='micro')"
      ]
    },
    {
      "cell_type": "markdown",
      "metadata": {
        "id": "tU_6JuJT4JCH"
      },
      "source": [
        "# 2nd model: Random Forest with oversampling"
      ]
    },
    {
      "cell_type": "markdown",
      "metadata": {
        "id": "pB21HuhA4XKn"
      },
      "source": [
        "**Oversampling**"
      ]
    },
    {
      "cell_type": "code",
      "execution_count": null,
      "metadata": {
        "id": "Rps10WBf4WAO"
      },
      "outputs": [],
      "source": [
        "# import the packages\n",
        "from imblearn.over_sampling import SMOTE"
      ]
    },
    {
      "cell_type": "code",
      "execution_count": null,
      "metadata": {
        "id": "vaHJp2YB4eif"
      },
      "outputs": [],
      "source": [
        "# SMOTE\n",
        "smote = SMOTE(sampling_strategy='not majority', random_state =1)\n",
        "X_res, y_res = smote.fit_resample(X_train, y_train)"
      ]
    },
    {
      "cell_type": "code",
      "execution_count": null,
      "metadata": {
        "colab": {
          "base_uri": "https://localhost:8080/",
          "height": 206
        },
        "id": "mIFJ7UFwGh5o",
        "outputId": "ce09c819-2e7c-4edf-d3dd-6c4994d4c55e"
      },
      "outputs": [
        {
          "data": {
            "text/html": [
              "\n",
              "  <div id=\"df-d44e13be-d18d-46f5-bc9d-4ddd6ecc4598\">\n",
              "    <div class=\"colab-df-container\">\n",
              "      <div>\n",
              "<style scoped>\n",
              "    .dataframe tbody tr th:only-of-type {\n",
              "        vertical-align: middle;\n",
              "    }\n",
              "\n",
              "    .dataframe tbody tr th {\n",
              "        vertical-align: top;\n",
              "    }\n",
              "\n",
              "    .dataframe thead th {\n",
              "        text-align: right;\n",
              "    }\n",
              "</style>\n",
              "<table border=\"1\" class=\"dataframe\">\n",
              "  <thead>\n",
              "    <tr style=\"text-align: right;\">\n",
              "      <th></th>\n",
              "      <th>MCI</th>\n",
              "      <th>Counts</th>\n",
              "    </tr>\n",
              "  </thead>\n",
              "  <tbody>\n",
              "    <tr>\n",
              "      <th>0</th>\n",
              "      <td>Assault</td>\n",
              "      <td>88428</td>\n",
              "    </tr>\n",
              "    <tr>\n",
              "      <th>1</th>\n",
              "      <td>Auto Theft</td>\n",
              "      <td>88428</td>\n",
              "    </tr>\n",
              "    <tr>\n",
              "      <th>2</th>\n",
              "      <td>Break and Enter</td>\n",
              "      <td>88428</td>\n",
              "    </tr>\n",
              "    <tr>\n",
              "      <th>3</th>\n",
              "      <td>Robbery</td>\n",
              "      <td>88428</td>\n",
              "    </tr>\n",
              "    <tr>\n",
              "      <th>4</th>\n",
              "      <td>Theft Over</td>\n",
              "      <td>88428</td>\n",
              "    </tr>\n",
              "  </tbody>\n",
              "</table>\n",
              "</div>\n",
              "      <button class=\"colab-df-convert\" onclick=\"convertToInteractive('df-d44e13be-d18d-46f5-bc9d-4ddd6ecc4598')\"\n",
              "              title=\"Convert this dataframe to an interactive table.\"\n",
              "              style=\"display:none;\">\n",
              "        \n",
              "  <svg xmlns=\"http://www.w3.org/2000/svg\" height=\"24px\"viewBox=\"0 0 24 24\"\n",
              "       width=\"24px\">\n",
              "    <path d=\"M0 0h24v24H0V0z\" fill=\"none\"/>\n",
              "    <path d=\"M18.56 5.44l.94 2.06.94-2.06 2.06-.94-2.06-.94-.94-2.06-.94 2.06-2.06.94zm-11 1L8.5 8.5l.94-2.06 2.06-.94-2.06-.94L8.5 2.5l-.94 2.06-2.06.94zm10 10l.94 2.06.94-2.06 2.06-.94-2.06-.94-.94-2.06-.94 2.06-2.06.94z\"/><path d=\"M17.41 7.96l-1.37-1.37c-.4-.4-.92-.59-1.43-.59-.52 0-1.04.2-1.43.59L10.3 9.45l-7.72 7.72c-.78.78-.78 2.05 0 2.83L4 21.41c.39.39.9.59 1.41.59.51 0 1.02-.2 1.41-.59l7.78-7.78 2.81-2.81c.8-.78.8-2.07 0-2.86zM5.41 20L4 18.59l7.72-7.72 1.47 1.35L5.41 20z\"/>\n",
              "  </svg>\n",
              "      </button>\n",
              "      \n",
              "  <style>\n",
              "    .colab-df-container {\n",
              "      display:flex;\n",
              "      flex-wrap:wrap;\n",
              "      gap: 12px;\n",
              "    }\n",
              "\n",
              "    .colab-df-convert {\n",
              "      background-color: #E8F0FE;\n",
              "      border: none;\n",
              "      border-radius: 50%;\n",
              "      cursor: pointer;\n",
              "      display: none;\n",
              "      fill: #1967D2;\n",
              "      height: 32px;\n",
              "      padding: 0 0 0 0;\n",
              "      width: 32px;\n",
              "    }\n",
              "\n",
              "    .colab-df-convert:hover {\n",
              "      background-color: #E2EBFA;\n",
              "      box-shadow: 0px 1px 2px rgba(60, 64, 67, 0.3), 0px 1px 3px 1px rgba(60, 64, 67, 0.15);\n",
              "      fill: #174EA6;\n",
              "    }\n",
              "\n",
              "    [theme=dark] .colab-df-convert {\n",
              "      background-color: #3B4455;\n",
              "      fill: #D2E3FC;\n",
              "    }\n",
              "\n",
              "    [theme=dark] .colab-df-convert:hover {\n",
              "      background-color: #434B5C;\n",
              "      box-shadow: 0px 1px 3px 1px rgba(0, 0, 0, 0.15);\n",
              "      filter: drop-shadow(0px 1px 2px rgba(0, 0, 0, 0.3));\n",
              "      fill: #FFFFFF;\n",
              "    }\n",
              "  </style>\n",
              "\n",
              "      <script>\n",
              "        const buttonEl =\n",
              "          document.querySelector('#df-d44e13be-d18d-46f5-bc9d-4ddd6ecc4598 button.colab-df-convert');\n",
              "        buttonEl.style.display =\n",
              "          google.colab.kernel.accessAllowed ? 'block' : 'none';\n",
              "\n",
              "        async function convertToInteractive(key) {\n",
              "          const element = document.querySelector('#df-d44e13be-d18d-46f5-bc9d-4ddd6ecc4598');\n",
              "          const dataTable =\n",
              "            await google.colab.kernel.invokeFunction('convertToInteractive',\n",
              "                                                     [key], {});\n",
              "          if (!dataTable) return;\n",
              "\n",
              "          const docLinkHtml = 'Like what you see? Visit the ' +\n",
              "            '<a target=\"_blank\" href=https://colab.research.google.com/notebooks/data_table.ipynb>data table notebook</a>'\n",
              "            + ' to learn more about interactive tables.';\n",
              "          element.innerHTML = '';\n",
              "          dataTable['output_type'] = 'display_data';\n",
              "          await google.colab.output.renderOutput(dataTable, element);\n",
              "          const docLink = document.createElement('div');\n",
              "          docLink.innerHTML = docLinkHtml;\n",
              "          element.appendChild(docLink);\n",
              "        }\n",
              "      </script>\n",
              "    </div>\n",
              "  </div>\n",
              "  "
            ],
            "text/plain": [
              "               MCI  Counts\n",
              "0          Assault   88428\n",
              "1       Auto Theft   88428\n",
              "2  Break and Enter   88428\n",
              "3          Robbery   88428\n",
              "4       Theft Over   88428"
            ]
          },
          "execution_count": 26,
          "metadata": {},
          "output_type": "execute_result"
        }
      ],
      "source": [
        "# MCI\n",
        "y_res_bar = y_res.value_counts()\n",
        "y_res_bar = pd.DataFrame(y_res_bar)\n",
        "y_res_bar = y_res_bar.reset_index()\n",
        "y_res_bar = y_res_bar.rename(columns = {'MCI' : 'Counts'})\n",
        "y_res_bar = y_res_bar.rename(columns = {'index' : 'MCI'})\n",
        "y_res_bar"
      ]
    },
    {
      "cell_type": "code",
      "execution_count": null,
      "metadata": {
        "colab": {
          "base_uri": "https://localhost:8080/",
          "height": 620
        },
        "id": "ritqpdzvEyjm",
        "outputId": "b4f5f6da-9947-47cd-dd27-6617797474c8"
      },
      "outputs": [
        {
          "data": {
            "text/plain": [
              "<Figure size 432x288 with 0 Axes>"
            ]
          },
          "execution_count": 28,
          "metadata": {},
          "output_type": "execute_result"
        },
        {
          "data": {
            "image/png": "[encoded data removed]",
            "text/plain": [
              "<Figure size 576x576 with 1 Axes>"
            ]
          },
          "metadata": {},
          "output_type": "display_data"
        },
        {
          "data": {
            "text/plain": [
              "<Figure size 432x288 with 0 Axes>"
            ]
          },
          "metadata": {},
          "output_type": "display_data"
        }
      ],
      "source": [
        "# Bar graph\n",
        "plt.figure(figsize=(8,8))\n",
        "colors =['Red', 'Orange', 'Green', 'Blue', 'Purple']\n",
        "graph = plt.bar(y_res_bar.MCI, y_res_bar.Counts, color=colors)\n",
        "plt.title('Distribution of balanced MCI')\n",
        "\n",
        "plt.xlabel('Crime types')\n",
        "plt.ylabel('Counts')\n",
        "plt.tight_layout()\n",
        "plt.show()\n",
        "plt.figure()"
      ]
    },
    {
      "cell_type": "code",
      "execution_count": null,
      "metadata": {
        "id": "BnG_rCDJge2d"
      },
      "outputs": [],
      "source": [
        "# Random Forest with oversampling data\n",
        "rfc_over = RandomForestClassifier(n_estimators=500, max_features='sqrt', max_depth=100,min_samples_split=2, min_samples_leaf=1)\n",
        "rfc_over.fit(X_res,y_res)"
      ]
    },
    {
      "cell_type": "code",
      "execution_count": null,
      "metadata": {
        "colab": {
          "base_uri": "https://localhost:8080/"
        },
        "id": "llmYK-g46JSA",
        "outputId": "c32c8554-af67-451f-88ff-61a205d2c540"
      },
      "outputs": [
        {
          "name": "stdout",
          "output_type": "stream",
          "text": [
            "Confusion Matrix (Accuracy 0.5566)\n",
            "\n",
            "       Prediction\n",
            "Actual     0     1     2     3     4\n",
            "     0 34713  5078  9787  6204  3170\n",
            "     1  1882  8484  1444  1660   712\n",
            "     2  5503  1337 12379   947  1937\n",
            "     3  2917  1431   934  4920   481\n",
            "     4   912   697  1153   383   463\n"
          ]
        }
      ],
      "source": [
        "# Accuracy\n",
        "classificationSummary(y_valid, rfc_over.predict(X_valid))"
      ]
    },
    {
      "cell_type": "code",
      "execution_count": null,
      "metadata": {
        "colab": {
          "base_uri": "https://localhost:8080/"
        },
        "id": "onyJXQrI6ONM",
        "outputId": "2ae1c988-f668-4fca-d484-aad82b2f9262"
      },
      "outputs": [
        {
          "data": {
            "text/plain": [
              "0.4419423153794084"
            ]
          },
          "execution_count": 24,
          "metadata": {},
          "output_type": "execute_result"
        }
      ],
      "source": [
        "# F1 score\n",
        "f1_score(y_valid, rfc_over.predict(X_valid), average='macro')"
      ]
    },
    {
      "cell_type": "markdown",
      "metadata": {
        "id": "E86cH2Nw6lGL"
      },
      "source": [
        "#3rd model: XGboost"
      ]
    },
    {
      "cell_type": "code",
      "execution_count": 16,
      "metadata": {
        "id": "PKJkqo8w8ZkQ"
      },
      "outputs": [],
      "source": [
        "# import the package\n",
        "from xgboost import XGBClassifier"
      ]
    },
    {
      "cell_type": "code",
      "execution_count": 17,
      "metadata": {
        "colab": {
          "base_uri": "https://localhost:8080/"
        },
        "id": "_4zUwHJr8fED",
        "outputId": "a85d8074-2621-4468-c413-6e8db6c630e7"
      },
      "outputs": [
        {
          "output_type": "execute_result",
          "data": {
            "text/plain": [
              "XGBClassifier(early_stopping_rounds=10, learning_rate=0.3, min_child_weight=0,\n",
              "              objective='multi:softprob', subsample=1.0)"
            ]
          },
          "metadata": {},
          "execution_count": 17
        }
      ],
      "source": [
        "# Apply XGboost\n",
        "xg = XGBClassifier(early_stopping_rounds=10, learning_rate=0.3, subsample=1.0, min_child_weight=0)\n",
        "xg.fit(X_train, y_train)"
      ]
    },
    {
      "cell_type": "code",
      "execution_count": null,
      "metadata": {
        "colab": {
          "base_uri": "https://localhost:8080/"
        },
        "id": "_341Z4Qr8iic",
        "outputId": "ed8b829e-4f07-4607-c512-7dbbbf01ef2e"
      },
      "outputs": [
        {
          "name": "stdout",
          "output_type": "stream",
          "text": [
            "Confusion Matrix (Accuracy 0.6123)\n",
            "\n",
            "       Prediction\n",
            "Actual     0     1     2     3     4\n",
            "     0 53001  1973  3896    82     0\n",
            "     1  7069  5510  1556    47     0\n",
            "     2 13173   507  8419     3     1\n",
            "     3  9390   579   584   128     2\n",
            "     4  2459   370   771     7     1\n"
          ]
        }
      ],
      "source": [
        "# Accuracy\n",
        "classificationSummary(y_valid, xg.predict(X_valid))"
      ]
    },
    {
      "cell_type": "code",
      "execution_count": null,
      "metadata": {
        "colab": {
          "base_uri": "https://localhost:8080/"
        },
        "id": "IOJaZbpv8tEn",
        "outputId": "9691f69a-4b3d-464d-c28e-c7630a1721b0"
      },
      "outputs": [
        {
          "data": {
            "text/plain": [
              "0.6122544007011905"
            ]
          },
          "execution_count": 30,
          "metadata": {},
          "output_type": "execute_result"
        }
      ],
      "source": [
        "# F1 score\n",
        "f1_score(y_valid, xg.predict(X_valid), average='micro')"
      ]
    },
    {
      "cell_type": "markdown",
      "metadata": {
        "id": "dpBZNsI46rJH"
      },
      "source": [
        "#4th model: XGboost with oversampling"
      ]
    },
    {
      "cell_type": "code",
      "execution_count": null,
      "metadata": {
        "colab": {
          "base_uri": "https://localhost:8080/"
        },
        "id": "bLUhIByY8yRd",
        "outputId": "67449f1d-8227-4427-b8b7-ec2d5cca4b2e"
      },
      "outputs": [
        {
          "data": {
            "text/plain": [
              "XGBClassifier(early_stopping_rounds=10, learning_rate=0.3, min_child_weight=0,\n",
              "              objective='multi:softprob', subsample=1.0)"
            ]
          },
          "execution_count": 34,
          "metadata": {},
          "output_type": "execute_result"
        }
      ],
      "source": [
        "# Apply XGboost with oversampling\n",
        "xg2 = XGBClassifier(early_stopping_rounds=10, learning_rate=0.3, subsample=1.0, min_child_weight=0)\n",
        "xg2.fit(X_res, y_res)"
      ]
    },
    {
      "cell_type": "code",
      "execution_count": null,
      "metadata": {
        "colab": {
          "base_uri": "https://localhost:8080/"
        },
        "id": "oYepnYa-9BxI",
        "outputId": "6aeeb810-8cbd-4f07-a27c-d9d1f7295222"
      },
      "outputs": [
        {
          "name": "stdout",
          "output_type": "stream",
          "text": [
            "Confusion Matrix (Accuracy 0.4556)\n",
            "\n",
            "       Prediction\n",
            "Actual     0     1     2     3     4\n",
            "     0 23431  6035 13122 10136  6228\n",
            "     1   915  8294  1668  2460   845\n",
            "     2  4465  1123 12856   832  2827\n",
            "     3  2169  1755  1295  4580   884\n",
            "     4   584   696  1168   418   742\n"
          ]
        }
      ],
      "source": [
        "# Accuracy\n",
        "classificationSummary(y_valid, xg2.predict(X_valid))"
      ]
    },
    {
      "cell_type": "code",
      "execution_count": null,
      "metadata": {
        "colab": {
          "base_uri": "https://localhost:8080/"
        },
        "id": "rezztuOs9FPr",
        "outputId": "0a244bcf-bb65-4707-d450-b93880482414"
      },
      "outputs": [
        {
          "data": {
            "text/plain": [
              "0.3879825686619617"
            ]
          },
          "execution_count": 36,
          "metadata": {},
          "output_type": "execute_result"
        }
      ],
      "source": [
        "# F1 score\n",
        "f1_score(y_valid, xg2.predict(X_valid), average='macro')"
      ]
    },
    {
      "cell_type": "markdown",
      "metadata": {
        "id": "PGDxVl7G6b-h"
      },
      "source": [
        "#5th model: MLP"
      ]
    },
    {
      "cell_type": "code",
      "execution_count": null,
      "metadata": {
        "id": "TnwvU0c27Sq3"
      },
      "outputs": [],
      "source": [
        "# Import the packages\n",
        "from sklearn.neural_network import MLPClassifier"
      ]
    },
    {
      "cell_type": "code",
      "execution_count": null,
      "metadata": {
        "colab": {
          "base_uri": "https://localhost:8080/"
        },
        "id": "4rfVannI7WI-",
        "outputId": "3863c865-b22e-4eee-eee3-a3adab6d3f33"
      },
      "outputs": [
        {
          "data": {
            "text/plain": [
              "MLPClassifier(activation='logistic', hidden_layer_sizes=7, random_state=1)"
            ]
          },
          "execution_count": 38,
          "metadata": {},
          "output_type": "execute_result"
        }
      ],
      "source": [
        "# Apply MLP classifier\n",
        "mlp = MLPClassifier(hidden_layer_sizes=7, activation='logistic',solver='adam',random_state=1)\n",
        "mlp.fit(X_train,y_train)"
      ]
    },
    {
      "cell_type": "code",
      "execution_count": null,
      "metadata": {
        "colab": {
          "base_uri": "https://localhost:8080/"
        },
        "id": "kpOAlun47g3K",
        "outputId": "b7af5045-522d-4459-c5e6-390274722651"
      },
      "outputs": [
        {
          "name": "stdout",
          "output_type": "stream",
          "text": [
            "Confusion Matrix (Accuracy 0.5908)\n",
            "\n",
            "       Prediction\n",
            "Actual     0     1     2     3     4\n",
            "     0 80725  2614  5089     0     0\n",
            "     1 13299  6268  1707     0     0\n",
            "     2 21808  1271 10075     0     0\n",
            "     3 14784   375   865     0     0\n",
            "     4  4104   385   922     0     0\n"
          ]
        }
      ],
      "source": [
        "# Accuracy\n",
        "classificationSummary(y_train, mlp.predict(X_train))"
      ]
    },
    {
      "cell_type": "code",
      "execution_count": null,
      "metadata": {
        "colab": {
          "base_uri": "https://localhost:8080/"
        },
        "id": "_F2CzN_U7j0S",
        "outputId": "f5b87216-7708-47d1-c4b6-a875470ac6da"
      },
      "outputs": [
        {
          "data": {
            "text/plain": [
              "0.5885161785114309"
            ]
          },
          "execution_count": 40,
          "metadata": {},
          "output_type": "execute_result"
        }
      ],
      "source": [
        "# F1 score\n",
        "f1_score(y_valid, mlp.predict(X_valid), average='micro')"
      ]
    },
    {
      "cell_type": "markdown",
      "metadata": {
        "id": "DrH6y_pc6gno"
      },
      "source": [
        "#6th model: MLP with oversampling"
      ]
    },
    {
      "cell_type": "code",
      "execution_count": null,
      "metadata": {
        "colab": {
          "base_uri": "https://localhost:8080/"
        },
        "id": "98xVo8Oq8KBf",
        "outputId": "afb5f4ff-2bff-4248-d6fb-889d05e49cca"
      },
      "outputs": [
        {
          "data": {
            "text/plain": [
              "MLPClassifier(activation='logistic', hidden_layer_sizes=5, random_state=1)"
            ]
          },
          "execution_count": 41,
          "metadata": {},
          "output_type": "execute_result"
        }
      ],
      "source": [
        "# MLP with oversampling data\n",
        "mlp2 = MLPClassifier(hidden_layer_sizes=5, activation='logistic',solver='adam',random_state=1)\n",
        "mlp2.fit(X_res,y_res)"
      ]
    },
    {
      "cell_type": "code",
      "execution_count": null,
      "metadata": {
        "colab": {
          "base_uri": "https://localhost:8080/"
        },
        "id": "oypEAD__8Syb",
        "outputId": "ce119795-71f9-447e-e0e7-0e50ace2cdf1"
      },
      "outputs": [
        {
          "name": "stdout",
          "output_type": "stream",
          "text": [
            "Confusion Matrix (Accuracy 0.5124)\n",
            "\n",
            "       Prediction\n",
            "Actual     0     1     2     3     4\n",
            "     0 35747  4371 13042  3868  1924\n",
            "     1  4835  6169  2070   942   166\n",
            "     2  7867   764 12392   330   750\n",
            "     3  6481  1050  1244  1671   237\n",
            "     4  1598   547  1156   163   144\n"
          ]
        }
      ],
      "source": [
        "# Accuracy\n",
        "classificationSummary(y_valid, mlp2.predict(X_valid))"
      ]
    },
    {
      "cell_type": "code",
      "execution_count": null,
      "metadata": {
        "colab": {
          "base_uri": "https://localhost:8080/"
        },
        "id": "9S4Cco2z8Tpw",
        "outputId": "4c631d32-0d09-4d96-e439-72d36a601eca"
      },
      "outputs": [
        {
          "data": {
            "text/plain": [
              "0.2984129724768135"
            ]
          },
          "execution_count": 34,
          "metadata": {},
          "output_type": "execute_result"
        }
      ],
      "source": [
        "# F1 score\n",
        "f1_score(y_valid, mlp.predict(X_valid), average='macro')"
      ]
    },
    {
      "cell_type": "markdown",
      "metadata": {
        "id": "jpQSBOtd9NWA"
      },
      "source": [
        "#The best model"
      ]
    },
    {
      "cell_type": "markdown",
      "metadata": {
        "id": "Ga_rV-Sa9Sq2"
      },
      "source": [
        "Among all the models, 1st model (Random Forest) was the best based on accuracy and F1score."
      ]
    },
    {
      "cell_type": "markdown",
      "source": [
        "**Predict a crime type with new data**"
      ],
      "metadata": {
        "id": "k_eJNaRT5ePd"
      }
    },
    {
      "cell_type": "code",
      "source": [
        "row = [[-79.586443,43.697108,0.000000,0.000000,0.000000,0.000000,1.000000,0.000000,0.000000,0.000000,0.000000,1.000000,0.000000,0.000000,0.000000,0.000000,0.000000,0.000000,0.000000,0.000000,0.000000,0.000000,0.000000,0.000000,0.000000,0.000000,0.000000,0.000000,0.000000,1.000000,0.000000,0.000000,0.000000,0.000000,0.000000,0.000000,0.000000,0.000000,0.000000,0.000000,0.000000,0.000000,0.000000,0.000000,0.000000,0.000000,0.000000,0.000000,0.000000,0.000000,0.000000,1.000000,0.000000,0.000000,0.000000,0.000000,0.000000,0.000000,0.000000,0.000000,0.000000,0.000000,0.000000,0.000000,0.000000,0.000000,0.000000,0.000000,0.000000,0.000000,0.000000,0.000000,0.000000,0.000000,0.000000,0.000000,1.000000,0.000000]]"
      ],
      "metadata": {
        "id": "cwkWzkBxP83x"
      },
      "execution_count": null,
      "outputs": []
    },
    {
      "cell_type": "code",
      "source": [
        "pred = rfc.predict(row)"
      ],
      "metadata": {
        "colab": {
          "base_uri": "https://localhost:8080/"
        },
        "id": "vh4nA78WUT5Q",
        "outputId": "42e080a6-113a-4d86-a444-68a176cc0716"
      },
      "execution_count": null,
      "outputs": [
        {
          "output_type": "stream",
          "name": "stderr",
          "text": [
            "/usr/local/lib/python3.7/dist-packages/sklearn/base.py:451: UserWarning: X does not have valid feature names, but RandomForestClassifier was fitted with feature names\n",
            "  \"X does not have valid feature names, but\"\n"
          ]
        }
      ]
    },
    {
      "cell_type": "code",
      "source": [
        "pred"
      ],
      "metadata": {
        "colab": {
          "base_uri": "https://localhost:8080/"
        },
        "id": "DhYEodI_U0Xq",
        "outputId": "1f3dff8f-092a-4db2-ec2e-c30f9f9467ea"
      },
      "execution_count": null,
      "outputs": [
        {
          "output_type": "execute_result",
          "data": {
            "text/plain": [
              "array(['Auto Theft'], dtype=object)"
            ]
          },
          "metadata": {},
          "execution_count": 40
        }
      ]
    },
    {
      "cell_type": "code",
      "source": [
        "print('Predicted Class:', pred)"
      ],
      "metadata": {
        "colab": {
          "base_uri": "https://localhost:8080/"
        },
        "id": "pyRz0T87Uh12",
        "outputId": "0eaee210-2598-4827-9fde-9f6449babb21"
      },
      "execution_count": null,
      "outputs": [
        {
          "output_type": "stream",
          "name": "stdout",
          "text": [
            "Predicted Class: ['Auto Theft']\n"
          ]
        }
      ]
    },
    {
      "cell_type": "markdown",
      "metadata": {
        "id": "cHvkIQdXAiXg"
      },
      "source": [
        "**Check the important variables in the best model**"
      ]
    },
    {
      "cell_type": "code",
      "execution_count": 18,
      "metadata": {
        "colab": {
          "base_uri": "https://localhost:8080/"
        },
        "id": "mf0o8kGqAgq8",
        "outputId": "fa695d6e-08b6-40a1-be2a-a590703d8852"
      },
      "outputs": [
        {
          "output_type": "stream",
          "name": "stdout",
          "text": [
            "Looking in indexes: https://pypi.org/simple, https://us-python.pkg.dev/colab-wheels/public/simple/\n",
            "Requirement already satisfied: shap in /usr/local/lib/python3.7/dist-packages (0.41.0)\n",
            "Requirement already satisfied: numba in /usr/local/lib/python3.7/dist-packages (from shap) (0.56.0)\n",
            "Requirement already satisfied: tqdm>4.25.0 in /usr/local/lib/python3.7/dist-packages (from shap) (4.64.0)\n",
            "Requirement already satisfied: slicer==0.0.7 in /usr/local/lib/python3.7/dist-packages (from shap) (0.0.7)\n",
            "Requirement already satisfied: numpy in /usr/local/lib/python3.7/dist-packages (from shap) (1.21.6)\n",
            "Requirement already satisfied: packaging>20.9 in /usr/local/lib/python3.7/dist-packages (from shap) (21.3)\n",
            "Requirement already satisfied: cloudpickle in /usr/local/lib/python3.7/dist-packages (from shap) (1.5.0)\n",
            "Requirement already satisfied: scikit-learn in /usr/local/lib/python3.7/dist-packages (from shap) (1.0.2)\n",
            "Requirement already satisfied: scipy in /usr/local/lib/python3.7/dist-packages (from shap) (1.7.3)\n",
            "Requirement already satisfied: pandas in /usr/local/lib/python3.7/dist-packages (from shap) (1.3.5)\n",
            "Requirement already satisfied: pyparsing!=3.0.5,>=2.0.2 in /usr/local/lib/python3.7/dist-packages (from packaging>20.9->shap) (3.0.9)\n",
            "Requirement already satisfied: importlib-metadata in /usr/local/lib/python3.7/dist-packages (from numba->shap) (4.12.0)\n",
            "Requirement already satisfied: llvmlite<0.40,>=0.39.0dev0 in /usr/local/lib/python3.7/dist-packages (from numba->shap) (0.39.0)\n",
            "Requirement already satisfied: setuptools in /usr/local/lib/python3.7/dist-packages (from numba->shap) (57.4.0)\n",
            "Requirement already satisfied: zipp>=0.5 in /usr/local/lib/python3.7/dist-packages (from importlib-metadata->numba->shap) (3.8.1)\n",
            "Requirement already satisfied: typing-extensions>=3.6.4 in /usr/local/lib/python3.7/dist-packages (from importlib-metadata->numba->shap) (4.1.1)\n",
            "Requirement already satisfied: pytz>=2017.3 in /usr/local/lib/python3.7/dist-packages (from pandas->shap) (2022.2.1)\n",
            "Requirement already satisfied: python-dateutil>=2.7.3 in /usr/local/lib/python3.7/dist-packages (from pandas->shap) (2.8.2)\n",
            "Requirement already satisfied: six>=1.5 in /usr/local/lib/python3.7/dist-packages (from python-dateutil>=2.7.3->pandas->shap) (1.15.0)\n",
            "Requirement already satisfied: threadpoolctl>=2.0.0 in /usr/local/lib/python3.7/dist-packages (from scikit-learn->shap) (3.1.0)\n",
            "Requirement already satisfied: joblib>=0.11 in /usr/local/lib/python3.7/dist-packages (from scikit-learn->shap) (1.1.0)\n"
          ]
        }
      ],
      "source": [
        "# Import the packages\n",
        "!pip install shap\n",
        "import shap"
      ]
    },
    {
      "cell_type": "code",
      "execution_count": 19,
      "metadata": {
        "id": "yQxrQC_xAyYI"
      },
      "outputs": [],
      "source": [
        "explainer = shap.TreeExplainer(model=xg)"
      ]
    },
    {
      "cell_type": "code",
      "execution_count": 20,
      "metadata": {
        "id": "d7FfYX3IA6Kf"
      },
      "outputs": [],
      "source": [
        "shap_values = explainer.shap_values(X=X_train)"
      ]
    },
    {
      "cell_type": "code",
      "execution_count": 21,
      "metadata": {
        "id": "YmwJsbRDA8Tq"
      },
      "outputs": [],
      "source": [
        "shap.summary_plot(shap_values, X_train, plot_type='bar')"
      ]
    }
  ],
  "metadata": {
    "colab": {
      "name": "Crime Type Prediction.ipynb",
      "provenance": [],
      "machine_shape": "hm",
      "collapsed_sections": [
        "tU_6JuJT4JCH",
        "E86cH2Nw6lGL",
        "dpBZNsI46rJH",
        "PGDxVl7G6b-h",
        "DrH6y_pc6gno"
      ]
    },
    "gpuClass": "standard",
    "kernelspec": {
      "display_name": "Python 3",
      "name": "python3"
    },
    "language_info": {
      "name": "python"
    },
    "accelerator": "GPU"
  },
  "nbformat": 4,
  "nbformat_minor": 0
}